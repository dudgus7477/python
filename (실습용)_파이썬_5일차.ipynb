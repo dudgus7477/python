{
  "nbformat": 4,
  "nbformat_minor": 0,
  "metadata": {
    "colab": {
      "provenance": [],
      "include_colab_link": true
    },
    "kernelspec": {
      "name": "python3",
      "display_name": "Python 3"
    }
  },
  "cells": [
    {
      "cell_type": "markdown",
      "metadata": {
        "id": "view-in-github",
        "colab_type": "text"
      },
      "source": [
        "<a href=\"https://colab.research.google.com/github/dudgus7477/python/blob/main/(%EC%8B%A4%EC%8A%B5%EC%9A%A9)_%ED%8C%8C%EC%9D%B4%EC%8D%AC_5%EC%9D%BC%EC%B0%A8.ipynb\" target=\"_parent\"><img src=\"https://colab.research.google.com/assets/colab-badge.svg\" alt=\"Open In Colab\"/></a>"
      ]
    },
    {
      "cell_type": "markdown",
      "metadata": {
        "id": "6n9IjADZt4Z5"
      },
      "source": [
        "#  1. 리스트\n",
        "\n",
        "```\n",
        "리스트 여러 데이터를 한 번에 묶어서 표현\n",
        "리스트이름 = [데이터1, 데이터2, ..., 데이터n]\n",
        "```\n",
        "\n",
        "> 실생활의 리스트 \n",
        "    \n",
        "<img src='https://github.com/teacher-jiejie/allinone_AI/blob/images/56_%EC%82%AC%EC%95%BC%ED%95%A0%20%EB%A6%AC%EC%8A%A4%ED%8A%B8.png?raw=true' width=150>\n",
        "\n",
        "</br>\n",
        "</br>\n",
        "\n",
        "> 파이썬의 리스트\n",
        "\n",
        "<img src='https://github.com/teacher-jiejie/allinone_AI/blob/images/6_%EB%A6%AC%EC%8A%A4%ED%8A%B8%EA%B0%9C%EB%85%90.png?raw=true' width=600>\n",
        "\n",
        "\n",
        "\n"
      ]
    },
    {
      "cell_type": "code",
      "metadata": {
        "id": "oQPOx1sVvWGh"
      },
      "source": [
        "# 1월 지출부터 6월 지출까지 리스트로 만들기\n"
      ],
      "execution_count": null,
      "outputs": []
    },
    {
      "cell_type": "code",
      "metadata": {
        "id": "WyZJMv8jvWGk"
      },
      "source": [],
      "execution_count": null,
      "outputs": []
    },
    {
      "cell_type": "code",
      "metadata": {
        "id": "7Llghql2vWGl"
      },
      "source": [],
      "execution_count": null,
      "outputs": []
    },
    {
      "cell_type": "markdown",
      "metadata": {
        "id": "TKe3-L5lNYYN"
      },
      "source": [
        "### 리스트와 인덱스\n",
        "<img src ='https://github.com/teacher-jiejie/allinone_AI/blob/images/7_%EB%A6%AC%EC%8A%A4%ED%8A%B8%EC%9D%B8%EB%8D%B1%EC%8A%A4.png?raw=true' width =700>"
      ]
    },
    {
      "cell_type": "code",
      "metadata": {
        "id": "5mLzA4cXvalW"
      },
      "source": [
        "# 1월 지출은?\n"
      ],
      "execution_count": null,
      "outputs": []
    },
    {
      "cell_type": "code",
      "metadata": {
        "id": "TQqYs6_yvalX"
      },
      "source": [
        "# 6월 지출은?\n"
      ],
      "execution_count": null,
      "outputs": []
    },
    {
      "cell_type": "code",
      "metadata": {
        "id": "-3HHzgwQvalX"
      },
      "source": [
        "# 3월 지출은?\n"
      ],
      "execution_count": null,
      "outputs": []
    },
    {
      "cell_type": "markdown",
      "metadata": {
        "id": "Er1EdCA3jfx3"
      },
      "source": [
        "알고보니 4월 지출이 10낮게 기록됐다. 4월 지출에 10을 더하시오"
      ]
    },
    {
      "cell_type": "code",
      "metadata": {
        "id": "Gjh17yfove5a"
      },
      "source": [],
      "execution_count": null,
      "outputs": []
    },
    {
      "cell_type": "markdown",
      "metadata": {
        "id": "jxiiZRt3ve5b"
      },
      "source": [
        "5월 지출을 2로 나누시오"
      ]
    },
    {
      "cell_type": "code",
      "metadata": {
        "id": "RzwMJLLGve5b"
      },
      "source": [],
      "execution_count": null,
      "outputs": []
    },
    {
      "cell_type": "markdown",
      "metadata": {
        "id": "6GNtA_6rE1lY"
      },
      "source": [
        "### 마이너스 인덱스\n",
        "\n",
        "<img src = 'https://github.com/teacher-jiejie/allinone_AI/blob/images/8_%EB%A6%AC%EC%8A%A4%ED%8A%B8%20%EB%A7%88%EC%9D%B4%EB%84%88%EC%8A%A4%EC%9D%B8%EB%8D%B1%EC%8A%A4.png?raw=true' width=500>"
      ]
    },
    {
      "cell_type": "code",
      "metadata": {
        "id": "T52uhQWrvkEZ"
      },
      "source": [],
      "execution_count": null,
      "outputs": []
    },
    {
      "cell_type": "code",
      "metadata": {
        "id": "yv1W_nP_vkEZ"
      },
      "source": [],
      "execution_count": null,
      "outputs": []
    },
    {
      "cell_type": "markdown",
      "metadata": {
        "id": "mcMUi8x-OEod"
      },
      "source": [
        "#  2.  리스트의 다양한 기능\n",
        "\n",
        "### 리스트 길이 확인 \n",
        "> len(리스트이름)           \n",
        "\n"
      ]
    },
    {
      "cell_type": "code",
      "metadata": {
        "id": "PVBaOrEONp4H"
      },
      "source": [],
      "execution_count": null,
      "outputs": []
    },
    {
      "cell_type": "markdown",
      "metadata": {
        "id": "E_Y7AFD0TFIB"
      },
      "source": [
        "### 리스트에 데이터 추가하기\n",
        "\n",
        "> 리스트이름.append(데이터)  \n",
        "\n",
        "\n",
        "\n",
        "```\n",
        "food = ['피자','치킨','떡볶이','스테이크','파스타']\n",
        "```\n",
        "\n",
        "\n"
      ]
    },
    {
      "cell_type": "code",
      "metadata": {
        "id": "PYw7ooYGNp65"
      },
      "source": [],
      "execution_count": null,
      "outputs": []
    },
    {
      "cell_type": "code",
      "metadata": {
        "id": "I7i_vU_D-rGP"
      },
      "source": [
        "# 카레 추가\n"
      ],
      "execution_count": null,
      "outputs": []
    },
    {
      "cell_type": "markdown",
      "metadata": {
        "id": "IGU9mv18M_PG"
      },
      "source": [
        "### 빈 리스트 만들고 데이터 추가하기"
      ]
    },
    {
      "cell_type": "code",
      "metadata": {
        "id": "GYzqWARONDK-"
      },
      "source": [
        "# 해야할 일을 저장하는 리스트 to_do\n"
      ],
      "execution_count": null,
      "outputs": []
    },
    {
      "cell_type": "code",
      "metadata": {
        "id": "0r1zYRJ_vrp8"
      },
      "source": [
        "# 해야할 일을 입력받아 to_do에 저장하기\n"
      ],
      "execution_count": null,
      "outputs": []
    },
    {
      "cell_type": "code",
      "metadata": {
        "id": "2mUJG2Jevrp9"
      },
      "source": [],
      "execution_count": null,
      "outputs": []
    },
    {
      "cell_type": "markdown",
      "metadata": {
        "id": "VcinMKvjPO_n"
      },
      "source": [
        "### 리스트 슬라이싱\n",
        "\n",
        "\n",
        "> 리스트[시작숫자 : 종료숫자]\n",
        "\n",
        "<img src = 'https://github.com/teacher-jiejie/allinone_AI/blob/images/9_%EB%A6%AC%EC%8A%A4%ED%8A%B8%EC%8A%AC%EB%9D%BC%EC%9D%B4%EC%8B%B1.png?raw=true' width=500>\n",
        "\n",
        "\n",
        "종료숫자-1 까지 잘라내는 것\n",
        "\n",
        "```\n",
        "abc[2:5]       # abc[2]~abc[4]까지 슬라이싱\n",
        "abc[4:9]       # abc[4]~abc[8]까지 슬라이싱\n",
        "```\n",
        "\n",
        "\n",
        "\n",
        "\n",
        "```\n",
        "food = ['피자','치킨','떡볶이','스테이크','파스타']\n",
        "```\n",
        "\n",
        "\n",
        "\n",
        "\n",
        "\n",
        "\n"
      ]
    },
    {
      "cell_type": "code",
      "metadata": {
        "id": "skKBPcWnO31V"
      },
      "source": [],
      "execution_count": null,
      "outputs": []
    },
    {
      "cell_type": "code",
      "metadata": {
        "id": "5T90E9u2PzQl"
      },
      "source": [
        "# 떡볶이, 스테이크만 골라내기\n"
      ],
      "execution_count": null,
      "outputs": []
    },
    {
      "cell_type": "code",
      "metadata": {
        "id": "u8_ZjYbVPzXv"
      },
      "source": [
        "# 처음부터 스테이크까지 골라내기\n"
      ],
      "execution_count": null,
      "outputs": []
    },
    {
      "cell_type": "code",
      "metadata": {
        "id": "DGT1u07APzWH"
      },
      "source": [
        "# 뒤에서 n개 데이터 슬라이싱\n"
      ],
      "execution_count": null,
      "outputs": []
    },
    {
      "cell_type": "markdown",
      "metadata": {
        "id": "2GzeP7MRQ1BC"
      },
      "source": [
        "### 문자열 슬라이싱"
      ]
    },
    {
      "cell_type": "code",
      "metadata": {
        "id": "trbsdMEzQ38P"
      },
      "source": [],
      "execution_count": null,
      "outputs": []
    },
    {
      "cell_type": "code",
      "metadata": {
        "id": "uJp-ceSnQ3_b"
      },
      "source": [],
      "execution_count": null,
      "outputs": []
    },
    {
      "cell_type": "code",
      "metadata": {
        "id": "cUQ_6ORgQ4BE"
      },
      "source": [],
      "execution_count": null,
      "outputs": []
    },
    {
      "cell_type": "code",
      "metadata": {
        "id": "y1Wh1NQqDTc2"
      },
      "source": [],
      "execution_count": null,
      "outputs": []
    },
    {
      "cell_type": "markdown",
      "metadata": {
        "id": "Teyp7VgNO0Rt"
      },
      "source": [
        "### split()으로 문자열 슬라이싱"
      ]
    },
    {
      "cell_type": "code",
      "metadata": {
        "id": "EsKzoWaCO4u5"
      },
      "source": [],
      "execution_count": null,
      "outputs": []
    },
    {
      "cell_type": "code",
      "metadata": {
        "id": "a7DAbSNRO4yY"
      },
      "source": [
        "# 공백을 기준으로 split\n"
      ],
      "execution_count": null,
      "outputs": []
    },
    {
      "cell_type": "code",
      "metadata": {
        "id": "6hR9rP6vO41D"
      },
      "source": [
        "# 0을 기준으로 split\n"
      ],
      "execution_count": null,
      "outputs": []
    },
    {
      "cell_type": "code",
      "metadata": {
        "id": "WLiSb170PR-a"
      },
      "source": [
        "# -을 기준으로 split\n"
      ],
      "execution_count": null,
      "outputs": []
    },
    {
      "cell_type": "code",
      "metadata": {
        "id": "xR6IRYuiv6qq"
      },
      "source": [
        "# split의 결과는 리스트이므로 인덱스 사용 가능\n"
      ],
      "execution_count": null,
      "outputs": []
    },
    {
      "cell_type": "code",
      "metadata": {
        "id": "L0ityv4av6qr"
      },
      "source": [
        "# split의 결과는 문자이므로 숫자로 변환해야 함\n"
      ],
      "execution_count": null,
      "outputs": []
    },
    {
      "cell_type": "markdown",
      "metadata": {
        "id": "ci8lL5bpkDqH"
      },
      "source": [
        "\n",
        "실습\n",
        "```\n",
        "date = '2023-05-17'\n",
        "```\n",
        "\n",
        "위 date에서 월(month)만 골라내 숫자형태로 변수 mon에 저장하시오."
      ]
    },
    {
      "cell_type": "code",
      "metadata": {
        "id": "oi4InWd-R5hK"
      },
      "source": [
        "\n",
        "\n",
        "# 월만 골라내기(1, 2,,, 11)\n"
      ],
      "execution_count": null,
      "outputs": []
    },
    {
      "cell_type": "markdown",
      "metadata": {
        "id": "1SNURQRPkLjp"
      },
      "source": [
        "위 date에서 일(day)만 숫자 형태로 골라내 변수에 저장하시오."
      ]
    },
    {
      "cell_type": "code",
      "metadata": {
        "id": "EV6_JAjDR5lz"
      },
      "source": [
        "# 일만 골라내기\n"
      ],
      "execution_count": null,
      "outputs": []
    },
    {
      "cell_type": "markdown",
      "metadata": {
        "id": "g9zPvPI_L77Z"
      },
      "source": [
        "# 3. 리스트와 제어구조"
      ]
    },
    {
      "cell_type": "markdown",
      "metadata": {
        "id": "rSZ692PtQhAL"
      },
      "source": [
        "### 1) for a in data 에서 data에 리스트를 넣을 때 "
      ]
    },
    {
      "cell_type": "markdown",
      "metadata": {
        "id": "FAq15VaRk9Ai"
      },
      "source": [
        "다음 spend의 모든 원소를 차례대로 출력하시오 \n",
        "\n",
        "\n",
        "```\n",
        "spending = [25, 36, 8, 53, 24, 56]\n",
        "```\n",
        "\n"
      ]
    },
    {
      "cell_type": "code",
      "metadata": {
        "id": "MmEk_JyhwAFE"
      },
      "source": [],
      "execution_count": null,
      "outputs": []
    },
    {
      "cell_type": "code",
      "metadata": {
        "id": "voZWBklTwAFF"
      },
      "source": [
        "# 50이상 쓴 금액을 출력하시오\n",
        "\n"
      ],
      "execution_count": null,
      "outputs": []
    },
    {
      "cell_type": "markdown",
      "metadata": {
        "id": "6PjVJDc2wAFF"
      },
      "source": [
        "\n",
        "\n",
        "### 2) for a in data 에서 data에 range()를 넣을 때\n"
      ]
    },
    {
      "cell_type": "code",
      "metadata": {
        "id": "VnjOn4sEwAFF"
      },
      "source": [
        "# 인덱스를 활용하고 싶을 때 range()\n"
      ],
      "execution_count": null,
      "outputs": []
    },
    {
      "cell_type": "code",
      "metadata": {
        "id": "vJLpYsvRwAFF"
      },
      "source": [
        "# 인덱스는 0부터 시작\n"
      ],
      "execution_count": null,
      "outputs": []
    },
    {
      "cell_type": "code",
      "metadata": {
        "id": "rVn5bGGbwAFG"
      },
      "source": [
        "# len() 활용하기\n"
      ],
      "execution_count": null,
      "outputs": []
    },
    {
      "cell_type": "code",
      "metadata": {
        "id": "1nw9o6ygwAFG"
      },
      "source": [
        "# range()가 0부터 시작하면 생략 가능\n"
      ],
      "execution_count": null,
      "outputs": []
    },
    {
      "cell_type": "markdown",
      "metadata": {
        "id": "Mliij-AiZr4_"
      },
      "source": [
        "# 4. 이차원 리스트\n",
        "\n",
        "<img src ='https://github.com/teacher-jiejie/allinone_AI/blob/images/14_%EC%9D%B4%EC%B0%A8%EC%9B%90%20%EB%A6%AC%EC%8A%A4%ED%8A%B8.png?raw=true' width = 700>"
      ]
    },
    {
      "cell_type": "code",
      "metadata": {
        "id": "4acOxb9Dul8O"
      },
      "source": [],
      "execution_count": null,
      "outputs": []
    },
    {
      "cell_type": "code",
      "metadata": {
        "id": "BQ0u3IM-yUd_"
      },
      "source": [],
      "execution_count": null,
      "outputs": []
    },
    {
      "cell_type": "code",
      "metadata": {
        "id": "gyt8s3mtpiTF"
      },
      "source": [],
      "execution_count": null,
      "outputs": []
    },
    {
      "cell_type": "code",
      "metadata": {
        "id": "smaYOq_bpiY8"
      },
      "source": [],
      "execution_count": null,
      "outputs": []
    },
    {
      "cell_type": "markdown",
      "metadata": {
        "id": "IROs-Ha0yUj2"
      },
      "source": [
        "## 이차원 리스트의 인덱스\n",
        "\n",
        "<img src = 'https://github.com/teacher-jiejie/allinone_AI/blob/images/15_%EC%9D%B4%EC%B0%A8%EC%9B%90%20%EB%A6%AC%EC%8A%A4%ED%8A%B8%20%EC%9D%B8%EB%8D%B1%EC%8A%A4.png?raw=true' width = 700>"
      ]
    },
    {
      "cell_type": "code",
      "metadata": {
        "id": "1U_e8JPXul-I"
      },
      "source": [
        "# 1 출력하기\n"
      ],
      "execution_count": null,
      "outputs": []
    },
    {
      "cell_type": "markdown",
      "metadata": {
        "id": "-bcfTuieldf0"
      },
      "source": [
        "이차원 리스트 abc에서 인덱스를 활용해 다음 숫자를 출력하시오"
      ]
    },
    {
      "cell_type": "code",
      "metadata": {
        "id": "lhEJ64vTumAI"
      },
      "source": [
        "# 6 출력하기\n"
      ],
      "execution_count": null,
      "outputs": []
    },
    {
      "cell_type": "code",
      "metadata": {
        "id": "8dolImUrumCS"
      },
      "source": [
        "# 8 출력하기\n"
      ],
      "execution_count": null,
      "outputs": []
    },
    {
      "cell_type": "markdown",
      "metadata": {
        "id": "2YUUytTsftU5"
      },
      "source": [
        "## 반복문과 이차원 리스트"
      ]
    },
    {
      "cell_type": "code",
      "metadata": {
        "id": "vIwkSkIuyYwV"
      },
      "source": [],
      "execution_count": null,
      "outputs": []
    },
    {
      "cell_type": "markdown",
      "metadata": {
        "id": "-bbMjsKVyY4B"
      },
      "source": [
        "> 이차원리스트 반복 원리\n",
        "\n",
        "<img src = 'https://github.com/teacher-jiejie/allinone_AI/blob/images/16_%EC%9D%B4%EC%B0%A8%EC%9B%90%20%EB%A6%AC%EC%8A%A4%ED%8A%B8%20%EB%B0%98%EB%B3%B5%EA%B5%AC%EC%A1%B0.png?raw=true' width=800>"
      ]
    },
    {
      "cell_type": "code",
      "metadata": {
        "id": "t4LqJgCdyh03"
      },
      "source": [
        "# 모든 줄의 첫번째 데이터만 출력\n"
      ],
      "execution_count": null,
      "outputs": []
    },
    {
      "cell_type": "code",
      "metadata": {
        "id": "N3J7nAOrrTWs"
      },
      "source": [
        "# 모든 줄의 마지막 데이터(세번째 열)만 출력\n"
      ],
      "execution_count": null,
      "outputs": []
    },
    {
      "cell_type": "markdown",
      "metadata": {
        "id": "gKl6ITBVf4dN"
      },
      "source": [
        "# 5. 올림픽 데이터 \n",
        "##### 제 32회 도쿄 올림픽"
      ]
    },
    {
      "cell_type": "markdown",
      "metadata": {
        "id": "bIBp6iFLMfqY"
      },
      "source": [
        "![캡처.JPG](data:image/jpeg;base64,/9j/4AAQSkZJRgABAQEAYABgAAD/4RDQRXhpZgAATU0AKgAAAAgABAE7AAIAAAADUEMAAIdpAAQAAAABAAAISpydAAEAAAAGAAAQwuocAAcAAAgMAAAAPgAAAAAc6gAAAAgAAAAAAAAAAAAAAAAAAAAAAAAAAAAAAAAAAAAAAAAAAAAAAAAAAAAAAAAAAAAAAAAAAAAAAAAAAAAAAAAAAAAAAAAAAAAAAAAAAAAAAAAAAAAAAAAAAAAAAAAAAAAAAAAAAAAAAAAAAAAAAAAAAAAAAAAAAAAAAAAAAAAAAAAAAAAAAAAAAAAAAAAAAAAAAAAAAAAAAAAAAAAAAAAAAAAAAAAAAAAAAAAAAAAAAAAAAAAAAAAAAAAAAAAAAAAAAAAAAAAAAAAAAAAAAAAAAAAAAAAAAAAAAAAAAAAAAAAAAAAAAAAAAAAAAAAAAAAAAAAAAAAAAAAAAAAAAAAAAAAAAAAAAAAAAAAAAAAAAAAAAAAAAAAAAAAAAAAAAAAAAAAAAAAAAAAAAAAAAAAAAAAAAAAAAAAAAAAAAAAAAAAAAAAAAAAAAAAAAAAAAAAAAAAAAAAAAAAAAAAAAAAAAAAAAAAAAAAAAAAAAAAAAAAAAAAAAAAAAAAAAAAAAAAAAAAAAAAAAAAAAAAAAAAAAAAAAAAAAAAAAAAAAAAAAAAAAAAAAAAAAAAAAAAAAAAAAAAAAAAAAAAAAAAAAAAAAAAAAAAAAAAAAAAAAAAAAAAAAAAAAAAAAAAAAAAAAAAAAAAAAAAAAAAAAAAAAAAAAAAAAAAAAAAAAAAAAAAAAAAAAAAAAAAAAAAAAAAAAAAAAAAAAAAAAAAAAAAAAAAAAAAAAAAAAAAAAAAAAAAAAAAAAAAAAAAAAAAAAAAAAAAAAAAAAAAAAAAAAAAAAAAAAAAAAAAAAAAAAAAAAAAAAAAAAAAAAAAAAAAAAAAAAAAAAAAAAAAAAAAAAAAAAAAAAAAAAAAAAAAAAAAAAAAAAAAAAAAAAAAAAAAAAAAAAAAAAAAAAAAAAAAAAAAAAAAAAAAAAAAAAAAAAAAAAAAAAAAAAAAAAAAAAAAAAAAAAAAAAAAAAAAAAAAAAAAAAAAAAAAAAAAAAAAAAAAAAAAAAAAAAAAAAAAAAAAAAAAAAAAAAAAAAAAAAAAAAAAAAAAAAAAAAAAAAAAAAAAAAAAAAAAAAAAAAAAAAAAAAAAAAAAAAAAAAAAAAAAAAAAAAAAAAAAAAAAAAAAAAAAAAAAAAAAAAAAAAAAAAAAAAAAAAAAAAAAAAAAAAAAAAAAAAAAAAAAAAAAAAAAAAAAAAAAAAAAAAAAAAAAAAAAAAAAAAAAAAAAAAAAAAAAAAAAAAAAAAAAAAAAAAAAAAAAAAAAAAAAAAAAAAAAAAAAAAAAAAAAAAAAAAAAAAAAAAAAAAAAAAAAAAAAAAAAAAAAAAAAAAAAAAAAAAAAAAAAAAAAAAAAAAAAAAAAAAAAAAAAAAAAAAAAAAAAAAAAAAAAAAAAAAAAAAAAAAAAAAAAAAAAAAAAAAAAAAAAAAAAAAAAAAAAAAAAAAAAAAAAAAAAAAAAAAAAAAAAAAAAAAAAAAAAAAAAAAAAAAAAAAAAAAAAAAAAAAAAAAAAAAAAAAAAAAAAAAAAAAAAAAAAAAAAAAAAAAAAAAAAAAAAAAAAAAAAAAAAAAAAAAAAAAAAAAAAAAAAAAAAAAAAAAAAAAAAAAAAAAAAAAAAAAAAAAAAAAAAAAAAAAAAAAAAAAAAAAAAAAAAAAAAAAAAAAAAAAAAAAAAAAAAAAAAAAAAAAAAAAAAAAAAAAAAAAAAAAAAAAAAAAAAAAAAAAAAAAAAAAAAAAAAAAAAAAAAAAAAAAAAAAAAAAAAAAAAAAAAAAAAAAAAAAAAAAAAAAAAAAAAAAAAAAAAAAAAAAAAAAAAAAAAAAAAAAAAAAAAAAAAAAAAAAAAAAAAAAAAAAAAAAAAAAAAAAAAAAAAAAAAAAAAAAAAAAAAAAAAAAAAAAAAAAAAAAAAAAAAAAAAAAAAAAAAAAAAAAAAAAAAAAAAAAAAAAAAAAAAAAAAAAAAAAAAAAAAAAAAAAAAAAAAAAAAAAAAAAAAAAAAAAAAAAAAAAAAAAAAAAAAAAAAAAAAAAAAAAAAAAAAAAAAAAAAAAAAAAAAAAAAAAAAAAAAAAAAAAAAAAAAAAAAAAAAAAAAAAAAAAAAAAAAAAAAAAAAAAAAAAAAAAAAAAAAAAAAAAAAAAAAAAAAAAAAAAAAAAAAAAAAAAAAAAAAAAAAAAAAAAAAAAAAAAAAAAAAAAAAAAAAAAAAAAAAAAAAAAAAAAAAAAAAAAAAAAAAAAAAAAAAAAAAAAAAAAAAAAAAAAAAAAAAAAAAAAAAAAAAAAAAAAAAAAAAAAAAAAAAAAAAAAAAAAAAAAAAAAAAAAAAAAAAAAAAAAAAAAAAAAAAAAAAAAAAAAAAAAAAAAAAAAAAAAAAAAAAAAAAAAAAAAAAAAAAAAAAAAAAAAAAAAAAAAAAAAAAAAAAAAAAAAAAAAAAAAAAAAAAAAAAAAAAAAAAAAAAAAAAAAAAAAAAAAAAAAAAAAAAAAAAAAAAAAAAAAAAAAAAAAAAAAAAAAAAAAAAAAAAAAAAAAAAAAAAAAAAAAAAAAAAAAAAAAAAAAAAAAAAAAAAAAAAAAAAAAAAAAAAAAAAAAAAAAAAAAAAAAAAAAAAAAAAAAAAAAAAAAAAAAAAAAAAAAAAAAAAAAAAAAAAAAAAAAAAAAAAAAAAAAAAAAAAAAAAAAAAAAAAAAAAAAAAAAAAAAAAAAAAAAAAAAAAAAAAAAAAAAAAAAAAAAAAAAAAAAAAAAAAAAAAAAAAAAAAAAAAAAAAAAAAAAAAFkAMAAgAAABQAABCYkAQAAgAAABQAABCskpEAAgAAAAM1NwAAkpIAAgAAAAM1NwAA6hwABwAACAwAAAiMAAAAABzqAAAACAAAAAAAAAAAAAAAAAAAAAAAAAAAAAAAAAAAAAAAAAAAAAAAAAAAAAAAAAAAAAAAAAAAAAAAAAAAAAAAAAAAAAAAAAAAAAAAAAAAAAAAAAAAAAAAAAAAAAAAAAAAAAAAAAAAAAAAAAAAAAAAAAAAAAAAAAAAAAAAAAAAAAAAAAAAAAAAAAAAAAAAAAAAAAAAAAAAAAAAAAAAAAAAAAAAAAAAAAAAAAAAAAAAAAAAAAAAAAAAAAAAAAAAAAAAAAAAAAAAAAAAAAAAAAAAAAAAAAAAAAAAAAAAAAAAAAAAAAAAAAAAAAAAAAAAAAAAAAAAAAAAAAAAAAAAAAAAAAAAAAAAAAAAAAAAAAAAAAAAAAAAAAAAAAAAAAAAAAAAAAAAAAAAAAAAAAAAAAAAAAAAAAAAAAAAAAAAAAAAAAAAAAAAAAAAAAAAAAAAAAAAAAAAAAAAAAAAAAAAAAAAAAAAAAAAAAAAAAAAAAAAAAAAAAAAAAAAAAAAAAAAAAAAAAAAAAAAAAAAAAAAAAAAAAAAAAAAAAAAAAAAAAAAAAAAAAAAAAAAAAAAAAAAAAAAAAAAAAAAAAAAAAAAAAAAAAAAAAAAAAAAAAAAAAAAAAAAAAAAAAAAAAAAAAAAAAAAAAAAAAAAAAAAAAAAAAAAAAAAAAAAAAAAAAAAAAAAAAAAAAAAAAAAAAAAAAAAAAAAAAAAAAAAAAAAAAAAAAAAAAAAAAAAAAAAAAAAAAAAAAAAAAAAAAAAAAAAAAAAAAAAAAAAAAAAAAAAAAAAAAAAAAAAAAAAAAAAAAAAAAAAAAAAAAAAAAAAAAAAAAAAAAAAAAAAAAAAAAAAAAAAAAAAAAAAAAAAAAAAAAAAAAAAAAAAAAAAAAAAAAAAAAAAAAAAAAAAAAAAAAAAAAAAAAAAAAAAAAAAAAAAAAAAAAAAAAAAAAAAAAAAAAAAAAAAAAAAAAAAAAAAAAAAAAAAAAAAAAAAAAAAAAAAAAAAAAAAAAAAAAAAAAAAAAAAAAAAAAAAAAAAAAAAAAAAAAAAAAAAAAAAAAAAAAAAAAAAAAAAAAAAAAAAAAAAAAAAAAAAAAAAAAAAAAAAAAAAAAAAAAAAAAAAAAAAAAAAAAAAAAAAAAAAAAAAAAAAAAAAAAAAAAAAAAAAAAAAAAAAAAAAAAAAAAAAAAAAAAAAAAAAAAAAAAAAAAAAAAAAAAAAAAAAAAAAAAAAAAAAAAAAAAAAAAAAAAAAAAAAAAAAAAAAAAAAAAAAAAAAAAAAAAAAAAAAAAAAAAAAAAAAAAAAAAAAAAAAAAAAAAAAAAAAAAAAAAAAAAAAAAAAAAAAAAAAAAAAAAAAAAAAAAAAAAAAAAAAAAAAAAAAAAAAAAAAAAAAAAAAAAAAAAAAAAAAAAAAAAAAAAAAAAAAAAAAAAAAAAAAAAAAAAAAAAAAAAAAAAAAAAAAAAAAAAAAAAAAAAAAAAAAAAAAAAAAAAAAAAAAAAAAAAAAAAAAAAAAAAAAAAAAAAAAAAAAAAAAAAAAAAAAAAAAAAAAAAAAAAAAAAAAAAAAAAAAAAAAAAAAAAAAAAAAAAAAAAAAAAAAAAAAAAAAAAAAAAAAAAAAAAAAAAAAAAAAAAAAAAAAAAAAAAAAAAAAAAAAAAAAAAAAAAAAAAAAAAAAAAAAAAAAAAAAAAAAAAAAAAAAAAAAAAAAAAAAAAAAAAAAAAAAAAAAAAAAAAAAAAAAAAAAAAAAAAAAAAAAAAAAAAAAAAAAAAAAAAAAAAAAAAAAAAAAAAAAAAAAAAAAAAAAAAAAAAAAAAAAAAAAAAAAAAAAAAAAAAAAAAAAAAAAAAAAAAAAAAAAAAAAAAAAAAAAAAAAAAAAAAAAAAAAAAAAAAAAAAAAAAAAAAAAAAAAAAAAAAAAAAAAAAAAAAAAAAAAAAAAAAAAAAAAAAAAAAAAAAAAAAAAAAAAAAAAAAAAAAAAAAAAAAAAAAAAAAAAAAAAAAAAAAAAAAAAAAAAAAAAAAAAAAAAAAAAAAAAAAAAAAAAAAAAAAAAAAAAAAAAAAAAAAAAAAAAAAAAAAAAAAAAAAAAAAAAAAAAAAAAAAAAAAAAAAAAAAAAAAAAAAAAAAAAAAAAAAAAAAAAAAAAAAAAAAAAAAAAAAAAAAAAAAAAAAAAAAAAAAAAAAAAAAAAAAAAAAAAAAAAAAAAAAAAAAAAAAAAAAAAAAAAAAAAAAAAAAAAAAAAAAAAAAAAAAAAAAAAAAAAAAAAAAAAAAAAAAAAAAAAAAAAAAAAAAAAAAAAAAAAAAAAAAAAAAAAAAAAAAAAAAAAAAAAAAAAAAAAAAAAAAAAAAAAAAAAAAAAAAAAAAAAAAAAAAAAAAAAAAAAAAAAAAAAAAAAAAAAAAAAAAAAAAAAAAAAAAAAAAAAAAAAAAAAAAAAAAAAAAAAAAAAAAAAAAAAAAAAAAAAAAAAAAAAAAAAAAAAAAAAAAAAAAAAAAAAAAAAAAAAAAAAAAAAAAAAAAAAAAAAAAAAAAAAAAAAAAAAAAAAAAAAAAAAAAAAAAAAAAAAAAAAAAAAAAAAAAAAAAAAAAAAAAAAAAAAAAAAAAAAAAAAAAAAAAAAAAAAAAAAAAAAAAAAAAAAAAAAAAAAAAAAAAAAAAAAAAAAAAAAAAAAAAAAAAAAAAAAAAAAAAAAAAAAAAAAAAAAAAAAAAAAAAAAAAAAAAAAAAAAAAAAAAAAAAAAAAAAAAAAAAAAAAAAAAAAAAAAAAAAAAAAMjAyMzowNToxNSAxOTo0NDo0MgAyMDIzOjA1OjE1IDE5OjQ0OjQyAAAAUABDAAAA/+ELFWh0dHA6Ly9ucy5hZG9iZS5jb20veGFwLzEuMC8APD94cGFja2V0IGJlZ2luPSfvu78nIGlkPSdXNU0wTXBDZWhpSHpyZVN6TlRjemtjOWQnPz4NCjx4OnhtcG1ldGEgeG1sbnM6eD0iYWRvYmU6bnM6bWV0YS8iPjxyZGY6UkRGIHhtbG5zOnJkZj0iaHR0cDovL3d3dy53My5vcmcvMTk5OS8wMi8yMi1yZGYtc3ludGF4LW5zIyI+PHJkZjpEZXNjcmlwdGlvbiByZGY6YWJvdXQ9InV1aWQ6ZmFmNWJkZDUtYmEzZC0xMWRhLWFkMzEtZDMzZDc1MTgyZjFiIiB4bWxuczpkYz0iaHR0cDovL3B1cmwub3JnL2RjL2VsZW1lbnRzLzEuMS8iLz48cmRmOkRlc2NyaXB0aW9uIHJkZjphYm91dD0idXVpZDpmYWY1YmRkNS1iYTNkLTExZGEtYWQzMS1kMzNkNzUxODJmMWIiIHhtbG5zOnhtcD0iaHR0cDovL25zLmFkb2JlLmNvbS94YXAvMS4wLyI+PHhtcDpDcmVhdGVEYXRlPjIwMjMtMDUtMTVUMTk6NDQ6NDIuNTY1PC94bXA6Q3JlYXRlRGF0ZT48L3JkZjpEZXNjcmlwdGlvbj48cmRmOkRlc2NyaXB0aW9uIHJkZjphYm91dD0idXVpZDpmYWY1YmRkNS1iYTNkLTExZGEtYWQzMS1kMzNkNzUxODJmMWIiIHhtbG5zOmRjPSJodHRwOi8vcHVybC5vcmcvZGMvZWxlbWVudHMvMS4xLyI+PGRjOmNyZWF0b3I+PHJkZjpTZXEgeG1sbnM6cmRmPSJodHRwOi8vd3d3LnczLm9yZy8xOTk5LzAyLzIyLXJkZi1zeW50YXgtbnMjIj48cmRmOmxpPlBDPC9yZGY6bGk+PC9yZGY6U2VxPg0KCQkJPC9kYzpjcmVhdG9yPjwvcmRmOkRlc2NyaXB0aW9uPjwvcmRmOlJERj48L3g6eG1wbWV0YT4NCiAgICAgICAgICAgICAgICAgICAgICAgICAgICAgICAgICAgICAgICAgICAgICAgICAgICAgICAgICAgICAgICAgICAgICAgICAgICAgICAgICAgICAgICAgICAgICAgICAgICAKICAgICAgICAgICAgICAgICAgICAgICAgICAgICAgICAgICAgICAgICAgICAgICAgICAgICAgICAgICAgICAgICAgICAgICAgICAgICAgICAgICAgICAgICAgICAgICAgICAgIAogICAgICAgICAgICAgICAgICAgICAgICAgICAgICAgICAgICAgICAgICAgICAgICAgICAgICAgICAgICAgICAgICAgICAgICAgICAgICAgICAgICAgICAgICAgICAgICAgICAgCiAgICAgICAgICAgICAgICAgICAgICAgICAgICAgICAgICAgICAgICAgICAgICAgICAgICAgICAgICAgICAgICAgICAgICAgICAgICAgICAgICAgICAgICAgICAgICAgICAgICAKICAgICAgICAgICAgICAgICAgICAgICAgICAgICAgICAgICAgICAgICAgICAgICAgICAgICAgICAgICAgICAgICAgICAgICAgICAgICAgICAgICAgICAgICAgICAgICAgICAgIAogICAgICAgICAgICAgICAgICAgICAgICAgICAgICAgICAgICAgICAgICAgICAgICAgICAgICAgICAgICAgICAgICAgICAgICAgICAgICAgICAgICAgICAgICAgICAgICAgICAgCiAgICAgICAgICAgICAgICAgICAgICAgICAgICAgICAgICAgICAgICAgICAgICAgICAgICAgICAgICAgICAgICAgICAgICAgICAgICAgICAgICAgICAgICAgICAgICAgICAgICAKICAgICAgICAgICAgICAgICAgICAgICAgICAgICAgICAgICAgICAgICAgICAgICAgICAgICAgICAgICAgICAgICAgICAgICAgICAgICAgICAgICAgICAgICAgICAgICAgICAgIAogICAgICAgICAgICAgICAgICAgICAgICAgICAgICAgICAgICAgICAgICAgICAgICAgICAgICAgICAgICAgICAgICAgICAgICAgICAgICAgICAgICAgICAgICAgICAgICAgICAgCiAgICAgICAgICAgICAgICAgICAgICAgICAgICAgICAgICAgICAgICAgICAgICAgICAgICAgICAgICAgICAgICAgICAgICAgICAgICAgICAgICAgICAgICAgICAgICAgICAgICAKICAgICAgICAgICAgICAgICAgICAgICAgICAgICAgICAgICAgICAgICAgICAgICAgICAgICAgICAgICAgICAgICAgICAgICAgICAgICAgICAgICAgICAgICAgICAgICAgICAgIAogICAgICAgICAgICAgICAgICAgICAgICAgICAgICAgICAgICAgICAgICAgICAgICAgICAgICAgICAgICAgICAgICAgICAgICAgICAgICAgICAgICAgICAgICAgICAgICAgICAgCiAgICAgICAgICAgICAgICAgICAgICAgICAgICAgICAgICAgICAgICAgICAgICAgICAgICAgICAgICAgICAgICAgICAgICAgICAgICAgICAgICAgICAgICAgICAgICAgICAgICAKICAgICAgICAgICAgICAgICAgICAgICAgICAgICAgICAgICAgICAgICAgICAgICAgICAgICAgICAgICAgICAgICAgICAgICAgICAgICAgICAgICAgICAgICAgICAgICAgICAgIAogICAgICAgICAgICAgICAgICAgICAgICAgICAgICAgICAgICAgICAgICAgICAgICAgICAgICAgICAgICAgICAgICAgICAgICAgICAgICAgICAgICAgICAgICAgICAgICAgICAgCiAgICAgICAgICAgICAgICAgICAgICAgICAgICAgICAgICAgICAgICAgICAgICAgICAgICAgICAgICAgICAgICAgICAgICAgICAgICAgICAgICAgICAgICAgICAgICAgICAgICAKICAgICAgICAgICAgICAgICAgICAgICAgICAgICAgICAgICAgICAgICAgICAgICAgICAgICAgICAgICAgICAgICAgICAgICAgICAgICAgICAgICAgICAgICAgICAgICAgICAgIAogICAgICAgICAgICAgICAgICAgICAgICAgICAgICAgICAgICAgICAgICAgICAgICAgICAgICAgICAgICAgICAgICAgICAgICAgICAgICAgICAgICAgICAgICAgICAgICAgICAgCiAgICAgICAgICAgICAgICAgICAgICAgICAgICAgICAgICAgICAgICAgICAgICAgICAgICAgICAgICAgICAgICAgICAgICAgICAgICAgICAgICAgICAgICAgICAgICAgICAgICAKICAgICAgICAgICAgICAgICAgICAgICAgICAgICAgICAgICAgICAgICAgICAgICAgICAgICAgICAgICAgICAgICAgICAgICAgICAgICAgICAgICAgICAgICAgICAgICAgICAgIAogICAgICAgICAgICAgICAgICAgICAgICAgICAgPD94cGFja2V0IGVuZD0ndyc/Pv/bAEMABwUFBgUEBwYFBggHBwgKEQsKCQkKFQ8QDBEYFRoZGBUYFxseJyEbHSUdFxgiLiIlKCkrLCsaIC8zLyoyJyorKv/bAEMBBwgICgkKFAsLFCocGBwqKioqKioqKioqKioqKioqKioqKioqKioqKioqKioqKioqKioqKioqKioqKioqKioqKv/AABEIAaICoAMBIgACEQEDEQH/xAAfAAABBQEBAQEBAQAAAAAAAAAAAQIDBAUGBwgJCgv/xAC1EAACAQMDAgQDBQUEBAAAAX0BAgMABBEFEiExQQYTUWEHInEUMoGRoQgjQrHBFVLR8CQzYnKCCQoWFxgZGiUmJygpKjQ1Njc4OTpDREVGR0hJSlNUVVZXWFlaY2RlZmdoaWpzdHV2d3h5eoOEhYaHiImKkpOUlZaXmJmaoqOkpaanqKmqsrO0tba3uLm6wsPExcbHyMnK0tPU1dbX2Nna4eLj5OXm5+jp6vHy8/T19vf4+fr/xAAfAQADAQEBAQEBAQEBAAAAAAAAAQIDBAUGBwgJCgv/xAC1EQACAQIEBAMEBwUEBAABAncAAQIDEQQFITEGEkFRB2FxEyIygQgUQpGhscEJIzNS8BVictEKFiQ04SXxFxgZGiYnKCkqNTY3ODk6Q0RFRkdISUpTVFVWV1hZWmNkZWZnaGlqc3R1dnd4eXqCg4SFhoeIiYqSk5SVlpeYmZqio6Slpqeoqaqys7S1tre4ubrCw8TFxsfIycrS09TV1tfY2dri4+Tl5ufo6ery8/T19vf4+fr/2gAMAwEAAhEDEQA/APpGiiigAooooAKKKKACiiigAoornZ/GVnFDM6Wty2yOR0LKFWQI21sHJ7nuKlyS3MqlaFJXm7HRUVgt4mZo7b7NYmSS4untlRpQoBUE5JwfSrEmtta3dnbahamKS6LAeUxlC4xjovfP4UKSZH1ml3/B218zWorFvvFNjaXUcMIkvPn2ztbIZBbj1YqD+XWrU2t2UdtDNBJ9rFw+yFbYhzI3XA5xwPU0KSexX1ik21zLQ0KKx4vEUE95aQRQybriR42D/K0TKMkEVsU009ioVIVL8rvYKKKKZoFFFFABRRRQAUUUUAFFFFABRRRQAUUUUAFFFFABRRVLVdTj0mzFxJDNPl1jWKBQXZmOABkgfrQBdornj4ui8sN9guY23Mjxz7VZGV41xwSP+WoPXtUp1nVJtUubew0iKeC2lETzSXmw52gkhdp6BvWgDcorFg8SR3I1Bbexu55rGcwvFFHy+DjKs2FP0B4q3peqjUxODZ3VnJA4R4rlVDcgEH5WIxg+tAbF+iiigAooooAKKKKACiiigAooooAKKKKACiiigAooooAKKKKACiiigAooooAKKKKACiiigAooooAKKKKACiiigAooooAKKKKACiiigAooooAKKKKACiiigAooooAKKKKACiiigAooooAKKKKACvPtb8N3kOjzS3qWrw2kU5jKSMzFncMDgqAMfU16DRUSgpHNiMNDER5Zf1s/zSOKZbdfBd7cXVsk5hu5WTeqnaS+MjcrAdfQ07w+irrECQ6hpbxKr4hgnikfJHVdsKY9+a7OikoWad+iMPqXvxkpbW6b637nFXOqTwam9quum2EV35c/nvbKTHtzvAKDuQO9aGqWksmgm6ttQivYoVadJZI/mJA42PCybe/PPWuloo5Hy2bKWEfvKcm0/XT8TjLW1lttU8PmQwlZvMlxFG4ILJk7mZ2LH3rs6KKtJLY2w9BUE0nv/kl+gUUUUzoCiiigAooooAKKKKACiiigAooooAKKKKACiiigArM16zu7ywjGnrC88U8cypPIY1ba2cFgrEfka06KAPPNQ0eWy1B76+tLWG/vWeSRrZzJ8vnW4VS5VScYPaovHFrpw8UR7jpNlO8Ilee9mt4TIQcDBkt5SSMeor0iilbbyH3OIsdPuNc8FvELjSdXla9819lwrQyqHztd44gC2Op2Vv8Ah7TpNNhniOjaZpUbMGVdPnMgkOMEtmJMdB659sVsUUxBRRRQAUUUUAFFFFABRRRQAUUUUAFFFFABRRRQAUUUUAFFFFABRRRQAUUUUAFFFFABRRRQAUUUUAFFFFABRRRQAUUUUAFFFFABRRRQAUUUUAFFFFABRRRQAUUUUANy3939aMt/d/WnUUANy3939aMt/d/WnUUANy3939aMt/d/WnUUANy3939aMt/d/WnUUAYV5P4oW8lFhZaa9sD+7aWZwxHuAKg+0+Mv+gfpP/gQ/wDhXSUVHK+7OR4Zt39pL8P8jm/tPjL/AKB+k/8AgQ/+FH2nxl/0D9J/8CH/AMK6Sijkfdi+qy/5+S+9f5HN/afGX/QP0n/wIf8Awo+0+Mv+gfpP/gQ/+FdJRRyPuw+qy/5+S+9f5HN/afGX/QP0n/wIf/CtHSpdbkaX+2raziAA8v7NIzZ65zkfStOihRs9y4UHCXNzyfrb/Iblv7v60Zb+7+tOoqzpG5b+7+tGW/u/rTqKAG5b+7+tGW/u/rTqKAG5b+7+tGW/u/rTqKAG5b+7+tGW/u/rTqKAG5b+7+tGW/u/rTqKAG5b+7+tGW/u/rTqKAG5b+7+tGW/u/rTqKAG5b+7+tGW/u/rTqKAG5b+7+tGW/u/rTqKAG5b+7+tKCe4x+NLRQAUUUUAFFFFABRRRQAUUUUAFFFFABRRRQAUUUUAFFFFABRRRQAUUUUAFFFFABRRRQAUUUUAFFFFABRRRQAUUUUAFFFFABRRRQAUUUUAFFFFABRRRQAUUUUAFFFFABRTPMP939aPMP8Ad/WgB9FM8w/3f1o8w/3f1oAfRTPMP939aPMP939aAH0UzzD/AHf1o8w/3f1oAfRTPMP939aPMP8Ad/WgB9FM8w/3f1o8w/3f1oAfRTPMP939aPMP939aAH0UzzD/AHf1o8w/3f1oAfRTPMP939aPMP8Ad/WgB9FM8w/3f1o8w/3f1oAfRTPMP939aPMP939aAH0UzzD/AHf1o8w/3f1oAfRTPMP939aPMP8Ad/WgB9FM8w/3f1o8w/3f1oAfRTPMP939aPMP939aAH0UzzD/AHf1o8w/3f1oAfRTPMP939aPMP8Ad/WgB9FM8w/3f1o8w/3f1oAfRTPMP939aVH3Z4xigB1FFFABRRRQAUUUUAFFFFABRRRQAUUUUAFFFFABRRRQAUUUUAFFFFABRRRQAUUUUAFFFFABRRRQAUUUUAFFFFABRRRQAUUUUAFFFFABRRRQAUUUUAFFFFABRRRQBDRRQSApJ4ApiCisOTUryWdZ4JrOCGIkG3kuELT++4HC+364qe81OYaXDcQBIPMkCySNiZYF55Ow4PQDr3oA1aKwrfU7uaWzDSK0b3Zi85I9izp5ZOQpyRg8de1XbjUStxcQpDM6RIA7wLvcM3QBcdhzmgDQorl2vpkmX7JPrs8kUyebFJarjYSCc4QH7voa1NWnvYLb7Ta3UcKlQEgkti7O56D7w59sUAalFZtlfltWurK5mUzIqMsYHT5fmI9s1pUAFFFFABRRRQAUUUUAFFFFABRRVTULiCJFjmvHtWblWTGTj6gionNQjzMqMXJ2RborFtL6NdXSJNSluYpIzxKBw+eMEKO1bVTSqxqx5l/X3DnBwdmFFUdXuJbfTZDbSIk5HybmAPXnAPBOOlZ2m6gX1JUS9uJbcod/20IhDfw7cAZ/KtepBv0UVl+Ir02WizNFcfZ53G2FsgHd7ZBGfrUzkoRcmVGLk7I1KK4zSPEKNqSi5u9SEYYp/pUsBRj2OEUEjnqK7OopVY1Y8yHODg7MKKKK1ICis7W7me1s1a1mETu/lgmMNkkHuWAXoeTWbbateBrP7RM0265MMixQDJxGT1VmB7HI6c0AdHRWJrGo3mnXSiKeKVZFZhB5YVkUL97eWx19qk8O3txe2kz3UhkZXABIAx8oPahag9DXooooAKdF1b602nRdW+tAElFFFIYUUUUAFFFFABRRRQAUUUUAFFFFABRRRQAUUUUAFFFFABRRRQAUUUUAFFFFABRRRQAUUUUAFFFFABRRRQAUUUUAFFFFABRRRQAUUUUAFFFFABRRRQAUUUUAQ0EBgQwBB6g96KKYjnF0ieO6LyaNZ3PlyOYX85UG1sYBXZ2xWpcaVbXViqPaRxOqkokbFQjEf7OM/Wr9FK2lh31uYcGh/ZE02WKMGe3Ia4PmFi5EZBxnryfar2nWbJp7C8XMtyzSTAnu3bj0GBV6imIxp/DtrG8MunQLDMk8bs/mNyoYZHXnitI2cLXgunDPIowm45Ce4HYn1qeigCrbW8kV9eTPjZMyFMHngYOatUUUAFFFFABRRRQAUUUUAFFFFABVLVbeW5tkSFBJtkVmQyFNwHUZFXaKicVOLiyoycXdGVYWM8Oped9mW1i8oqVW4Mm4564IrVoopUqapR5V/X3DnNzd2UdXtJLqyxbwxSzK6solAwRuG4ZIOMjIqK1tibhfP0Szt1HPmI6sQe3G0Vp0VoQFVtSguLnTZobObyJnXCvnGKs0Umrqw07O5z+m6XdQalDMlkmnRID5oS8abzhjhcEDHPOa6CiilCKgrIcpOTuwoooqiSnq9vcXWlTQ2ezzmxt34xwwJ6gjpntWbYWesx31r9o8pLSJmLIpTupHAVR3Nb1FAFKTS7Zo7nMSyyXAOWm+bnHA56AVDoWnT6dbSx3GzLMCNhzwFArToo2AKKKKACnRdW+tNp0XVvrQBJRRRSGFFFFABRRRQAUUUUAFFFFABRRRQAUUUUAFFFFABRRRQAUUUUAFFFFABRRRQAUUUUAFFFFABRRRQAUUUUAFFFFABRRRQAUUUUAFFFFABRRRQAUUUUAFFFFACbF/uj8qNi/3R+VLRQAmxf7o/KjYv90flS0UAJsX+6Pyo2L/AHR+VU9Q1nS9JMY1TUrSyMmSguZ1j34643EZ6j86qf8ACYeGv+hi0n/wOj/+KoeiuxxTk7R1Zr7F/uj8qNi/3R+VULHXtH1ScwaZqtjeSqu8x29ykjBemcAnjkfnWhQnfYJRcXaSsJsX+6Pyo2L/AHR+VLRQITYv90flRsX+6PypaKAE2L/dH5UbF/uj8qWigBNi/wB0flRsX+6PypaKAE2L/dH5UbF/uj8qWigBNi/3R+VGxf7o/KlooATYv90flRsX+6PypaKAE2L/AHR+VGxf7o/KlooATYv90flRsX+6PypaKAE2L/dH5UbF/uj8qWigBNi/3R+VGxf7o/KlooATYv8AdH5UbF/uj8qWigBNi/3R+VGxf7o/KlooATYv90flRsX+6PypaKAE2L/dH5VzeqatrI8UJo2gQ6eG+yG6llvC+MbgoUBfxOTXS1zK/wDJVW/7A3/tagB3/Fcf9S//AOR6P+K4/wCpf/8AI9dJXkni39oTQfD+tjTNJ0661p4rxbS8njJiht3JIK7yp3P8rcYAODzQB2//ABXH/Uv/APkes/VtW8aaT9i8yLQZPtl3HartMw2l88n24rtK5vxl/wAwH/sNW/8A7NQAf8Vx/wBS/wD+R6P+K4/6l/8A8j10lFAHN/8AFcf9S/8A+R6P+K4/6l//AMj10lcn8Udfv/C/wx1vWNHkWK9tYAYZGQMEJdVzg8HGe9AFj/iuP+pf/wDI9H/Fcf8AUv8A/kevI7nxD8RtA0jwJ4gvvHQ1O18R3lkk1gdHt4vLSZQ5XzFGTwSMgL68V3OgeMNY1D9oDxV4WuZ0bSdNsYJbaERKCrskTMS3U58w9eOB75AOj/4rj/qX/wDyPR/xXH/Uv/8AkesvXvCvj3UNcubrQ/iP/ZFhIQYbL+woJ/JG0AjzGOWyQTz64rk11Lx54T+MPhXw9rXjNfEdnrK3DTRHSYbYxhEJBymT1Geo6GgD0D/iuP8AqX//ACPR/wAVx/1L/wD5HrpKKAOb/wCK4/6l/wD8j1Xv7vxtYabc3jroDrbwvKVHnZIUE4/SusrN8Sf8irq3/XlN/wCgGgDFsLvxtf6bbXiLoCLcQpKFPnZAYA4/WrH/ABXH/Uv/APketLw3/wAirpP/AF5Q/wDoArSoA5v/AIrj/qX/APyPR/xXH/Uv/wDkesrxZ8Qr/SPFUPhrwt4XuPEesNa/bJoluVto4Yd20EyOCMkg8U7w18UtK1zwhq+uahbXGkNoUkkWqWlwNz27xjLAY+96DocgjFAGn/xXH/Uv/wDkej/iuP8AqX//ACPXED42anb6Tb+I9W8BahY+E7hk26sbyN3VHYKrtABuCnI5yc8YzkV6zFKk0KSxMHjdQysOhB6GgDnf+K4/6l//AMj1n2ereNLzWtR05YtBV7DytzkzYfeu4Y+mK7Sub0T/AJHvxR/26f8Aoo0AH/Fcf9S//wCR6P8AiuP+pf8A/I9dJQTgZPAoA5v/AIrj/qX/APyPR/xXH/Uv/wDkeqfgzx6vjbWtcj0vT2/sbTJlt4NU8zK3coH7wKuOi8c5OQR61ifET43aJ4DurjTYbO51jV7ZFkntLcFEgUgEGSQghchh0B6jpmgDp/8AiuP+pf8A/I9H/Fcf9S//AOR60/D+rrr/AIZ0vWI4jCmoWcV0sTHJQSIG2k98ZxWjQBxd5q3jSz1rTtOaLQWe/wDN2uDNhNi7jn65rQ/4rj/qX/8AyPRrf/I9+F/+3v8A9FCukoA5v/iuP+pf/wDI9H/Fcf8AUv8A/ket2+vIdO0+4vbpisFtE00hAJIVQSeB14FeUr8cry2sbPXdZ8D6hp/hS+mWODV2u43bDHCu8IGVU9c5OR0zkUAdz/xXH/Uv/wDkej/iuP8AqX//ACPVPxv47l8LX2l6TpGh3Gva3qzP9lsopRCpVAC7NIwIUDI/+tTPA3xC/wCEs1PVNF1TRrjQtd0kp9rsZpVlAVxlWV1wGGMdh1GM5oAv/wDFcf8AUv8A/kes/XdW8aaFos+oyxaDKkO3KKZgTlgv9a7Sub+IX/Iiah/2y/8ARq0AH/Fcf9S//wCR6P8AiuP+pf8A/I9dJXmnxE+N2ieA7q402GzudY1e2RZJ7S3BRIFIBBkkIIXIYdAeo6ZoA6f/AIrj/qX/APyPR/xXH/Uv/wDkepYPGGmr8P7Xxdqj/wBn6fNYRX0hfL+UsiKwHAyT8wHA5Ncj4J+NVj468fTeH9O0W7trYWbXUF7cttM6hgMiPHCnOQd34CgDqf8AiuP+pf8A/I9H/Fcf9S//AOR6x/FHxE1LTPFh8NeE/Clz4k1SK2F3cqLpLWOGMnC/O4ILH0/nzjU8BeObPx7oc19a2lxY3FpcvaXdncj54JVxlffqOf8ACgCOfV/FGk32m/2vDpEtreXiWrfZWlDqXBww3ccEdK6yub8Zf8wH/sNW/wD7NXSUAFRz+d9nk+y7PO2ny/Mzt3Y4zjnFSUUAcp4E1XWNTh1dPEE8E11Z37Qf6PHsjUBQcLnkjJ6kk11dZ2laJa6PLfSWhkJvrlrmXewOHIAOOOBxWjR0XohI8b+Ovhu88QajoX2Lyx5MNxu3hu7R+gPpXO+GNKv9D0RbKYybhIz/ALozhefoyj9K9p8ReErLxLNbSXk80TW6sq+WkTZDYznzEb+6OmKxv+FW6T/z/Xf/AH4tf/jNRWqV6lP2P2Uexl8sDh5e3k3ztWfYyvALTHxWfN87H2OT75lI+/H/AH2Iro9cs01LxXBa3N7fQQJp8soS1vpbYFg6AE+Wy54J6+tS6B4JsPD2pNfWtxPLIYmixJHCoAJBP3I1P8I74rT1PQNH1po21jSbHUGiBEZurZJSgPXG4HHQVpg37F3lpvsc2Y1oYis503pp+BheHpbh57VldriYaWdpnlPzkSEDc3J9OeT9a4vWtQ8PvqlxbahongFL+YSmaeXWwTHIMA7ybYENls474PpXqcGlQWuoJcWqpDFHbC3SCNAqqobPGOn0qxeW/wBrsZ7Yts86No9wGcZGM16FPFQp1HK17+bX5HClokV9F+1/2NajUI7eOdYwCLaczRkDoQxVScjB6fn1q9UdtD9ntYoQd3loEzjrgYqSuCbTk2iYqySCiiipKCiiigAooooAKzNZuJrZFkhuZImCkqohBjY/7bkEKPxXvWnVS8sBeHD3E6Rsu1442AVx78ZH4EVjWUnC0NzSm0pXkZl1qskF7IWvAjpIix2m1T5qHHzdN3fqDgYreqo+nJJcK7yymNcEQZGzI6Hpn9cVbopRlFy5n1/rq/66BOUWlYyPEOpzWVk8en4N40ZcE4IiQdXP8gO5pLi8vku9M2PELacgSfLl2JXP0A/zxVu/0fT9TVhe2kMrsmwSNGpdR7EjjrTv7MthHapGvlpaNujVMAdMdK2RmW6zNdlkhs1eK7urXBPzWtt5zE44B+VgF9TgduR306qX9i16qhLy5tCucmAr8wPY7gR/WoqJuLSKi0pamJqGp3iaTZXi37RTPCrkQwq9u7HGd8uCFXrj5l+prpVOUB4OR26VmS6BDJbxW0d1dQWqII2gjkG2RR/eJBb8QRmtNVCKFUYCjAHpSipJtscmrKwtFFFaEFLWJL2LSbiTS2gW5VCytcKWVQOScAgnjtkVk6pqWqxeCYtRsJbdbgWyyzSTITxsydqjAyTjrwPQ9K6CaJZ4JInztkUqcehGKqzaTbz6GdKcyfZzD5OQfm24x19aF1v5B2+f6GT4nvrqwMM1tqFxbMMFYxahrd+RnzZSpCDB4+ZPxrolOVB4OR2rN1LRF1SQebfXkUBG2W2hdQkw9GypYf8AASK0lUIoVRhVGAPSjoAtFFFABXMr/wAlVb/sDf8AtaumrmV/5Kq3/YG/9rUAdNXi/wC0jbQW/gTRTbwxxGXxHA77EC72MU2WOOp969orJ8Q+F9G8V2UFp4gsUvYLe4S5iR2Zdsi52t8pHqRjoc80Aa1c34y/5gP/AGGrf/2aukrm/GX/ADAf+w1b/wDs1AHSUUUUAFcX8X9MvdZ+Eev2Gl20t3dy26+XBCpZ3w6sQAOScA8V2lFAHzff32s+JfD3w38OW3gjxVaXGhXtgbu5vNKaOACJAjEPk8Z5yQOK6vwsGb9q7x4EbYx0u2AbGcHyrfmvZa5HS/AUWmfFTW/Gq37ySavaxW7WhjAEWxUXcGzzkRrxjjnk9gDyDxl4513wfJqdhP8AGzz9asEONP8A+EURfMk27lTzApUZyOeQM1k+FtQl8e+LNA1R/jCsXi8WzRW9u3hoH7OWUl4wx2xscFhuxz2r6jrhPF/gS/8AEPxK8H+IrW5t4rXQ5JmuI5C29wwGNmBg8jnJH40AdvAkkdvGk8vnSKgDybdu845OB0z6VJRRQAVm+JP+RV1b/rym/wDQDWlWb4k/5FXVv+vKb/0A0AHhv/kVdJ/68of/AEAVpVm+G/8AkVdJ/wCvKH/0AVpUAcr4pS81yb+xvCnjG28P61BtmuNtrFdTGEhgAY3IKgk53e3vXmnwz0y11rwt8Q/A+rSws8F04vddgkJF48ofMrbiQGUpkjOOfqT6V4o+GPg3xneLd+JNChu7lVC+esjxOQOgLIyk/jWrofhXQvDejtpWh6VbWdi+fMhRMiTIwS2cliRxk54oA+ffH0PjHRfgX/ZmoeJ/Dd74dSOC10+XTQ73OoIrKETOdgAVcnbkkLjvX0L4atJrDwnpNncjE1vZQxSA9mVAD+ornNN+DvgDSNcXV9P8NWsd4j+YjF5HVG6gqjMVXHbA4rtqACub0T/ke/FH/bp/6KNdJXN6J/yPfij/ALdP/RRoA6SvMfjlq3iS18JQaT4V0nVLxtWdoby6021a4e1gGN+FX+Jg2BkgcNyDg16dRQB82aH44l8O/FnwvoeheH/FunaDbaUbdtFnsfLmnkZpM3Ji3YYZwS/ba34+ofHC2gT4N+J7hIY1nkto1eUIAzASrgE9TjNddN4Y0a48VW3iSaxRtYtbc20N1ubKRkklcZwep5IzyfWp9a0XT/EWi3Ok6zbC6sbpNk0JYruGc9QQRyByDQBk/Dj/AJJZ4U/7Atn/AOiErpKgsLG20zTrawsIhDa2sSwwxL0RFACqM+gAFT0Ac3rf/I9+F/8At7/9FCukrm9b/wCR78L/APb3/wCihXSUAQ3d1b2VnNdX00cFtCheWWVgqooGSSTwBivCfjDaapbeH08W3Xi2x8Q+F4b6K5tfD7WyQxTIXAVVmjbMuAc85GATjtXu91a299ZzWl7DHcW86GOWKRQyupGCCD1BFcVY/BX4eabqy6laeF7UXKtuXzJJJEU+ojZio/KgDT1y9fV9LttO0fxFb+HNe1CBZ7RpYY55kTKlwInI3cfKfTr2rz74W/adD+M/i3w7rF1DruqzW0d7PrsYKO4UqohdMlUI38BccDvxj0bxV4B8L+NliHijR4b9oQRHIWZHQHnAdCGx7ZqXwv4J8OeC7WSDwxpMGnpLjzGTLPJjpudiWOMnqe9AG7XN/EL/AJETUP8Atl/6NWukrm/iF/yImof9sv8A0atAHSV558cLaBPg34nuEhjWeS2jV5QgDMBKuAT1OM16HVHWtF0/xFotzpOs2wurG6TZNCWK7hnPUEEcgcg0AYvw/giufhL4XhuYkmik0S0V45FDKw8hOCD1rhLRVT9ry6VAFVfDoAAGABuSvXLCxttM062sLCIQ2trEsMMS9ERQAqjPoABVBfC+jJ4sfxMtio1h7b7K11vbJiznbtzt6gc4z70AZHiqO+1+d9J8I+NbbQNWtcPeKlrFdSmNlO0MjEFBzkGuS+Ad0sWmeJNCaKCW40rVpEuNTgdmXUJGJzKck/N8ozg45HSut8T/AAs8F+MdQ+3eItBhurvADTrJJE7ADA3FGUtgcc5rb0Lw9pHhjS107w/p8FhaKd3lwpjJ9SepPHU5NAGb4y/5gP8A2Grf/wBmrpK5vxl/zAf+w1b/APs1dJQAm9f7w/Ojev8AeH50uKMUAJvX+8Pzo3r/AHh+dLijFACb1/vD86N6/wB4fnS4oxQAm9f7w/Ojev8AeH50uKMUAJvX+8Pzo3r/AHh+dLijFACb1/vD86N6/wB4fnS4oxQAm9f7w/Ojev8AeH50uKMUAJvX+8Pzo3r/AHh+dLijFACb1/vD86N6/wB4fnS4oxQAm9f7w/Ojev8AeH50uKMUAJvX+8Pzo3r/AHh+dLijFACb1/vD86N6/wB4fnS4oxQAm9f7w/Ojev8AeH50uKMUAJvX+8Pzo3r/AHh+dLijFACb1/vD86N6/wB4fnS4oxQAm9f7w/Ojev8AeH50uKMUAJvX+8Pzo3r/AHh+dLijFACb1/vD86N6/wB4fnS4oxQAm9f7w/OuaUg/FVsHP/Em/wDa1dNiuI1TTr2/+KQWw1m60srpGWa3ihff++6HzEb9KAO3orm/+Eb1z/od9W/8BLP/AOMUf8I3rn/Q76t/4CWf/wAYoA6Sub8Zf8wH/sNW/wD7NR/wjeuf9Dvq3/gJZ/8Axiuf8WeH9Zj/ALE8zxhqc27VoFXdbWg2E7vmGIRyPfI9qAPRKK5v/hG9c/6HfVv/AAEs/wD4xR/wjeuf9Dvq3/gJZ/8AxigDpKK5v/hG9c/6HfVv/ASz/wDjFH/CN65/0O+rf+Aln/8AGKAOkorm/wDhG9c/6HfVv/ASz/8AjFH/AAjeuf8AQ76t/wCAln/8YoA6Siub/wCEb1z/AKHfVv8AwEs//jFH/CN65/0O+rf+Aln/APGKAOkorm/+Eb1z/od9W/8AASz/APjFH/CN65/0O+rf+Aln/wDGKAOkrN8Sf8irq3/XlN/6Aazf+Eb1z/od9W/8BLP/AOMVn6/4d1pPDeps/jTVZFW0lJRrWzAYbDwcQ5/KgDovDf8AyKuk/wDXlD/6AK0q4vQPDutP4b0xk8aarGrWkRCLa2ZCjYOBmHP51of8I3rn/Q76t/4CWf8A8YoA6Siub/4RvXP+h31b/wABLP8A+MUf8I3rn/Q76t/4CWf/AMYoA6Siub/4RvXP+h31b/wEs/8A4xR/wjeuf9Dvq3/gJZ//ABigDpK5vRP+R78Uf9un/oo0f8I3rn/Q76t/4CWf/wAYrn9H8P6y3jTxGi+MNTR0+y7pBbWmZMxnGQYcDHsBQB6JRXN/8I3rn/Q76t/4CWf/AMYo/wCEb1z/AKHfVv8AwEs//jFAHSUVzf8Awjeuf9Dvq3/gJZ//ABij/hG9c/6HfVv/AAEs/wD4xQB0lFc3/wAI3rn/AEO+rf8AgJZ//GKP+Eb1z/od9W/8BLP/AOMUAGt/8j34X/7e/wD0UK6SvO9Y8P6yvjTw4jeMNTd3+1bZDbWmY8RjOAIcHPuDXQf8I3rn/Q76t/4CWf8A8YoA6Siub/4RvXP+h31b/wABLP8A+MUf8I3rn/Q76t/4CWf/AMYoA6Siub/4RvXP+h31b/wEs/8A4xR/wjeuf9Dvq3/gJZ//ABigDpK5v4hf8iJqH/bL/wBGrR/wjeuf9Dvq3/gJZ/8Axiuf8c+H9Zh8F3zy+MNTuEHl5je2tAG/eL3WEH9aAPRKK5v/AIRvXP8Aod9W/wDASz/+MUf8I3rn/Q76t/4CWf8A8YoA6Siub/4RvXP+h31b/wABLP8A+MUf8I3rn/Q76t/4CWf/AMYoA6Siub/4RvXP+h31b/wEs/8A4xR/wjeuf9Dvq3/gJZ//ABigA8Zf8wH/ALDVv/7NXSVwPiHRdUs7zw/LeeJ9Q1CIazbgwTW9sin73OUiU/rXfUAFFFR3BAt5C0vkgKSZP7o9aAJKK4vwTfXWo6xqc9ldXl74eKotrdXjbjLKCQ5jJGTH056Z6V2lMDM1fxJo2gNCus6lb2TTAmMTPt34xnH5j86zj8Q/CIxnxDYjIyP3vWuI+Mt9/Z2u6DcCCK4xBcjZKMryY+a8kmmDwqgJY53HPG3/AGR7V4mJzGpRrumo6K2p9hlvD9LGYaNaUmr+ndr9D6f0rxZoOuXbWukara3k6oZDHE+SFBAJ+mSPzq/c39nZbftl1Bb7/u+bIF3fTNeG/BP/AJH6f/sHS/8AoyKu9+IyzNJbPc2EV3p6KQY/MXzZ3POxQInfouTt6jOcAZr2MtbxlubS9/61PEzXAxwOJdGDbSSZ2ttqNleOyWd5b3DKMssUqsR9cGopNa0uKVo5dSs0dThladQQfQjNcL4A85p5n0bSbfTbXySpglceZbvjKKymJJNvtnHXBNZmr6jIt9cW97Y6CXZZfPu/+Edu3CMMDJbaQ2ck5zj5a9f6ivbOnfb7/na55Kdz1oEEAg5B6EUVQ0RLqPRLVL6S3lmWMDfbKyoy/wAJAYk9MVfrzJLlk0Cd1cKKKKkYUUUUAFFFFABRRWVrTSxRiWF7lCqkho8eWh9XHUj6A96zqT5I8xcI80rGrRWBdXVx/aJkinl8uORBuT/VKD1DD1Of5dK36IVFNtdglBxSfcKKydf84WoeBrxWVWINsQApxwW7kewzVa8lmmjtHs72WW9kjRkjhOIyONzsP7v1/CtCDfooHvWT4lkvIdFlmsLkW7RAu7bNxYY6D05xzSbsrjiuZ2NaiuY8RXV2t6y2s9yPJg8zFscCNs/ek9VwDwMnrxXRwP5tvG+5X3IDuXoeOoqYy5m12G42SfckoooqyQooridP1K8Gsx3Et7ciGdpwZZz/AKLKAGKCIdQQFyScZwcZzQB21Fcf4Vu75tURbu5vGS4tPNIvOksmRl4fRME8HB6cV2FO1gCiiikAVzK/8lVb/sDf+1q6auZX/kqrf9gb/wBrUAdNXiet6l8WrXwvrXjLUtbsfDdvp7SSQaG1lHOJY1OAHlJyC3QY65HTNe1swRCzdFGTgZr5j1j4oeFfiX4xePxxrcujeENMlzb6WLeZpdQkH8cpjU7VH93OR09TQB9BeDNcm8TeCdH1u6txbTX9pHO8S9FLLk4z27j2xVbxl/zAf+w1b/8As1aHhvW9J8ReHbTVPDkyzaZMpW3dImjG1WKEBWAIAKkdO1Z/jL/mA/8AYat//ZqAOkooooAKp6xc2Vlod/daq22xgtpJLlsE4iCkucLz0B6c1crG8V6PHrfh2e1n1jUtGiXEr3ml3HkTIF5OGwePXigD5s1D4a6d44kjvfhd4CuLHSLIGd7nU7uaP+1cEfuo1dyVUjPz8fVa9W+Dv/CFWd/qen+G/DGoeGNcESNqOn3xmdgoJClWdipXLHBGCfSvLlsPG/iuG31L4a3XxB1DRRcESXeoeJ44WuY1bDCNTjaeCNx3Af3e1d98KrC11vX737R4k8dR6rocnlX2ja1rCzwnerAZCqA69fTBAPpkA7HXvg14C8Ta5c6xrmhfar+6IM032ydNxChRwrgDgDoK89n8DeH/AAX+0V4HsvBlg2nedBdT3gFzLJvQRsBnezYHBHoeKzPGXwfijk1PTfCPwe85dhSz1j/hJyuGK8P5Mj9iehPOKx9A8F+HtJ8ReGvCnxC+FjWd9qqmIakviF5POdF+Z/KibC5OOMjGeM4oA+paKjggjtreOCBdscSBEXOcADAHNSUAFZviT/kVdW/68pv/AEA1pVm+JP8AkVdW/wCvKb/0A0AHhv8A5FXSf+vKH/0AVpVm+G/+RV0n/ryh/wDQBWlQBwni2D4gat4rj07wtqVv4c0WG086bVnto7p5ZSxHlCNzwABnPv17Vl/D34ga3qvgfxRea5FDqd34cuLmBLmyXamoeUpYFR0ycduMEcVH8UfEnw9m1JPDnxQ0+/Syg2XVvdvDOLeSQhhhXhO4kAnIIxzWD8MD4it/A/jgeEob4aRHvPhRL9CHJ2OTt38lc7NueM5z3oAxR8R/iBY/Duy+JFx4n0q8tLm78pvDq2SIAu8qVWUfPvGM4OcA556V9ExP5kKOVZCyg7WGCPY18dNZ+D4/Blm2gprX/C0o7mOU25tpS4n8wF8oV2bcE4xzkDPevr7TGu20m0bU1Rb0wIbgJ90SbRux7ZzQBZrm9E/5HvxR/wBun/oo10lc3on/ACPfij/t0/8ARRoA6Suc8c3HiiDw3t8D2sE+qzzxwq9ww2W6MfmlIP3to7e/Q4wejrmfHviXTvDPhwza5p1/faddv9lufsUJk8qN1IZ3wQQuOMjnkYoA4zQvEHjLw78XtO8GeJNftfFFvqNlJctcR2SW0tmVBI3KnG04wM8ksOmObmrxfE/W/E+s/wBn61aeENC07AtJpLOO6a9wuSzFj8q+/GPQ4NcH4PXw4vxf0N/gfHff2O6Srrz7J/sxTGUBM3O7OfxxjvS/E/4o6Z4i8bT+BtS1mXw54cspCmrXYglaa9ZTzDGEViq+54PXkYDAHp3we8aaj48+HNtrOswRxXnmyQu0S7Ul2nhwO3XB9wfpXdVynw61vwjq/hSOD4fzrLpOnH7KoWGSPYwAYj51BJO7JPck85rq6AOb1v8A5Hvwv/29/wDooV0lc3rf/I9+F/8At7/9FCukoAZM7R28jxxmV1UlY1IBcgdBnjmvDV+IvxHPxW8K2evadB4f0jWp5ETTSFlmZFHJkcjIOSCMbfcevuteQfE2KR/jv8M2SNmUTXOSFyOApP6UAaXxS8YeINM8UeGPC3hm8ttIm16WRX1W5iEghC4+VVb5Sxz39QO+aT4d+K/EUvxA8Q+C/E2o22uPpEUc0eq29uId2/HyOi/KG+boP7p61z/x0jjn8XeGI/GMd3/wgieZJfS2kTNtn2sF3lQWC8r07Fvwq/BRLSD4ma+nw9S7bwLJao/nXUbhWuhtA8tnAY8b+D/8TQB7xXN/EL/kRNQ/7Zf+jVrpK5v4hf8AIiah/wBsv/Rq0AdJUdzMbe1lmWNpDGhcIvVsDOB71JVXVWvF0e8bS1Vr4QObZX6GTadoPtnFAHz9F8SPiBdfDu7+JKeJ9KhtLe78seHTZIVK7wu0y/f385x3HPHSu4+JHj/XdN0nwhb+H/J0m78UTJG99eR71sQyocEHjdl+/wDdPHceFvZ+D28E3LatHrQ+Kb3Ly+QLeUSGfzsqQoXZtxgnvnOO1enfFb+2rvwx4DXx3b3X9guEk8Smyi3NHMEUjdtBKjJfO33/ANmgDp/BXijxRZ/FbUfAnifVrbxEILAXsepQWywPGdwHlyInyj7316dc8epV8+/CaPSrf4y3P/CqlvJPBk2nD7fNcRSCP7QpO0I0gDZ5Xg+r9gK+gqAOb8Zf8wH/ALDVv/7NXSVzfjL/AJgP/Yat/wD2aukoAKr39jBqWnz2V4he3uEMcihiuVIwRkcipt6+tG9fWi1wvYzdG8PWWgp5enveeWEEaxz3ssyoo6BVdiF/CtSm719aN6+tPVgYviHwdoniqS3fXLRrhrYMIis7x7Q2M/dIz90daxv+FReDP+gZL/4Gzf8AxddnvX1o3r61jKjTk7yim/Q66eNxNKKhTqSSXRNo5/QfAfh7wzqLX2jWTwXDRGIu1xJJ8pIJGGYjqorR1fRxqiwPHeXFjc27lobm22lkyMEYdWUgg4wQfXrzV/evrRvX1rWmlS+BWMKlapVlzVJNvz1M/SdHOmtNNcX91qN1NgPcXOwNtHRQqKqgD2GT3zV26t1u7Oa3kLBZo2RivUAjHFP3r60b19auUpSlzMzWgkEK29vHChJWNAgJ6kAYp9N3r60b19al3buJWWg6im719aN6+tIY6im719aN6+tADqKbvX1o3r60AOqrdadb3jhpxIeNpVZWVWHowBwfxqxvX1o3r61MoxkrSVxqTi7oqvpVpJcGZkbJILIJGCMR0JXOD+Iq5Td6+tG9fWiMYx2QOTe7K17ptvf4+0eaMAg+XM8e4HsdpGR9aifRLNrjzk8+FtqriC4kjXC9BtUgVe3r60b19aoQ4cCorq2ivLWS3uF3RSDay5IyPqKfvX1o3r60BsUb3RLLUJ/OuFlDldjeVM8YkX0YKQGHsc1fRFjRUjUKqjAUDAApN6+tG9fWkopbId29x1FN3r60b19aYh1ZMHhjS4Lz7QsMjEbtkUk7vFFuBBKRklU4JHAHBI71qb19aN6+tAGdpvh7T9KuPOtUmaQJ5aGa4eXy0/upvJ2jpwMDgVp03evrRvX1oAdRTd6+tG9fWgB1cyv/ACVVv+wN/wC1q6TevrXNIQfiq2P+gN/7WoA6eiiigArm/GX/ADAf+w1b/wDs1dJXN+Mv+YD/ANhq3/8AZqAOkooooAKR0WRGR1DKwwVIyCPSlooA81PwQ0W2klHh7xF4p8O20rl2s9J1UxQ5PXClW/nXT+D/AAJonge3uk0WOdpr2QSXd1dTGWa4YZwWY+mT0x1Pqa6OigArndb8EaXr/ivQ/EN89wLzQ2ka2WNwEYuADvBBJxjIwR+NdFRQAUUUUAFZviT/AJFXVv8Arym/9ANaVZviT/kVdW/68pv/AEA0AHhv/kVdJ/68of8A0AVpVm+G/wDkVdJ/68of/QBWlQAUUUUAFFFFABXN6J/yPfij/t0/9FGukrm9E/5HvxR/26f+ijQB0lFFFABRRRQAUUUUAc3rf/I9+F/+3v8A9FCukrm9b/5Hvwv/ANvf/ooV0lABRRRQAUUUUAFc38Qv+RE1D/tl/wCjVrpK5v4hf8iJqH/bL/0atAHSUUUUAFFFFABRRRQBzfjL/mA/9hq3/wDZq6Sub8Zf8wH/ALDVv/7NXSUAFFFFABRRRQAUVFLcRwuqvuLMCQFQtwPoPem/bIv7s3/fh/8ACgCeioo7mOSTYu8MQSA8bLkD6j3qvqesaZosCz6xqFrYRO2xXuZljVm9AWI5pxi5O0VdgXaKhjvLaaRI4riJ3eMSqquCWQ9GA9PenC5gMLyiaMxx7g7hhhdvXJ7Ywc0WYElFIrK6B0YMrDIIOQRS0gCiiigAooooAKKKKACiiigAooooAKKKKACiiigAooooAKKKKACiiigAooooAKKKKACuI1TQ7LW/ikEv/tO2PSMr5F5LB/y27+Wy5/Gu3rmV/wCSqt/2Bv8A2tQA7/hAdC/6in/g5vP/AI7R/wAIDoX/AFFP/Bzef/Ha6SvAfG8Ws6Haazq+u/FC5s/FKzNJpWh6bejyWjLYiQ22Nzlh3xjnnOKAPWv+EB0L/qKf+Dm8/wDjtc/4s8E6Nb/2J5f9o/vNWgjbdq103B3dMycH3HNdf4XudSvfCOk3OvQ+Rqc1nE93GF27ZSgLDHbnPHaqHjL/AJgP/Yat/wD2agA/4QHQv+op/wCDm8/+O0f8IDoX/UU/8HN5/wDHa6SigDm/+EB0L/qKf+Dm8/8AjtIfAWggZP8AaYH/AGGbv/47XS1xnxdsdW1P4S+ILPw8sj38tsAqRZLyJvUyKAOSSgcY75xQBDYaV4C1W/ey0vXDe3aAl7e28SXEki465VZiRVyPwl4Ul1GXT4ry8e9gRZJbZdeujJGrdGZfNyAexNeHNP4Q12PwPpnwv0aW28VWN/bSXjw2TQyW0aj9758hX5+e+T357H0Xw9/ydR4s/wCwLb/+0qAOsh8JeFLm+uLK3vLyW6tdv2iBNeumeHcMruUS5XI5GetE/hHwra3ltaXN3eQ3N2WFvDJrt0rzFRltimXLYHJx0rxbxhP4v8G/FzxjrenyeIdI027EEjX+neH49QhkRIhks8jKqBeeh9c4xSeEbnxd4w+Lfg3W9RfxFrGm2vnOt/qHh6OwhjR4jgq8TMrhuOSR2xnNAHuf/CA6F/1FP/Bzef8Ax2j/AIQHQv8AqKf+Dm8/+O10lFAHN/8ACA6F/wBRT/wc3n/x2s/X/AuiReG9TkT+0tyWkrDdq92RkIexlwa7Ss3xJ/yKurf9eU3/AKAaAOd0DwLokvhvTJH/ALS3PaRMdur3YGSg7CXArQ/4QHQv+op/4Obz/wCO1peG/wDkVdJ/68of/QBWlQBzf/CA6F/1FP8Awc3n/wAdo/4QHQv+op/4Obz/AOO1g+KvCXinxP4yYz+K7zQPCltahlGkXHkXEsvO4u+OFA+oxjjqawfhHf6v4z8J+KtJ1HX9Ru9OttQkstN1yGXZcyRD+JZMdcbTu5Pz/SgDvP8AhAdC/wCop/4Obz/47R/wgOhf9RT/AMHN5/8AHa8h+KHhS+8H6dplp4e8f+N7vX9ZvUtLG3udcYockbnYKoOBkDrwWBr3rT7eW0021t7idrmWGFEeZ/vSMAAWPuTzQBh/8IDoX/UU/wDBzef/AB2uf0fwTo0njTxHC39o7Ivsu3GrXQPMZJyRJk/j0r0Sub0T/ke/FH/bp/6KNAB/wgOhf9RT/wAHN5/8do/4QHQv+op/4Obz/wCO10lYni6TxHH4bnPgyCym1YsqxC9YiNQThmOOpA5x/PoQCt/wgOhf9RT/AMHN5/8AHaP+EB0L/qKf+Dm8/wDjtec/CK+8VxfFnxhoXi7xDNrEtlBAxJYiFXYAny06KPmxwBnHStn4q+K7+41C18BeEbtrbV9RQzX99Gf+QbZj78hI6MR0749CVoA63/hAdC/6in/g5vP/AI7R/wAIDoX/AFFP/Bzef/HateENY0vXPCdheaDqUmqWXlCJLyXdvlKfIWbcAd2VOSRyea2qAPO9Y8E6NH408OQr/aOyX7Vuzq10TxGCMEyZH4da6D/hAdC/6in/AIObz/47Rrf/ACPfhf8A7e//AEUK6SgDm/8AhAdC/wCop/4Obz/47R/wgOhf9RT/AMHN5/8AHa6GYyi3kNuqtKFOwOcKWxxk+ma8BuNS+JOm/GbwWPGOuRwx6vcSg6TprstvEigDa398nOec47H0APXf+EB0L/qKf+Dm8/8AjtH/AAgOhf8AUU/8HN5/8dqt4r8A/wDCVapFe/8ACV+J9F8uEReRo+pfZ4mwxO4rtOW+bGfQD0rgfhJBqdx8UvE8ln4n17WPDWkj7BEdV1Brjz7jILsOAAF2kcDow55oA9H/AOEB0L/qKf8Ag5vP/jtc/wCOfBOjWvgu+mh/tHevl436tdOP9Yo6GQg16JXN/EL/AJETUP8Atl/6NWgA/wCEB0L/AKin/g5vP/jtH/CA6F/1FP8Awc3n/wAdrpKKAOb/AOEB0L/qKf8Ag5vP/jtH/CA6F/1FP/Bzef8Ax2vnzwX4l8Pa7o8V143+LPi3R9XvLmXFpa6rKsMa7vlyfLYIOe5A+lem/GXXNW0fSfC1ppes3OmaLqF4lvqWuQNukhiwoU7x03Asdw/u/gQDtv8AhAdC/wCop/4Obz/47R/wgOhf9RT/AMHN5/8AHa8++Ges3sfxX1Xw5o3im88XeGILBbj7feTi5a3nLAbBOOGyCTj8vunPstAHA+IfCel6TeeH7qz+3eaNZtwPO1K4mX+L+F5CP0rvq5vxl/zAf+w1b/8As1dJQAUybHkvlio2nkHBH40+myRpNE0cqhkcYZT3FJ7AcZ4Qee38X6zYTy3cCCKKWPT7u4a4aMHIMgkJYYYj7oPGOgrtaz9L0LTNF83+zLRIGmIMjAlmfHTJJJrQqugdSu3/ACEY/wDrk381rwTxBpnj5/i60tquoHN0Dbyxs3krFkfgFx1Fe/y28U7AypuKjAOcUz7Fb4xs4/3jUSjc78FjXg5SkoqV1bUQ5+3W+/73lPnHrla5vxzLLpEEGu2V0lvdQA2w82NHVkkZSRhnTByq859eD26eO1hhffGmGxjOSeKratpUer2iwS3FzblXDrLbSmN1I9DXRQmoVFKW3X0OA4bwNqdtd6vItha3JlstOKgNJE6ylpS5+ZWwpLE8HgDvWDd+HvE2rXl5LYWV2LK6lnMgW/OY3LcqAl4qHB3A/KOg4PNeoaVoQ0qd5RqepXm9duy8uTIo9wMdaonwZAJpnt9Y1m2WaVpTFBelUVmOTgY45NenHGwhVlOGl+93+qJ941tHadtItxd2klnKiBDDI6swxwCSpI5xng1dpsaeXGqbmbaANzHJPuadXkSfNJsaVlYKKKKkYUUUUAFFFFABWXq6CUrHA0xvCv7pY5WUJ/tNjjH1zWpVW50yzu5vOuIQ0m0Lu3EHA7cH3NY1oOcOVf1+eppTkoyuyldWSyajbosk4mYiSVluHA2r/s5xyfateo1gjSTzFQB9oTd3x6VJVwgo3aW4pScrLsZPiH7QtjHLb3UkASVN6oBmTLAYJ7DntWZ4j1sJeR20V0bZLeWNpm5DSZP3R7Y5P5V0s0EVxH5c6B0yDg+oORRNBHcIEmQOoIbB9R0q+qIHqwZQVOQRkGsjxQLgaFNLa3clsYlLsYgMuMfdyegz6c/Stio54IrmB4bhBJG4wynoRSkrqxUXZpmL4gsIrpoESS5S7uWESGK7ljCqOWbarAHAzW4iCONUBJCjGSck01reJ5o5mQGSMEIx6rnrUlKMUm2uoNtpLsFFFFUSFcdbR3Gja/JJqL7xem5eC5jv5pAijLgNCx2KAvGVz0967Gs+20LTLO9mu7ezRJ5gQ78nIJyQM9AfakBznhR7iLVoRcSXaC6svMxc3DSi6fIJlUEnyxg/d+Xr04rs6z9O0HTNKmkl0+0SF5BhmBJ49Bk8D2FaFU2AUUUUgCuZX/kqrf8AYG/9rV01cyv/ACVVv+wN/wC1qAOmrwvxhqreKdN1LT9d+DGqSeJbiGS2t7yOyjniQ4Ijb7XwVA6+1e6UUAc58PtL1bRPh7o2neIpjNqVvbBJ2Z95B5wu7vtGFz7UnjL/AJgP/Yat/wD2aukrm/GX/MB/7DVv/wCzUAdJRRRQAUUUUAfOV/4+8aXviPWYfDviXxfeWtnfzW5GneCrW6ihKsfk8zzcnAxywBI5xzXS/CG78Z6n4416bxVaakbSSyjSLUtT0CLTLmRgfu/IDuAy3G5sYB4ziuo1D4F/DnVNSub++8OCS5upWmmcXtwoZ2OScLIAOT2FafhT4XeD/BGqS6j4X0f7DdTQmB5PtU0mULBiMO5HVRz14oA8w0zwbZeKvHXifwTeeMPHrxaVFEJXn14SR3SyLllKGLAAyBgk59q660+CFvYWcVrY+P8Ax3bW0KhIoYdZCJGo6AKI8AewrX8QfBzwH4p1yfV9c0Fbm/uNvmyrdTR78AKDhHA6Adqj0b4KfD/w/rNrqukaB9nvbR/Mhl+23DbG9cNIQfxFAHbwReRbxxb3k8tAu+Q5ZsDGSe5qSiigArN8Sf8AIq6t/wBeU3/oBrSrN8Sf8irq3/XlN/6AaADw3/yKuk/9eUP/AKAK0qzfDf8AyKuk/wDXlD/6AK0qAPDvjJrXifVfEsXhOHw74lPhYBX1G90WwaeW9BGfKQ8Kq9jk5znggYPe/DjWtOu9LfSNF8H674YstORRHHqun/Zlk3E52HcdxyMknnkHvXaUUAeXaTomqeJvj3qfiPXbG4ttM8Owiy0dZ4yqzO4/eTLngjBIyPVe616jRRQAVzeif8j34o/7dP8A0Ua6Sub0T/ke/FH/AG6f+ijQB0lFFFAHlngvQ9Usvj/471O70+4hsLuK3FvcvGRHMdq52t0bGDnHTvWbcfB3xZp2qeJNZ0P4gMlxrXmPPHJosU0ki4O2ISO5IGDt4wOBxwK9looA8p/Z88OeIvD3w9jTxFcXEMUrubfSriyEL2f7x9xLfebfkHDAY7da9WoooA5vW/8Ake/C/wD29/8AooV0lc3rf/I9+F/+3v8A9FCukoAK8s+Ieh6pqHxo+HmoWOn3FxZ2ctwbm4jjLJAMLjeei5xxnrXqdFAHM/EbVNW0b4e6td+HLK5vdU8ny7aO1jMjq7kLvCjk7c7vwqL4Z+EE8D/D/TdGPNyqeddv3ed+X574Pyj2UV1dFABXN/EL/kRNQ/7Zf+jVrpK5v4hf8iJqH/bL/wBGrQB0lR3LOtrK0MInkCErEWC7zjhcnpnpmpKKAPB9b1u/1P4c3vgnTfhFrGmaheRmFIorNPsELsf9YJxheOSDjr371J418Da9p3hf4f21xptx4m0jQIwmsaXZnLTsFUKwTjzFUhgB6Y45OPdKKAPEPh7od7N8ZJfEHhrwnqPg7wx/Z3kXNpfQfZzdzZOGEOTjGV5H90/3jXt9FFAHN+Mv+YD/ANhq3/8AZq6Sub8Zf8wH/sNW/wD7NXSUAJvHv/3yaN49/wDvk0tFACbx7/8AfJo3j3/75NLRQAm8e/8A3yaN49/++TS0UAJvHv8A98mjePf/AL5NLRQAm8e//fJo3j3/AO+TS0UAJvHv/wB8mjePf/vk0tFACbx7/wDfJo3j3/75NLRQAm8e/wD3yaN49/8Avk0tFACbx7/98mjePf8A75NLRQAm8e//AHyaN49/++TS0UAJvHv/AN8mjePf/vk0tFACbx7/APfJo3j3/wC+TS0UAJvHv/3yaN49/wDvk0tFACbx7/8AfJo3j3/75NLRQAm8e/8A3yaN49/++TS0UAJvHv8A98mjePf/AL5NLRQAm8e//fJo3j3/AO+TS0UAJvHv/wB8mjePf/vk0tFACbx7/wDfJrkbnUrLT/ilvv7yC1V9HwpnkCAnzu2a6+uSubG0vvintvrWG5VdHyomjDgHzu2aANr/AISbQf8AoN6d/wCBcf8AjR/wk2g/9BvTv/AuP/Gnf8I9ov8A0CLD/wABk/wpDoGiKMtpOngZxzbJ/hQAn/CTaD/0G9O/8C4/8a5zxf4h0WX+w/L1ewfbrFuzbblDgDdknnpXS/8ACPaL/wBAiw/8Bk/wrnfF+haRH/YXl6XZLu1i3VttugyPm46dKAOg/wCEm0H/AKDenf8AgXH/AI0f8JNoP/Qb07/wLj/xp3/CPaL/ANAiw/8AAZP8KP8AhHtF/wCgRYf+Ayf4UAN/4SbQf+g3p3/gXH/jR/wk2g/9BvTv/AuP/Gnf8I9ov/QIsP8AwGT/AAqK50fw9ZWkt1eadpkFvChklllgjVUUDJYkjAAHegB//CTaD/0G9O/8C4/8aP8AhJtB/wCg3p3/AIFx/wCNcl4f8afC/wAU6wdK0K50i5vedsJsvLL467S6AN0z8ueK24H8H3Pie68PQWmnPqtnAtxPbCzGUjboc7cHqOAc8igDS/4SbQf+g3p3/gXH/jR/wk2g/wDQb07/AMC4/wDGuJ174ifCjwzrlzo+uTWFrf2pAmh/sqR9pKhhysZB4I6GneH/AIg/CnxTrcGkaFPp1zfXGfKhbTHj34BJALxgZwDxmgDtP+Em0H/oN6d/4Fx/40f8JNoP/Qb07/wLj/xp3/CPaL/0CLD/AMBk/wAKP+Ee0X/oEWH/AIDJ/hQA3/hJtB/6Denf+Bcf+NZ3iHxJob+GNURNZ09mazmAAukJJ2H3rT/4R7Rf+gRYf+Ayf4VneIdA0dPDGqMmk2KstnMQRbICDsPtQA3w94k0NPDGlo+s6erLZwgg3SAg7B71o/8ACTaD/wBBvTv/AALj/wAaoeHtA0d/DGls+k2LM1nCSTbISTsHtWj/AMI9ov8A0CLD/wABk/woAb/wk2g/9BvTv/AuP/Gj/hJtB/6Denf+Bcf+NO/4R7Rf+gRYf+Ayf4Uf8I9ov/QIsP8AwGT/AAoAb/wk2g/9BvTv/AuP/Gj/AISbQf8AoN6d/wCBcf8AjTv+Ee0X/oEWH/gMn+FH/CPaL/0CLD/wGT/CgBv/AAk2g/8AQb07/wAC4/8AGuc0bxDoqeN/EsjavYKj/ZdrG5TDYjOcHPNdL/wj2i/9Aiw/8Bk/wrndF0LSG8ceJUbS7Ion2Xapt0wuYznHFAHQf8JNoP8A0G9O/wDAuP8Axo/4SbQf+g3p3/gXH/jTv+Ee0X/oEWH/AIDJ/hR/wj2i/wDQIsP/AAGT/CgBv/CTaD/0G9O/8C4/8aP+Em0H/oN6d/4Fx/407/hHtF/6BFh/4DJ/hR/wj2i/9Aiw/wDAZP8ACgBv/CTaD/0G9O/8C4/8aP8AhJtB/wCg3p3/AIFx/wCNO/4R7Rf+gRYf+Ayf4Uf8I9ov/QIsP/AZP8KAOa1nxDor+N/DUi6vYMifatzC5TC5jGMnPFdH/wAJNoP/AEG9O/8AAuP/ABrn9a0LSF8ceGkXS7II/wBq3KLdMNiMYzxXRf8ACPaL/wBAiw/8Bk/woAb/AMJNoP8A0G9O/wDAuP8Axo/4SbQf+g3p3/gXH/jTv+Ee0X/oEWH/AIDJ/hR/wj2i/wDQIsP/AAGT/CgBv/CTaD/0G9O/8C4/8aP+Em0H/oN6d/4Fx/407/hHtF/6BFh/4DJ/hR/wj2i/9Aiw/wDAZP8ACgBv/CTaD/0G9O/8C4/8a5zx74h0WbwRfxw6vYSOfLwq3KEn94vbNdL/AMI9ov8A0CLD/wABk/wrnfH2haRF4Hv3i0uyRx5eGW3QEfvF9qAOg/4SbQf+g3p3/gXH/jR/wk2g/wDQb07/AMC4/wDGnf8ACPaL/wBAiw/8Bk/wo/4R7Rf+gRYf+Ayf4UAN/wCEm0H/AKDenf8AgXH/AI0f8JNoP/Qb07/wLj/xp3/CPaL/ANAiw/8AAZP8KP8AhHtF/wCgRYf+Ayf4UAN/4SbQf+g3p3/gXH/jR/wk2g/9BvTv/AuP/Gnf8I9ov/QIsP8AwGT/AAo/4R7Rf+gRYf8AgMn+FAHPeKNa0u+n0CGy1KzuJTrNuQkM6u2Pm7A12Vcf4p0jTbObQJbPT7WCT+2bcb4oVU4+buBXYUAFFFVNUvW03Srm8S2mu2hjLrBboXeQ9gAOpo2At0V5v4Cu5pvH+um9e7a5uLaCaRZraWJY2OcoA6jAHAGeuCRXpFO2iFe5j634nsNBnhguxK888byQxRBd0m3GQMkDPzDrXM/8Lh8PrZyTyWWrRmMOXhe0xICjBSNu7OcsOKqfE+1Nzr2iFWWDy4p2N3JpsNykA3R8lpGG0+gXJb04rz+TUDd6vbXUniy3NnDaTxG7k0mPy41V1BTywSCCSPmPTvjmneyXut7fn+p6uFwdGvDnnVUdJfzdFe/w203aTenY9p8PeMtP8SSRpa293bPJE0yLdIqF1BAJA3EkZYc9OfXir+q69p2iCL+0JnVpSdkcULyu2Op2oCcDucYGRXnPgHzm+JEkl7MbyeTTHYXQ0uCBXTfHjEsbsWHoOhxkE4rsvFSXdlcW2q6TcBL8K1pHA1r9oE4cg7QPMj2tlR8xcKBnPqNaUIzqJS0T/rzOLEU40puMWnbrr+qX5W8+ppad4l0XWLtrXStTtrydIxI8cMgYoucfNj7pz2PNVLrxpotlcSw3D3qvCxVyum3DKCOvzCMgj3BxXNeD9IubDxJPHcSanZyPYMI476O23qWlLM8ZhDIV3MeHZmHoRzUeqp4qt5ZkefxZNp0cUonmRdIBYDGCmcHGN3UA9OK7vqtH2rgpK1urt+Nncw9D0WORZYlkjO5HUMp9QadVHRbdrbRbWJrye8xGCs1wqK5U8gEIqrwOOB2q9XmSSjJpCi7q4UUUVIwooooAKKKKACiisrV4IbtxAkKyXmz5HY8QAn7+e3I7cnHtkZ1JOEbpXZcI8zszVorGuLaK51CMWyKbmFl827PVQP4QfU+nTnmtmnCTlcJRSsFFZGtx2t15dtJapdXTKxhR/ux9AXJ7Acc9fSoLu1kgvNGMt3NK6MImG/CudvLEdzx3q0Qb1FFZOvJZTxxW91ZpfTyEmC3fGM93OeABnr74GScGZScY3Q4q7sa1FcveadFLaWmnOkd5qsUCgXLk4txn7+48jpxjk4+tdMgKxqpbcQACx7+9KMm2xtWQ6iiirJCiiuC0F5RqdtqV19hln1KaeB3VG+0Q7d5O5y2Cg2Y2bQF45JGSdQO9orkfCtjHomsyacqabO8lqJ/tllbeU7Ddj958zbic5ByOh4rrqOgBRRRQAVzK/wDJVW/7A3/taumrmV/5Kq3/AGBv/a1AHTV4R438U2/jLxNeXFw9wfAvgmVbjUZLXltRuwwCRJyAQp9wOpzypr3G8tlvbGe1keRFnjaNnjbayhhjIPY89a8T8R/s+LYfD7UdN8G+IvE08hTdBpU+potrO+4EhkCKvOO5HIHNAHs2j6pb63odjqtlv+zX1tHcw7xhtjqGXI7HBFY/jL/mA/8AYat//Zqh+G3he58H+AtN0q/vr27ulgjaYXdx53kP5ahooyBxGpBCjnA71N4y/wCYD/2Grf8A9moA6SiiigAriPjJpOpa58INf0/RIpJr2SFGSKLJaRUkR2UAcklVYY75xXb0UAfOmq67o/xEvfh/ovgKwmGpaPeQy3hNo8a6dCgG+N2IHGR24O31NT/Brw7P4N+N3iXS9RtdNs5LfSEd4tLknkgUFkbIMxLk465PXpUi62fFfj7xPY+PPiJqPgxdMvjBY6dZ36aeGhGdshkYfPuGD+OehFa/wj1WWf4qeJtMstW/4SjSLS0iEOvTojz54PktOADIMs55JHy5HU0AdB/w0H8Mf+hm/wDJC5/+N1534o+LPgjWPjf4O1qDW86PpEFy1xc/ZJhtkdGCrtKbjyF6DHPWvSfGXgDxl4qk1O1g+If2DRdQQxHTf7Ehl2RlcMvmlgxzyc8HmuOtD4x+GHxA8DeEJvF66zouoB7cWzaXFB5UcagAbgWY9RzntzmgD3GCeO5t454G3RyoHRsYyCMg81JRRQAVm+JP+RV1b/rym/8AQDWlWb4k/wCRV1b/AK8pv/QDQAeG/wDkVdJ/68of/QBWlWb4b/5FXSf+vKH/ANAFaVAHm/jb4c6Z4j8TT6/481mSXwzZWY2aY0zQQxOMlpHZWGf5/gMVz3wTh1jU/AXiuLSNRu7TSbi9uIvDlzdZke3jwVVgGOSoO3jpuDd8034s6H4/8U+MbWyt/DDaz4OtCkzWlvqkNob6TGcSM53ABuMAds5yRjsNG1nxrJ4Z1SL/AIV/b6BdWVqBpVqdUhnjuHwcJ8gAQDC9cA56jrQB5H4+8DaZ4C03QrXw5qWoXnxLvrqPZeR3UhmnyTvZlLFQmcAZ5OOScNX0qm/y18zaXwN23pn2rwHwVpnxH8Matfa9rPw0fX/Ed+5M2pz6/axlE7Rxpg7Fxxwf0AFe9Wck01jBLd2/2ad41aWDeH8piOV3Dg4PGR1oAmrm9E/5HvxR/wBun/oo10lc3on/ACPfij/t0/8ARRoA6SuW+IPhO/8AGfh+HSLDW5tHhe6R72SAfPNAM7owc/KTkHPtggg11NcR8V/+E3l8Hm0+HNos2oXUnlTSidIngiIOWQuQM5wM5yM5HqADzrw5pGleH/2ibHRfhg9wmmWdpIfEMa3MksAfawUMWJ+fds6dD9GFXfj34W8RX/hzXdbufFEsWg2VvG1rpFtHs3uWVWMrZ+cZJI+o6YydH4Z23irwhb2OhRfC3+zbKWUfbtUfX7eaRifvSuqrlz7Dp0Fdj8U9B1DxN8L9b0fRoRPfXUKiGIuE3kOrYySAOAepoAtfDt2k+F/hZ5GLu2j2hZmOST5KcmujrF8G6bc6N4E0HS79Ql1Zabb28yq2QHSJVYAjryDW1QBzet/8j34X/wC3v/0UK6Sub1v/AJHvwv8A9vf/AKKFdJQBT1i2u73Q761028+w3k1u8cF0E3eS5UhXx3wcHHtXzp4+8DaZ4C03QrXw5qWoXnxLvrqPZeR3UhmnyTvZlLFQmcAZ5OOScNX0Pr02p2/h++m0C1ju9TSBjawSvsWSTHygk4wM+4+o614f4K0z4j+GNWvte1n4aPr/AIjv3Jm1OfX7WMonaONMHYuOOD+gAoA9F8cfD0+ONV0t9e1iWLw/ZRO17pkLtEtzJ2LOCCFHP07YyTXHfBERL498Yx+EJrh/A9u8UViskryRicAb/LLEnGd3PcFM9qu/F6w+Iviex0vSvD+gtJo9zCkusQ2+pQwzM2fmt/Mc424/iAOfoMHo/h9d+I7XydEvfhzH4U0e2tz5M0erw3I3AjC7EGcnJJY+nPWgDvK5v4hf8iJqH/bL/wBGrXSVzfxC/wCRE1D/ALZf+jVoA6SqWs6h/ZOhX+olPMFnbST7P72xS2P0q7VbUrGLVNKu9PuMiK6geB9p52spU/oaAPlTQbvwlrPhr/hI/H9r4w1HV7qd5bjxDp8cog0w7yFVXyFGBg8K2M4HTFeh/HC507UtA+H8LNPq+jXmqwSSiEvJLd24UZI24ZiUY9OcntUdr4d+J2i/De4+G9n4X029tHhmtI9d/tFEjEMrMSzQkb9wDnkd8de/YyaT4y8D+D/DWm+DLDTtfXS7cxXsN1L5Esp2gAxOflXkvnd2x70AYPwqb4a2PjS7svC/hrVfDHiE2pDW2rrNHJNBuUkqryMOqg9jwe2a9iryrQPDPivxN8WrTxz4x0iDw9Hpdk1rZ6fHeLcySFtwLO6fLjDtx9OO9eq0Ac34y/5gP/Yat/8A2aukrm/GX/MB/wCw1b/+zV0lABRTd3+y1G7/AGWoAYlrbx3UlykEazygLJKEAZwOgJ6nFS03d/stRu/2WoAr32l6fqaBNSsba8VQQFuIVkAz16jvVJfCXhxYPJXw/pYiwV8sWUe3BOSMY7kCtXd/stRu/wBlqd2guyrY6Ppmloq6bp1pZqgIUW8CxhQSCcYA6kDP0p2oaba6rZtbX0RkjJBG1yjKR0ZWUgqR2IIIqxu/2Wo3f7LUKTT5k9QM/S/D+naPI8llFKZZBtaa4uJJ5NvXaHkZiBnnAOKvzQpcQSQzLujkUoy+oIwRS7v9lqN3+y1OU5SfNJ3YLTYI41hiSOMbURQqj0Ap1N3f7LUbv9lqkB1FN3f7LUbv9lqAHUU3d/stRu/2WoAdRTd3+y1G7/ZagB1V7jT7O7kD3VpBM4GA0kQYgfUipt3+y1G7/ZaplGMlaSuNNrVEDaZYPMJmsrdpRjDmJdwx05xVmm7v9lqN3+y1CjGOyByb3ILrTrK+ZTe2dvcFRhTNEr4+mRUot4VSNVhjCxf6sBRhPp6U7d/stRu/2WqhDqrXmm2Oo7P7Qsre62Z2+fEr7c9cZHFT7v8AZajd/stSaUlZjTa1RSl0HSJxGJtKspBGu1N9uh2D0HHAq8qhVCqAABgADpSbv9lqN3+y1Cilsgbb3HUU3d/stRu/2WpiHVVi0ywgvpb2Gyt47qYYlnSJRJIPRmxk9B1qxu/2Wo3f7LUAV7LTLDTRINOsba0ErbpBBCqbz6nA5NWqbu/2Wo3f7LUAOopu7/Zajd/stQA6uZX/AJKq3/YG/wDa1dJu/wBlq4rU9ds9F+KIe+S8Ik0fC/ZrGa4P+u7iNGx+NAHb0Vzf/CfaJ/zz1j/wRXv/AMZo/wCE+0T/AJ56x/4Ir3/4zQB0lc34y/5gP/Yat/8A2aj/AIT7RP8AnnrH/givf/jNc/4s8baPcf2J5ceq/u9Wgkbfo14vA3dMxDJ9hzQB6JRXN/8ACfaJ/wA89Y/8EV7/APGaP+E+0T/nnrH/AIIr3/4zQB0lFc3/AMJ9on/PPWP/AARXv/xmj/hPtE/556x/4Ir3/wCM0AaGq+GdB11lbXNE07UmT7pvLSOYr9NwNW7DTrLSrRbXTLO3srdfuw28SxoPooAFYn/CfaJ/zz1j/wAEV7/8Zo/4T7RP+eesf+CK9/8AjNAHSVWuNMsLu9try6sree6tCxt55IlZ4SwwdjEZXI64rE/4T7RP+eesf+CK9/8AjNH/AAn2if8APPWP/BFe/wDxmgDpKK5v/hPtE/556x/4Ir3/AOM0f8J9on/PPWP/AARXv/xmgDpKzfEn/Iq6t/15Tf8AoBrN/wCE+0T/AJ56x/4Ir3/4zWfr/jrRpfDepxpHq+57SVRu0S8UZKHqTFgfU0AdF4b/AORV0n/ryh/9AFaVcXoHjrRovDemRvHq+5LSJTt0S8YZCDoRFg/UVof8J9on/PPWP/BFe/8AxmgDpKK5v/hPtE/556x/4Ir3/wCM0f8ACfaJ/wA89Y/8EV7/APGaAOkorm/+E+0T/nnrH/givf8A4zR/wn2if889Y/8ABFe//GaAOkrm9E/5HvxR/wBun/oo0f8ACfaJ/wA89Y/8EV7/APGa5/R/G2jx+NPEczR6rsl+y7caNeE8RkHIEWR+OM0AeiUVzf8Awn2if889Y/8ABFe//GaP+E+0T/nnrH/givf/AIzQB0lFc3/wn2if889Y/wDBFe//ABmj/hPtE/556x/4Ir3/AOM0AdJRXN/8J9on/PPWP/BFe/8Axmj/AIT7RP8AnnrH/givf/jNABrf/I9+F/8At7/9FCukrzvWPG2jyeNPDkyx6rsi+1bs6NeA8xgDAMWT+GcV0H/CfaJ/zz1j/wAEV7/8ZoA6Siub/wCE+0T/AJ56x/4Ir3/4zR/wn2if889Y/wDBFe//ABmgDpKK5v8A4T7RP+eesf8Agivf/jNH/CfaJ/zz1j/wRXv/AMZoA6Sub+IX/Iiah/2y/wDRq0f8J9on/PPWP/BFe/8Axmuf8c+NtHuvBd9DFHqodvLxv0a8Qf6xT1aIAUAeiUVzf/CfaJ/zz1j/AMEV7/8AGaP+E+0T/nnrH/givf8A4zQB0lFc3/wn2if889Y/8EV7/wDGaP8AhPtE/wCeesf+CK9/+M0AdJRXN/8ACfaJ/wA89Y/8EV7/APGaP+E+0T/nnrH/AIIr3/4zQAeMv+YD/wBhq3/9mrpK4HxD4s0zVbzw/bWiaiJDrNuR5+lXMK/xfxPGF/Wu+oAKKKCQoJJwB1JoAKKht721uywtbmGYr97y5A2PyqagAoqGa4ELBducgnO4ADp6/Wov7QQMFITcRkDzUyf1oAt0VBDdCaTaF7E5DBhxj0+tVNX8Q6VoXl/2vex2vm5Kbwecdeg96qMZTfLFXYWZpUVSt9Xsrq8itrabzHmthdRlR8rRk4BBqylxFJJLHHIrPCQJFB5UkAjP4EGhxlHdASUVmP4j0qLQbfWLi7WCxuY0kikkBG4MMjjrnHarFvqlndGD7NMsq3EZkidOVZfXNN05pXaDYt0ViX/iqzsb6S0S01C9khwJTZWbzLGSM7WKjg4IOPQirc+t2cOh/wBrKzz2mwODChYsD6Cq9jUsnbfYDQorA07xppOpx7oGnQ/aUttssJU72BK8emAeak1HxRBpt7JbSadqsxjAJkt7F5EOfRgMU/q9Xm5eV3FdWubdFVLDU7fUWuFt/MD2zrHKkiFSjFFcDB/2XWrdZNOLsxhRRTHmjjZVkkVS33QzAZqbpbgPoppljWQRs6hz0Unk/hTqdwCimSzxQ486VI9xwN7AZoeaKN1R5EVm+6pYAn6UAPooqOaeG3UNPKkSk4BdgAT+NGwElFRvcQxuiyTRq0n3AzAFvp61JQAUUUUAFFFV4tRsp5vKhvLeST+4kqlvyzQBYopAwJIBBI6jPSloAKKKKACuZX/kqrf9gb/2tXTVzK/8lVb/ALA3/tagDpq4HVPjh8O9G1a60zUfEQiu7OZoZ4xZ3D7HU4YZWMg4Ixwa76vCtA0v4peCbbxZqOkaRon2W41e61Fo9TuHM88ZOf3YjO0ZAzlm79KAPatL1Oz1rSbXU9Mm8+zvIlmgk2ld6MMg4IBHHqKxvGX/ADAf+w1b/wDs1O8A+L4fHXgfTvENvAbb7Wjb4C27y3VirDPcZU4Ppim+Mv8AmA/9hq3/APZqAOkooooAxvFOp63pOkrceGfD/wDwkF4ZQptPtqWuEIOX3uCOCAMe/tXJ+FfiZrOrfEN/CHibwgfD98LA3yn+0kugybgo+4oAzk9+3Sk+NfijXPC/hPSpPDN8mn3moaxBYtctCsvlo6uSQrAjqo69s/WqNj8KPFMHii88S3vxDN3rk2nGwt7z+xYkEA3q27YG2t0IwQPvZzxQB1Xg3xwni/U/ElpHYta/2Fqcmnl2l3+dsJG/GBt5B45+tJc+OEt/ixZ+CfsDM9zph1D7Z5uAuHZdmzHP3Cc59OK4H4ITHRH+I02v6kkzWWuzteX8iCJZChbfKVHCg4JwOBnFczdeJNavvHA+NFpp0r+FtOkGmJCFPnTWXziS4A9A7ZA/A42k0Aew33j6Ky+LWm+BjYO8t9p7Xv2vzAFTBcBduOc+W3OeOOvbD1r4s38XiHV9N8JeD7vxHFoWP7Tuo7tIFhbBJVAwJkYYOQOcg1zl1qVprH7VfhHUdMnW4tLrw0ZYZU6MpNwQaj8C+KdF8A+IfiPp3i6+t7G7GsTahGt04RruGQFl2A/fJHOBk/N0oA6+5+Lum/2R4O1LTLKS8tvFOoR2MZaQRtbFm2MWGDkq3GB6HmvQq+UING1S2+FPwqtkuX069vfEnmWk7xCQ22+UeXJsbhh0fB4Ofevp/QrPUbDRLa21rVP7Wvo1Imvfs6wecckg7F4XjA49KANCs3xJ/wAirq3/AF5Tf+gGtKs3xJ/yKurf9eU3/oBoAPDf/Iq6T/15Q/8AoArSrN8N/wDIq6T/ANeUP/oArSoA5rxV8RPCngl4k8T6zDYyyruSLY8khXOM7EBOPfGK0NA8T6L4p0j+0/D+pQX1nkq0sbfcIGSGBwVOCDggHkVzHjKXwd4B1G6+IGtW4bVpYFtIMHdJMR0SJTwGPcjsOeM155YeH9c8NfAn4ga/qtudMv8AxE014LBDj7LG5I2+xw7cdcbeh4AB6Rb/ABl+H11rg0iDxRaNds/lr8riNmzjAlK7D/31Xb14lr+i6WP2P7dPs8KImi212pCgYnIRy2fUsSD9TXqHga5nvfh54durwlrifS7aSUt1LmJSc/iaAN2ub0T/AJHvxR/26f8Aoo10lc3on/I9+KP+3T/0UaAOkqhrWt6Z4d0qXUtcvYbGzhxvmmbAGeg9yfQc1frA8X+GfD/ibS4B4shjlsdOuFvv3shSNWQHl+cFcE5B4xQBU8L/ABN8HeNLx7Pw3rkN5coCxhMbxOQOpCuoLD3GaTxR8T/BvgzUEsfEmuw2d06hhCI3lZQehYIp2j64rz/w8ZPif8bLHxno1k1p4a8OwS2tvesmxtQkIZDtHXYNx/LHVsDFl1LVdH+O3jW68D+HR4ya4t4o79XIi+xSbceXvbIcHbyoxnGP4aAPetL1Wx1vTIdQ0m7ivLOdd0U0LblYfWrdeVfs6rZx/ClYrW6aW4W9mN5A0Zj+yzEjMW09gMH8T9K9VoA5vW/+R78L/wDb3/6KFdJXN63/AMj34X/7e/8A0UK6SgBHdY42eRgiKCWZjgAepriLT4zfD6+1tdJtfFFo92z7FyrrGzZwAJCuw/gea63VdMtda0e80vUEMlpewPBMgYqWRlKsMjkcGvDfHWn6b4qj0/4P/DnTo2h06eOTUr5V3Raei5zlv4pDkk85JyOSTgA9i8UeMdA8F6el74n1OKwgkbYhcMzOfRVUFj+A4o8MeMfD/jOwe88MapDqEMbBZNmVaMnpuRgGXPuOcVneL9EVTY+ItO8NjxHr2jApYW8l6IOHKh23P8uQBnJGeOOTXCfCad5Pi74zl8Q2LaH4kvY4Zn0dVVokgUBfMWRSRISSuTgck9cnAB7PXN/EL/kRNQ/7Zf8Ao1a6Sub+IX/Iiah/2y/9GrQB0lV9Rv7bStLutRv5PKtbSF555NpbYiqWY4GScAHgc1YooA82/wCGg/hj/wBDN/5IXP8A8brubfXtLufD0Wux30K6XLALhbuVvLTyyMhiWxgY9cV5v8a7+41yfQ/hxpEpW88RXAa7ZD80NpGdzN+O0/XYwrr9f+HPhvxLoelaPqto76dpTo1vbRzMiEKu0K2DyMf560AXvDPjLQPGVvcz+GdSjv4rWXyZnRGUK+M/xAZHuMg+tbdeMfs928NnceOra1jWKCHXpI440GAigkAAegAr2egDm/GX/MB/7DVv/wCzV0lc34y/5gP/AGGrf/2aukoAKqaqkMmkXaXU32eF4WWSX+4pGCat0EAggjIPUGk1dWGnZ3OE8BPFaaxf6Pps1pqGm2ltD5eoW0KLlsEGNmThiAAfXmu7pqRpGMRoqD0UYp1U3claFDUYlnkRHlWMgblLAEZDKe9c5eeG/PlUrdR+Uzb5VVkV9wBAIbHTnp/9euyIB6jNJtX+6PyqJR5ra7ByrfqZOj2n2NlWS4jnmkUtIYwAAQEXoPpWR4w1K7tdStbVNSutNs5reUyS22mtdlnBUBThW28Fj+FdaAB0AFLW1GapzUmr/wBeaf5FuTk7s4Tw8rW/ipJoby51C2Gij7PHJa+TIAsmCNpCnJI/ixWzpkGp2mpSX13AzDVGBmhRwfshVcLz3BUAHH8XseN77ND9q+0+Unn7PL83b823OcZ9M1JW1XEc97LdW/q1hNnEaOLi38H+EtSgsJtQW1sIw8EG3zBuhADqGIBI6dRwT9Km07SZm1TT3unubBy890LaGUKEDMMRvjgjuR6k11tvbw2ltHb20SQwxKEjjRcKigYAA7ClMUZmWUopkUEB8cgemaqWJu20t7/jf/MUrSPGvF9pdz+KJ45bi4vpLV13SwWzrnK5CP5cLA4DdyTwK7WLT7nUPhuf7SuJNzRrcJHJaRoYguGCFCoBGV/iUdelbV94Q8OaneyXmo6HYXNzJjfNLbqzNgYGSRzxWhBp1la6cLC2tYYrNUKCBEAQKeox0xzXTWxsZ0oRitY26L8PmSk+a551pttrFkdJGr6fDHZXN/DJE1s8KeW+1iMoka5B781peK/DniO81ue50i5aWC6hjjeMvEgQI5YL80bE8kkn3xXQWfgrwxp93FdWPh/TbeeFt0Usdsish6ZBA4rcqamNXtFOml81p912NX5bHK+Erl4F1h9axbXn2+OO5Mk6MryG3hClSAo+YbeMdSRXRx31pLIscV1C7sWCqsgJJX73Ht39KclrBG8rxwxq0ziSQhRl2AABPqcKBn2FPCKDkKoPriuKpUjUlzWt/wAMNjqxdbms5Jfscr20c8keTLOwHlqSeRnqevStqmsiMcsqk+4rkrU3UjyounJRlc5y5+zmS5jZla+M8ZtyTlyvy4K98ferpaTau4HaMjocUtFOnyX8xznzJGJ4gurFWjtbn7J9olRtj3TKEjXgFuep6cDmsTUxbpI0Znhk8u3hVXmYGSYDvCfU9zzXaNGj/fVW+ozR5aHGUXjpx0rUzBDujU4IyAcHqKxvEd7YW6QQXq2jTT7hD9sZVjXGNzEt6ZHA5OfxrbprxpJjeitjpkZqKkXKLSKi1F3OO1dbKDRbS3F3Y3JSBQrMczTAEY8k89x2zXYxnMSnBXKjg9RR5Ufy/Ivy9OOlOpRhytvuOUrpIKKKK0ICuestMsJ/FVxd21nbxDTx5CtHCqsZXUM7ZA7KVA/3mroaAAM4GM9aOoGB4as4bC+1mC33bRdBiXcsSSgJJJ9636MAZwOvWiktFYAooopgFcyv/JVW/wCwN/7Wrpq5lf8Akqrf9gb/ANrUAdNXl938K/FLw3enWXxP1aLRbwv5trcWkc82xidyrOSGXrjgV6hRQBl+GfDth4T8NWWh6OjJZ2UeyMMcs2SSzE+pJJPuaz/GX/MB/wCw1b/+zV0lc34y/wCYD/2Grf8A9moA6SiiigDG8UeEtD8aaQNL8TWC31msomWMuyFXAIDBlIIOCRwehNcxp/wL+HWlalbahYeHfKurWVZoZPt1w211OQcGQg8jvXoFFAHnPw88FX+kaj48XxHYwmy1zWp7iBHZZFngkJPzKM4BDYIPvXeJptjHpQ0yOzgWwEPkC1EY8vy8Y2bemMcYq1RQB5jceAb63+Pnh7xBpNhb2/h7TtEayPlMqCJgZcKE64xIOgxwfx7zUvDeh6zcRT6xo2n380P+rkurVJWT6FgSK0qKAPPfiZ4T1XxFrPgifRbZJYdI12C7u/3ip5cKsCWAJGcY6Dn2r0KiigArN8Sf8irq3/XlN/6Aa0qzfEn/ACKurf8AXlN/6AaADw3/AMirpP8A15Q/+gCtKs3w3/yKuk/9eUP/AKAK0qAPLfGfwj1jxP8AEODxXYeNDp0loirZ202lpdpakDllDuFyT82SuQe/Ax0WieEdf/s3VdP8deKx4ps9Qg8gQnTIrTylIYPzGTuyCPpjiuwooA8iHwP1GXSIvDd/491G58IxOpXSTaRrIUVtwQzg7ioPbGOmMYr1mCCK1t47e3QRxRIERF6KoGAB+FSUUAFc3on/ACPfij/t0/8ARRrpK5vRP+R78Uf9un/oo0AdJXGfE/wFdfETwwmi22vy6NF5wknKQeaJ1AOEYbl4zg9e3SuzooA878NeA/G/h+406KT4ix3OkWZVTp0Xh63gV4x/AGU5X6iotS+Fepw+KtU13wP4yufDUusMHv4fsUd1HKwz8yhyNp5Jzz1Nek0UAcv4A8CWPw/8OvptjcTXks87XN1d3B+eeVsAsfQYA4/mSTXUUUUAc3rf/I9+F/8At7/9FCukrm9b/wCR78L/APb3/wCihXSUAZ+vafc6t4fvtPsdQk024uYGijvIl3NAxGNwGRyPqPqK8t8M/Bzxl4O017Dw38TEsreSQyuB4cgdnY92dnLMfqa9iooA4zxJ4M8QavJpl5o/je/0bU7K38mSWO3SWC5JxudoCQuSR68fhTPBvw5bw54ivvEmt67c6/r9/CLeW9miWFVjBB2pGvCjKjv2HTnPbUUAFc38Qv8AkRNQ/wC2X/o1a6Sub+IX/Iiah/2y/wDRq0AdJRRRQByWm+BEs/ihq/jS8v2vLi9to7W1gaIKLONQNyg5OdxAOcDGT1zXW0UUAcj4F8BR+CLnX5o9Qa8/tnUXviGi2eTuJOzqd2Mnnj6V11FFAHN+Mv8AmA/9hq3/APZq6Sub8Zf8wH/sNW//ALNXSUAN3H+6fzo3H+6fzp1FADdx/un86Nx/un86dRQA3cf7p/Ojcf7p/OnUUAN3H+6fzo3H+6fzp1FADdx/un86Nx/un86dRQA3cf7p/Ojcf7p/OnUUAN3H+6fzo3H+6fzp1FADdx/un86Nx/un86dRQA3cf7p/Ojcf7p/OnUUAN3H+6fzo3H+6fzp1FADdx/un86Nx/un86dRQA3cf7p/Ojcf7p/OnUUAN3H+6fzo3H+6fzp1FADdx/un86Nx/un86dRQA3cf7p/Ojcf7p/OnUUAN3H+6fzo3H+6fzp1FADdx/un86Nx/un86dRQA3cf7p/Ojcf7p/OnUUAN3H+6fzritT1C+sfiiGsNGuNTZtIwywzRJsHndfnZf0rt65lf8Akqzf9gb/ANrUAO/4SLXv+hK1H/wMtP8A47R/wkWvf9CVqP8A4GWn/wAdrpK881n40+HtK1m906107W9abTm231xpVj50Noe+9sjGO+M9D3oA3/8AhIte/wChK1H/AMDLT/47XP8AizXtbk/sTzPCN/Dt1aBl3Xdsd5+bCjEnU+/FdxpGq2mu6NaarpshltLyFZoXKlSysMg4PIrH8Zf8wH/sNW//ALNQAf8ACRa9/wBCVqP/AIGWn/x2j/hIte/6ErUf/Ay0/wDjtdJRQBzf/CRa9/0JWo/+Blp/8do/4SLXv+hK1H/wMtP/AI7XSVV1O9/s3S7q9+zXF39niaX7Pax75ZcDO1F7segFAGL/AMJFr3/Qlaj/AOBlp/8AHaP+Ei17/oStR/8AAy0/+O1wmufGXxEJdP8A+Eb+G3ixo/tK/bvt+iyA+R/F5Wxz8/pu4rs/Cnjz/hK9QmtP+EV8TaL5UXm+drGnfZ435A2q245bnOPQGgCx/wAJFr3/AEJWo/8AgZaf/HaP+Ei17/oStR/8DLT/AOO1ynxH8TfEXwfbaprlg/g9dAtFDQrfG5+1ScD5cKQhYtkAA+lR/DnxR8SPGVnpmuXbeD/7CuSftCWn2n7VGBkFcElQ4OOCaAOv/wCEi17/AKErUf8AwMtP/jtH/CRa9/0JWo/+Blp/8drpKKAOb/4SLXv+hK1H/wADLT/47Wfr/iDXH8N6mr+DdQjVrSUFzeWpCjYeeJc12lZviT/kVdW/68pv/QDQBzugeINcTw3pip4N1CRVtIgHF5agMNg55lzWh/wkWvf9CVqP/gZaf/Ha0vDf/Iq6T/15Q/8AoArSoA5v/hIte/6ErUf/AAMtP/jtH/CRa9/0JWo/+Blp/wDHab4y+IXhrwFYi48R6ikDuuYrZPnmm/3UHOPc4HvRpHjuw134eJ4w0iw1K7tJInkjtIYA1y+xyhUIGwWyp4BoAd/wkWvf9CVqP/gZaf8Ax2j/AISLXv8AoStR/wDAy0/+O1yOo/Hew0exe91bwN43sbSPAee50hY41ycDLNIAMkgV6XYXkeoadbXsCusdzEsqCRdrAMARkdjzQBhf8JFr3/Qlaj/4GWn/AMdrn9H17W18aeI3Xwjfu7/Zd8Yu7YGPEZxkmTBz7Zr0Sub0T/ke/FH/AG6f+ijQAf8ACRa9/wBCVqP/AIGWn/x2j/hIte/6ErUf/Ay0/wDjtdJRQBzf/CRa9/0JWo/+Blp/8do/4SLXv+hK1H/wMtP/AI7VTxT8Qf8AhF9WWw/4RHxTrG6IS/aNI037RCMkjaW3D5hjke4qt4P+KmmeMfFF54fh0XXNJ1Gzt/tE0Wq2awFVJUDgMSCd4IyBkc0Aan/CRa9/0JWo/wDgZaf/AB2j/hIte/6ErUf/AAMtP/jtdJRQB53rGva23jTw47eEb9HT7VsjN3bEyZjGcESYGPfFdB/wkWvf9CVqP/gZaf8Ax2jW/wDke/C//b3/AOihXSUAc3/wkWvf9CVqP/gZaf8Ax2j/AISLXv8AoStR/wDAy0/+O1vXl5b6dYz3t9MkFtbxtLNLIcKiKMlifQAV5tB8ffCk0kM0tjrlrpM8vkxa1caeUs3bOMCTOfXqOMHOKAOr/wCEi17/AKErUf8AwMtP/jtH/CRa9/0JWo/+Blp/8dqDxn8RdF8ESWdtqKXl5qF8SLXT9Pg86ebHXC5H6nml8G/ETR/G097aWMN9Yajp5X7Vp+pW5gnhz0JXJHbseOM9RQBN/wAJFr3/AEJWo/8AgZaf/Ha5/wAc69rcvgu+SbwjfwIfLzI13bEL+8XsJCa9Erm/iF/yImof9sv/AEatAB/wkWvf9CVqP/gZaf8Ax2j/AISLXv8AoStR/wDAy0/+O10lFAHN/wDCRa9/0JWo/wDgZaf/AB2j/hIte/6ErUf/AAMtP/jtGveONL8P+JtE8PzpcXOpazLshgtkDNGgzmV+RhBjr7Hg4NTeL/GejeB9GGpa9O6RvIIoYokLyTSHoqKOp4+lAEP/AAkWvf8AQlaj/wCBlp/8do/4SLXv+hK1H/wMtP8A47VHwl8TNL8W61No66XrOj6lFB9p+yavZGB3iyBvHJGMkd67KgDgfEGsareXmgRXvhq80+I6xbkzy3Nu6g/NxhJCf0rvq5vxl/zAf+w1b/8As1dJQAUUVl+J4ryfwrqcWl5+2PbOsOP72OKTdlcaV3YsWer6bqFxNBYX9tczQHEscMyu0Z/2gDxVyuB8B3d4NQi0+1u573SodPj8wzQLH9mn6GMYVe3UHJ9676qasSnc5Txl41k8KXFpBDpovXuYpJAXuPKVQhXIyFY5O7jjHHJFcD4h/aDl8PWdpNP4VExuskBNRwFGARkmLOeemMe9VP2hZbyPXvCqwm8jtJPPW7lsoPMlVN0WcHH14zg14brE+uSaswsI9Su7O1kkWzlu7IGTy2G3n5Txjt0HbFexgcv9q41Jtcuumt+29zolVwyoOPK+fvfT7j6W+Hfxjk8d+LptCl0BNOaKyN350eorcg4ZBt+VAM/vPXjGCK77V9dtdFVDdQX8pcEqLOwmuOnYmNSF9s4r55/Z4tb2z+JM1vIJzZQ6TKUZopI08xpIS3D/AMXABI67RXs3j0pd26WX9n3d3LH++RW0pr21kPI2ugIBPcc8HBqcRhqKxipRXu+X9M5YtuNzd0bxFa64MW1tqVu4QOy3unzW+3Pbc6hSR6Amsy48aT22qx6c/hbWTcSgmMLLZ4YD3+0cZwcA4JwcDg4yvAu+ztJLcaVcWd7cxb2hTSXsbONwvTjIBycFhycdKZ9m1uyuotC/sHQn/tCOS4d5NRuJGcxGMZZ2jLlhvXac5G0YIwKn6vTjWlFK66Xf3vdf12KV2d5byNNbRyyQyW7ugZopCpaMkfdO0kZHTgke9SVQ0O2ubPRoLe9SOOWMEFY7mS4AGTj95J8zcetX68yaSk0gWwUUUVIwooooAKKKKACmvIkeN7KuSAMnGSe1OrN1a2jkks5zHuljuECtjO0Fhn6dKmTaV0VFJuzLEmqWEVx5El7bpNkL5bSqGz6YzVqqNyDc6lDAQfLiHnPxwT0Uf1q9Uwcne45JJKw2SRIYmkldURBlmY4AHqTVe01SwvpGSyvbe4dRllilViB68GrXSs3SVM73GoSAh53KoGGCqKcAficn8a0INKq95qFnp0SyX91DaozbVaaQICfTJ71YrH1/VotOEMTGOOa4DKs0qkpGvG4nHU8jA7/hmoqS5YtlRjzOxen1SwtZIUub23hef/VK8qqZP93J5/CrVcjdXunQafbaNFcxxwSW677uVPvJnooxyTg+wrrIgohQRnKhRtPqKUJ8zfkOUeVIdRRRWhAVGbmBbpbYzRid0MixFhuKggFgOuASOfcVIThSQMn09a8/tk1s+MUu77SLiK8urG5Qy+fGyRLuj2KuD0HvySxPTgA0rnbW2p2N5dT21pe2889ucTRRyhmjP+0ByPxq1XFeCppFktbW3vJrmOOzAu4pYFQWs3GVBCg5J3ZBLE9c12tNqxIUUUUhhXMr/wAlWb/sDf8AtaumrmV/5Ks3/YG/9rUAdNXzX8IdK8fXnw0v9X8O+KLPRtt7cTywS6ek8l5MAC3mu33OmOB796+lK851T4JeHtQ1C/ntdU17SbbUpDLfafp2oGK2uWb7xdMHr6AgUAbPwv8AF8/jr4c6Zr17CkN1OrpMsY+UujlCV9jtzjtnFWfGX/MB/wCw1b/+zVraLo1h4e0W10nR7ZbaytI/LhiX+EfU8kk5JJ5JOayfGX/MB/7DVv8A+zUAdJRRRQAUUVk+JdB/4STRX07+1dT0ne6t9q0u58iZcHOA+Dwe9AHznqVhpOh6zej42eE/EmvatfahIum31rcM8MqMRsSMLKu0+i4J5HAxivWvgzpviLRfCN+PE6XdraNeyS6baX0vmz2tt2V2/p9eBnFUr/4B6ZqrW7ap428a3rWsglgNzqyyGFx0Zd0Z2n3HNbug/DL+wtcttS/4TfxjqXkEn7LqOredBJlSPnTYM9c9eoFAHmF34t+Euu+NJdf8Y+OrnXoY5d+n6ZNp1yltaDjA2CPDn3OM9wetL/wl3wm0zxrF4j8IeO7rw+0twJNSsbfTrl7a+XOWUxmPCE8/MOmSQM817N490m7134e69pWmxiS7vLCWGFCwXc5UgDJ4HPrUPw40W98O/DfQtJ1WMRXtpaLHNGHDbG6kZHBxntxQB0UE8dzbxzwNujlQOjYxkEZB5qSiigArN8Sf8irq3/XlN/6Aa0qzfEn/ACKurf8AXlN/6AaADw3/AMirpP8A15Q/+gCtKs3w3/yKuk/9eUP/AKAK0qAOQ8e+GdEvtD1fXLzS7WfU7bSLmKG6kjDPGvlucAnpyT9Mn1NYv7Pn/JCfD3/bz/6Uy16DqFjDqemXVhdbjBdQvDJtODtZSDg/Q1m+EfC1h4K8KWXh/SHne0swwja4YM7bnZySQAOrHoBQB5z8Rz/wn3xU8P8Aw8g/eafZEatrYAyNi/6uM/XPI/21PavYAAqgKMAcADtXPaF4K0zw/wCJNc120e4lvtblWS4edw2wKMBE4GFGenPb0FdDQAVzeif8j34o/wC3T/0Ua6Sub0T/AJHvxR/26f8Aoo0AdJRRRQBQ13WbTw7oF9rGpPstbKBppCOpCjOB7noPc1578DtHu5NB1DxrriAat4quTdtkf6uDJESD2xkj2K+ldp4y8I2PjjwzNoWrTXMNpO6PIbaQIzbWDYyQRgkelbMEEVrbx29ugjiiQIiL0VQMAD8KAJKKKKAOb1v/AJHvwv8A9vf/AKKFdJXN63/yPfhf/t7/APRQrpKAIby0tr+xntL6GOe2njaOaKRcq6EYIIPUEV4h4iI+Lt9B4B8D28Vv4P0eeManqkSgRnZ0gg7HA7jvg9Pveza7o8HiDQL7SLuWeGC9gaCR7d9kiqwwSp5wfwNed6b8BtP0ayWz0fxx42sLVSSsFrq6xICeSQqxgc0AdJ431rwt4HsofFGu2sLXlnG1tYbUDTyFh/qo+/OPwGe2a5/4V+FtbPiDXPH3jCBLLVvEAjWKwT/l1gUAKrf7WFUEdtvPJwL/AIt+D2keMdQ0m/1DW9et7zSbdYLee0vFV8qc+YSUP7wnqwxnj0FaPhb4ff8ACL6s1/8A8Jd4p1jdEYvs+r6l9ohGSDuC7R8wxwfc0AdfXN/EL/kRNQ/7Zf8Ao1a6Sub+IX/Iiah/2y/9GrQB0lZ3iHW7fw34b1DWb1JHgsYHndIhlmCjOB7npWjRQB8jf8LTtrbR9Z8a22vRnx/qs6RwW32R5F0+zD/6pC6eXkgDJyePfNdx8QNck8deMvhfd+Er63kju5Lp7a4uoH8lZk2Bn2MAWKEZAPcDsa9i8a+DdN8eeGZdD1p7hLWSRJC1s4VwVORgkEe3SovFngTRvGWkWtjqqzxmykWW0urWUxzWzgYDI/Y/XI6HqBQBxmj+IPGHhX4u6Z4O8Wa7b+I7XWrSWe2u1sUtZIHjVmIKpxtwpHckkdMV6vXGeFfhfo3hXXJNa+26rrOrvF5Iv9YuzcSon91TgAD8M12dAHN+Mv8AmA/9hq3/APZq6Sub8Zf8wH/sNW//ALNXSUAFFJlvQfnRlvQfnQAtFJlvQfnRlvQfnQAtFJlvQfnRlvQfnQAtFJlvQfnRlvQfnQAtNMaGRZCil1BCsRyAeoz+A/Kly3oPzoy3oPzoAWiky3oPzoy3oPzoAWiky3oPzoy3oPzoAWiky3oPzoy3oPzoAWiky3oPzoy3oPzoAWiky3oPzoy3oPzoAWiky3oPzoy3oPzoAWiky3oPzoy3oPzoAWiky3oPzoy3oPzoAWiky3oPzoy3oPzoAWiky3oPzoy3oPzoAWiky3oPzoy3oPzoAWiky3oPzoy3oPzoAWiky3oPzoy3oPzoAWuZX/kqzf8AYG/9rV0uW9B+dcTqg1k/FBf7DaxWT+yP3n2xXIx53baRzQB29Fc3t8cf89fD/wD37n/+Ko2+OP8Anr4f/wC/c/8A8VQB0lc34y/5gP8A2Grf/wBmo2+OP+evh/8A79z/APxVc/4sXxj/AMST7RJof/IWg8vZHN975sZyelAHolFc3t8cf89fD/8A37n/APiqNvjj/nr4f/79z/8AxVAHSUVze3xx/wA9fD//AH7n/wDiqNvjj/nr4f8A+/c//wAVQB0lFc3t8cf89fD/AP37n/8AiqNvjj/nr4f/AO/c/wD8VQB0lFc3t8cf89fD/wD37n/+Ko2+OP8Anr4f/wC/c/8A8VQB0lFc3t8cf89fD/8A37n/APiqNvjj/nr4f/79z/8AxVAHSVm+JP8AkVdW/wCvKb/0A1m7fHH/AD18P/8Afuf/AOKrP19fGn/CN6n50mg+X9kl37Y5s42HOPm60AdF4b/5FXSf+vKH/wBAFaVcXoC+NP8AhG9M8mTQfL+yRbN0c2cbBjPzda0Nvjj/AJ6+H/8Av3P/APFUAdJRXN7fHH/PXw//AN+5/wD4qjb44/56+H/+/c//AMVQB0lFc3t8cf8APXw//wB+5/8A4qjb44/56+H/APv3P/8AFUAdJXN6J/yPfij/ALdP/RRo2+OP+evh/wD79z//ABVc/o6+Mf8AhNPEflyaH53+i+bujm2/6s4xz6etAHolFc3t8cf89fD/AP37n/8AiqNvjj/nr4f/AO/c/wD8VQB0lFc3t8cf89fD/wD37n/+Ko2+OP8Anr4f/wC/c/8A8VQB0lFc3t8cf89fD/8A37n/APiqNvjj/nr4f/79z/8AxVABrf8AyPfhf/t7/wDRQrpK871hfGP/AAmnhzzJND87/SvK2xzbf9WM559PSug2+OP+evh//v3P/wDFUAdJRXN7fHH/AD18P/8Afuf/AOKo2+OP+evh/wD79z//ABVAHSUVze3xx/z18P8A/fuf/wCKo2+OP+evh/8A79z/APxVAHSVzfxC/wCRE1D/ALZf+jVo2+OP+evh/wD79z//ABVc/wCOV8Y/8IXffa5NDMP7vd5Uc27/AFi4xk+tAHolFc3t8cf89fD/AP37n/8AiqNvjj/nr4f/AO/c/wD8VQB0lFc3t8cf89fD/wD37n/+Ko2+OP8Anr4f/wC/c/8A8VQB0lFc3t8cf89fD/8A37n/APiqNvjj/nr4f/79z/8AxVAB4y/5gP8A2Grf/wBmrpK4HxAPEwvNA/th9JNt/bFvkWqSh8/Nj7xxiu+oAKKKjuLiO1tpJ5t3lxqWbahY49gASfwoAkorK03xJperX0lnYzyNcRIJHikt5ImVTwD86itWgAorh/iF4x17wvdafF4f0M6qLlJGlIikfy9pUD7g77j19K4//hbPjv8A6Epv/AW4/wAKzdSKdmd1LAV60FOFrPzR7RRXnfgTx34l8SeI5LDXvDp0y3Fq8yzGGVMsGQbcuMdGJ/Cu7N/CNVXTzu85oWnHHG0MFPPrlhVxfOtDmr0ZUJcs9yzRWTZ68l5q0tiLdkaN5F3luDsx/PdWTH4xvUSG8v8ARTBpczlVuYpXuJMYOCYo4yRnHrgZ610Rw9SWy/L+mZHWUVzF34xWHwrpetRRWUaajGkgS/1BbUKGTdjcwO4+1W9A8SLrlnZTrAifakkbMU4lQbW28MBhgfWiWHqxjztaXt8/6QPQ3KKwLrxV5OpXNna6Hqt+bVwkkttHGU3FQ2AWcHoR2ratZzc2kUzQS25kUMYpgA6exwSM/Q1EqcoJSfUV0S0UUVmMKKKKACiioprqC3aNZpVRpW2opPLH2Hek2luNJvYloqrJqVpDdLbyS7ZGIGNpwCegJxgH61apKSlswaa3Ciobm8t7NFa6mSIOwVdxxuJ7D1NRXGqWlpcLDcSlHbH8DFRnplgMD8TVCLdFFQXl9a6fbma9njgjzjc7YyfQep9qV0tw32J6Kgu722sLfz7yZYo9wXc3qTgD86npgFFFFABRRVC21vT7vUZLGGcm4jBJRo2XcAcEqSAGAyM4J60AX6KpWOsWOo3E0NlMZWhOGIjYKeccMRhueOCau0AFFFFABXMr/wAlVb/sDf8AtaumrmV/5Kq3/YG/9rUAdI5ZY2KLvYAkLnGT6V5dqfxI+IejaVdalqfwqW3s7SJpppW8S2xCKoyTgLk/QcmvU68l+M93ceJNU0H4a6TI6z65Os+ovGeYbOM5Yn6kEj12Y70Ad34H8TP4x8E6b4gl099Oa+jMgtnk3lBuIB3YGQQAw4HBqLxl/wAwH/sNW/8A7NW9aWkFhZQWlpGsVvbxrFFGowEVRgAfQCsHxl/zAf8AsNW//s1AHSV5z4t8YaxpXxq8GeHbGdY9N1OO4a7iMakykKdvzEZGCM8Ee+a9Grxz4qQ6ppnxg8F+KLXQdW1iw06KdbhdKtGuJFJBA4HA+93I6GgDqPir4m1XwxY+GpNFuFga/wDENpZXBMavvhcOWXkHGdo5HNclH8RfEn/Co/iBrrXiNqGj63c2djIYExFGrRBRjGGI3nk5z3zXLeNrHw5quoaF4u07whrnh/WLnxbZQ3MuswyQvOrB2JVC7LjKLyAOldH8P/DEfjL4cfEXw/LctarfeKL1PPVNxQjymBxkZ5A4yKALek3HjHTfB2j+OfF/xS8vRHgtb68tf+EehOUl2Hyt8fzc7wu4LnnOBV7wJ8UP+E5+MGt2Gi6mt74ct9NjltQLYxkS7lDnLKH6sRzxwMVwKan8RfDUa6Fp+seOXtNLAs4Gt/AVvJGUj+RSjmXLLhRgnkjmuw+G+q6dr3xo13UzFrtjrDaRBHc2Wr6atqcKUHmDEjH5sKdpA68E9gDE8d+J/EfhrR9W1HTPjbpN9dWjny9Hj0+y83O8KY/vM2VBOflz8vNdFqPxKv8ATPHXw+g1TVbPT9H1jSpLrUnn2RxmTyCyne33BvwAARnOOa4nwl4b1jw1NqWgah8JdA8V6it3JdGefVbHzlhcgJlHDOF4JBOOvQGtrWLe78UfG34ex+M/CUGnrJa3yS6XPJHexBVjcqSQNh52nGODigDofix4t8Q2niLwNo/gzXYtMj8R3Ekb3yW0dyCv7rYyhsgj94TxjPHNXv8AhCfid/0Vz/y2rb/4qrfj/wCGUni+78OXmia2PD114dkd7No7JZ0XOzACEgDHlrjqPaqn/CE/E7/orn/ltW3/AMVQB6LAkkdvGk8vnSKgDybdu845OB0z6VR8Sf8AIq6t/wBeU3/oBq7bRyxWkMdzN58yIqyS7QvmMBy2BwMnnFUvEn/Iq6t/15Tf+gGgA8N/8irpP/XlD/6AK0qzfDf/ACKuk/8AXlD/AOgCtKgDhviD8V9E+HxS0uornUNWmhM8Gn2sZLsgz87N0Vflbnk8Hg4q54T8f2fiP4YQ+Nb2D+zLRoJp5o2k8zylid1b5gBn7hPSr3jS2gbwbrty0MZnXSrlFlKDcFMbEgHrj2ryPwzbT3f7FUsVqrPJ9gvGwoySFuZWb9AaAN4fHDUYtIi8SX/gLUbbwjK6hdWN3G0gRm2hzABuCk9846YzmvWYJ4rq3jnt3EkUqB0dejKRkEfhXi2v61pZ/Y/t3+0Quj6LbWigMDmcBEK49QwJP0NeoeBraey+Hnh21vAVuINLto5Q3UOIlBz+IoA3a5vRP+R78Uf9un/oo10lc3on/I9+KP8At0/9FGgDpKyfE3ifSfCGgzax4guvs1lCQGfYWJY8BQACSSa1qjuLaC7hMV1DHPGSCUkQMMg5BwfQjNAHn3w5+LkHxE8Ratptvol1pqWEUcqPdON8qt0ymPl7EcnINM1X4qao3irU9D8F+C7zxHJpBC384u0to42IztUsDvPtwTg4zWL4B/5OU+In/XG2/wDQFrS8eeNr641x/Avw3ijn8SXgze3gH7vTYyADJIw/jxjA7cdTgEA63wH420/4geE4Nd0qOWGORmjkhlxuidTypxwexB9COnSujrm/AHgy08A+C7PQbKQzeSC807DBlkY5ZsdhngDsAK6SgDm9b/5Hvwv/ANvf/ooV0lc3rf8AyPfhf/t7/wDRQrpKAGTSx28DzTOEjjUs7HooAyTXlVj8ftG1n4gaX4e0HS7u8s9QmaBdVkzFGWAz8ilcuBwDnbjPQ16wRkYPIrxn4j28Np8cvhfBawxwQpLcBI41Cqo+XoBwKAPXNT1O00bSrnUtSnW3tLWJpZpW6KoGTWH4B8WXHjXwsmuT6TLpcNxM/wBkSWTc00APySkYG3d6c9MgkEV5z8ab3WNW8U6T4bn8NeIb/wAJxlLvUpNHsWna7YElYcjACggZ5zznHAzW+FXxA1DU/i94k0qbTfEMenTNElnZ3FsVj0lURvlkTdiHIAAA6mgD3Wub+IX/ACImof8AbL/0atdJXN/EL/kRNQ/7Zf8Ao1aAOkpsjrFG0jnCqCxOM4Ap1NlljhheWZ1jjRSzu5wFA6knsKAPI3+Ol5HpX/CSyeBtRHg4zeWNZ+1R7yu/YH8jG4KTxnOO2c12Pjb4h6f4N0WwvBbTandapMkGnWdt9+5duRgnoORz7jjmvOPi/p+paj4MvfEtt41sdS8JI8M8WhfZ0SCdVK/u/tEbB3ywLAev0qt8R3n8R+KvhNfw3Mnh631GB2ScbSbNpI4m2DcMB8EKCR1wR0oA9L8JeMfEOs61NpnifwRfeHZUg8+Oc3C3Vu4yBt81QAH5zt64Brsq8b0eXVfBPx20vwlbeKdV8RaZqljLNcw6rcC4ms3RWKvvwMAlQAMAfN34r2SgDm/GX/MB/wCw1b/+zV0lc34y/wCYD/2Grf8A9mrpKACgnAJ/lRRQBzXg21uWj1DVtSt5YLzULp2KTIVZIlO2NcHoMDP410tFFAHB/ETxJ4p8PX2mt4U0JtVWaKUTkWss3lkFNv3CMZ56+lch/wALM+J//QkN/wCCu6/+Kr2uiuiFWMY2cEzKUG3dSPOPAfi3xl4g8UNB4n8ONplpHaSOsxs5ogX3oAuXJHTJx14rpNe0zU7jWI7mx0/TtRtns5LW4gvrpoQQzKe0ThhhSMHFdHRSVa0+eMV6alKNlZs4fwpZQ6fr0lra2sVpFHJcBYYBhE5TIXgcZz2FcjrcGnaf42vpdOvfD+iz20w2faL6ztpQxUEuA9nIwzk8lz+FezUV1UsdyVHOUb3Vtx8uljgdWjht/Afh2/u9Xit/sX2eNr3T2gFv+8AiZwXjZNg3EjCrwO1WNH/4R7V9YsUj8R6d4juLEPLEWlt3miJxyqxKoAHrjPNdtRWf1q8Wra666dem1+/VbjtocFdRa7/a15dadZeLLFbqQO8dudJZCwULkeY7NyFHU11ehT3k2mKNQtb+3mjOwtfmDzJf9r9wxQfp06VpUVnUxHtIqPKlbqt/zC2twooormGFFFFABVDU7fzTbSJFvkSdPmC5KruBP4cVfoqZRUlYqMuV3MG5jkL3ln9nlaS4nWRJFjJXbxyW6DGDxmt6iipp0+S45T5kjL1+0+06eGSDzZkkTYQuWUbxnH4Cq+q3H2i9NhcRXUdrhWd4rWSTzTnO0MqkKOOe/wBOtblFaEAOgx0rK8R2gu9CuQsHnTKhMQCbmDYxx74JrVopNXVhxfK7nK+KrDVrzc8FrBc28SoYY/PdWD7hligQ5I7c8cmuoj3mJfMUK+BuCnIB+uBTqKmMeVt33G5XSXYKKKKskK5Ii6vfEbG2+3zBYZ42+2WhhS03AYET7VD5IAz8/AyCB97raKTVx3scd4PguLea1iiTVI44bMR3qXwkCCYYAEYbjseY/lx74rsaKKpu5OwUUUUhhXMr/wAlVb/sDf8AtaumrmV/5Kq3/YG/9rUAdNWUnhjR4/FkniVbJf7XkthaNclmJ8oHO0DOBz3AzWrRQAVzfjL/AJgP/Yat/wD2aukrm/GX/MB/7DVv/wCzUAdJRRRQBheKvCOn+L4dMi1R7hF03UYtRh8hwu6SPO0NkHK/McgYPvVXwP4MXwXbaxCl615/amrT6kSYtnl+ZtGzqc429eM+grp6KAPnPUf2fvElx4k1m/ey8Jaul/fy3MUup3d+kqI7EhSISq9/f612nwp+Gms+BvEN3d32keFrG3uLby2fSLi9lmZtwIB89ioXrnHOcV6xRQB5XrPgrx5Y/FnU/GHgm48OtHqNlFavDq5nyu3bnAjH+yOc9zx3ra0P/hbH9tW3/CSf8Ib/AGXu/wBI+wfavP24P3N/y5zjrXdUUAcT4h+D3gXxXrs+s6/of2u/uNvmzfa503bVCj5VcAcKBwKzP+GfPhj/ANCz/wCT9z/8cr0migDH8MeFNF8G6P8A2X4bsvsVl5jS+V5ryfMcZOXJPYd6m8Sf8irq3/XlN/6Aa0qzfEn/ACKurf8AXlN/6AaADw3/AMirpP8A15Q/+gCtKs3w3/yKuk/9eUP/AKAK0qAIrq2hvbOa1uoxLBPG0ciN0ZWGCPyNU9D8P6X4a0G30XRLRbXTrdWWKAMzgBiWPLEk5JJ5PetGigDiLf4NfD611wavB4XtFu1fzF+ZzGrZzkRFtg/75rt6KKACub0T/ke/FH/bp/6KNdJXN6J/yPfij/t0/wDRRoA6SiiigDJsfC+jab4i1HXbKxWLU9TVFu7gOxMoQYXgnA49AM965jVfgh8PNb1e61PU/DolvLuVpp5BeTpvdjknCuAMnngV3tFAGF4U8F6B4H06ax8L2H2G2ml86RPOkk3PgDOXYnoBW7RRQBzet/8AI9+F/wDt7/8ARQrpK5vW/wDke/C//b3/AOihXSUAFZOpeF9G1fXNM1jUbFZ7/SmdrOYuwMRYANwDg9B1Bx2rWooAKytO8MaNpOuanrGnWKwX+qlGvJgzEylRheCcDqegGe9atFABXN/EL/kRNQ/7Zf8Ao1a6Sub+IX/Iiah/2y/9GrQB0lNlijmheKZFkjdSro4yGB6gjuKdRQBwcXwR+HMOqDUE8K2nnBtwVnkaLP8A1yLbPwxXT+IPC+i+KtI/svxBpsF9Z7gyxSDGwjgFSMFTgkZBHBNatFAHNeFfh34U8EvK/hjRobGWVdry73kkK5zje5Jx7ZxXS0UUAc34y/5gP/Yat/8A2aukrm/GX/MB/wCw1b/+zV0lADfn/wBmj5/9mnUUAN+f/Zo+f/Zp1FADfn/2aPn/ANmnUUAN+f8A2aPn/wBmnUUAN+f/AGaPn/2adRQA35/9mj5/9mnUUAN+f/Zo+f8A2adRQA35/wDZo+f/AGadRQA35/8AZo+f/Zp1FADfn/2aPn/2adRQA35/9mj5/wDZp1FADfn/ANmj5/8AZp1FADfn/wBmj5/9mnUUAN+f/Zo+f/Zp1FADfn/2aPn/ANmnUUAN+f8A2aPn/wBmnUUAN+f/AGaPn/2adRQA35/9mj5/9mnUUAN+f/ZritT0291D4pAWetXmlFdHyzWkcL7/AN90Pmxv+mK7euZX/kqrf9gb/wBrUAO/4RnWv+h51v8A8BrH/wCR6P8AhGda/wCh51v/AMBrH/5HrpK+fx498e+INJ8W+K9O8Tafodn4cupok0SaySRpljGcSO3zKW+6MdWBHFAHrn/CM61/0POt/wDgNY//ACPXP+LPD2rRf2J5njLV5t2rQKu+3sxsJ3fMMQDke+R7V1PgzXpfE/gnSNbuLb7LLf2qTvEM4Ukds9u49iKreMv+YD/2Grf/ANmoAP8AhGda/wCh51v/AMBrH/5Ho/4RnWv+h51v/wABrH/5HrpKKAOb/wCEZ1r/AKHnW/8AwGsf/kej/hGda/6HnW//AAGsf/ketPxBo/8Ab+hXGmf2jf6Z5+3/AEvTZ/Jnjwwb5XwcZxg8dCRXzRZ2mu3Hwj8YeKX8eeLxfaHqktnbRjWH8p0UxAFx1J/eHoQOnFAH0J/wjOtf9Dzrf/gNY/8AyPR/wjOtf9Dzrf8A4DWP/wAj1z2g2EPh34J32oa3qWseIoLrSH1C7TUr0yyFTbbnijfgqpAOOcgnOa8b07wBeeKY/Dms+B/hd/wjtub6C7/tT/hI/tG6ANyPLdgw5wcgZ+XpzQB9C/8ACM61/wBDzrf/AIDWP/yPR/wjOtf9Dzrf/gNY/wDyPXmj+J5PD/7UOvhtK1jVUudNtbcJptv5/kZ2He4yNqDJ59/evTPHPi7S/Bvha61DVrlYi0bJbxBv3k8mPlRB1JJ/LqaAE/4RnWv+h51v/wABrH/5Ho/4RnWv+h51v/wGsf8A5HrgP2f9WGk+GW8FeIDJYeILKVpxZXZKu8MgDhkB6jLHIHQ9etex0Ac3/wAIzrX/AEPOt/8AgNY//I9Z+v8AhvWE8N6m7+NdZkVbSUlGt7IBhsPBxbg/lXaVm+JP+RV1b/rym/8AQDQBzugeG9Yfw3pjp411mNWtIiEW3siFGwcDNuT+daH/AAjOtf8AQ863/wCA1j/8j1peG/8AkVdJ/wCvKH/0AVpUAc3/AMIzrX/Q863/AOA1j/8AI9H/AAjOtf8AQ863/wCA1j/8j1z/AMT/ABP430eN7XwRoUUiLZSXdxrF1IPKtgmSVCd3wARnjkcHnFfwX8Qb5/2eovG3iN/tt7Da3M0pVBH5zRyyIowowM7VGQPegDqP+EZ1r/oedb/8BrH/AOR6P+EZ1r/oedb/APAax/8AkevLrjxB8U9M+HMPxIufEOn3Vs8Ud5J4fGnKsa27kYxN9/O1geenPJxXtOkalDrOiWOqWufIvbeO4jz/AHXUMP0NAGP/AMIzrX/Q863/AOA1j/8AI9c/o/h7Vn8aeI418Zaujp9l3SLb2e6TMZxnMGOPYD3zXolc3on/ACPfij/t0/8ARRoAP+EZ1r/oedb/APAax/8Akej/AIRnWv8Aoedb/wDAax/+R66SsTxdq+q6H4bnvdA0STW79WVYrOOQJuLHG4k9hnJ/p1oArf8ACM61/wBDzrf/AIDWP/yPR/wjOtf9Dzrf/gNY/wDyPXDfCrxj411j4j+J9B8cy2ol06GGRbW1jUJbs3O0MOW4IzknkcGtDV4vifrfifWf7P1q08IaFp2BaTSWcd017hclmLH5V9+MehwaAOp/4RnWv+h51v8A8BrH/wCR6P8AhGda/wCh51v/AMBrH/5HrJ+D3jTUfHnw5ttZ1mCOK882SF2iXaku08OB264PuD9K7qgDzvWPD2rJ408ORt4y1d3f7Vtka3s90eIxnGIMc+4Ptiug/wCEZ1r/AKHnW/8AwGsf/kejW/8Ake/C/wD29/8AooV0lAHN/wDCM61/0POt/wDgNY//ACPR/wAIzrX/AEPOt/8AgNY//I9dDM7R28jxxmV1UlY1IBcgdBnjmvDV+IvxHPxW8K2evadB4f0jWp5ETTSFlmZFHJkcjIOSCMbfceoB6j/wjOtf9Dzrf/gNY/8AyPR/wjOtf9Dzrf8A4DWP/wAj1W8e614s0u2srXwP4fTVb6+dozcTyhYbPAGGcZBOcnGMdPoDgfArxfr3jLwVqN54pukur211WW1DpEsYCKkbAYUAcFzz1xigDqP+EZ1r/oedb/8AAax/+R65/wAc+HtWh8F30kvjLV7hB5eY5LezCt+8X+7AD+teiVzfxC/5ETUP+2X/AKNWgA/4RnWv+h51v/wGsf8A5Ho/4RnWv+h51v8A8BrH/wCR66SmyFljYxrvYAlVzjJ9M0Ac7/wjOtf9Dzrf/gNY/wDyPR/wjOtf9Dzrf/gNY/8AyPXl3iTxD8VfCXhA+N9d1zTbVvtCj/hFnso2GxpAoQTKd7Ng5IB6ZOe1eh+Mbjxpf2GjW3giOHT5dQkzfX9yqyHT49u7Ijbh2J478jtnIAL3/CM61/0POt/+A1j/API9H/CM61/0POt/+A1j/wDI9cp4B8TeJ0+Jmt+CvE2qW3iBdPtEuk1W3tlgZWLAeVIi/KG+bIA/unrnj0+gDgfEOialZXnh+a78U6nqEY1m3BguIbVVP3ucxwq36131c34y/wCYD/2Grf8A9mrpKACo7i4itLaS4uHEcUSl3djwoHJNSVQ1yG5uNAvobCOGW5kgdYknGUZiOA3tSldLQa1epW0bxRpuuzPDZNMsqxrKEnhaMvG3R1BHKn1FbFcL4K0fULHWmnmsbiC3FhHA73zK0gkB+7HtJxGPSu6qmSjyn4z/ABJ1zwDdaPHoSWTLepM0v2qJnxsKYxhhj7xrpvDPiLVdZ+F9t4iuZLZbuWxe4ZEhITcN2ON2ccDvXD/Hzwb4h8V3uhP4d0uW/W2jnExjdF2FjHj7xHXafyrr/CGmalpvwetNGvdOnjv49PkiaHKnDkNgZzjuK760aKwUHG3Pd379SaN3iLS+HQyfhz8Qdb8U+JpLDVVsxCto8wMELI24Mg6ljxhjXc65rNxpH2f7Ppkl957+WNtxFFhjjavzsMk+3pXm3wr8J69oni6S71fS5rSA2MkYkdkILF4yBwx7KfyrsvGGl6rq11bJZ2VxLBARKrwar9l/eA5GV2NnGAQc964MAudpVfx0/Vfme7nkMNDFtYW3LZbaq5qaRrl3qU91Hd6TJYfZh8zPcxSfN/dIRiQcc81h6H4y1nVLx/tGiiOw+zSTLdKs6qSuNozJGoO7J6E9Kk8KaTq+mapOb2yuUguQWlkn1f7T83qE8teT0zmuYm0u00jWbh7YXFhdwSyLbafFpk1xHKvIX95yuHB55GN3bFevCjRlKcLLZWtdrz2be54ivc9G0vW4dQ8Pw6rPHJZRPF5jrcoYynHP3sceh70mha/aeILE3FnuQq5V4pBh0weCR2BGCPYis/VrS6ks9NWDw7bah5KAmGa88pYG2gbcbWDDqOfSo7ddWutctru/8LWlu6HabpNR3Mi4/uhBu+hNcnsoSi5L81p5Wvd/1uJN8qudPRRRXEUFFFFABRRRQAVXuL63tZYop5AskzbY17sc4/rViqeowNMIDEm5lnQk9woYE1Mm0tCopN6hLqttDdeQ5fO4KzhCVUnoC3QGrlYlxbXJkurRbZmS5mWQTgjao4znnORt9O9bdZ0pSlfmKnGKSsVb3UbXTljN3KI/NcIg6lj6AUy71W3sphHOsoBxukWMlEycDLdBTNbtXutP2wxeZKJEI6ZA3gn9BVTVGuLi/wDs01ldSWK7WzAFPmnPQksCAPTvWxmbdVNR1O00q2E9/MsSE7Vz1Y+gHc1bHQcY9qztetXvNDuooIvMmaMiMcZyeOM0pXtoVGzauTXeqWdlcW8FzMqTXLbIk6lj/hVuszV7SS4+xNDFveO6jZyMZCg8/hWnQr63E7WQUUUUxBWbBrtpPqjWG24imAZkMsLIsoXG4ox4bGR09a0q5e1hvpPFf2pLS+SONZRKb10ZOcYEOCSASBnIHAo6h0NfTtctdTuZbeFZ4poxuKXELRllzjcueo960a5rw/Bef23c3L297FbNFtJ1FlaUvuzhCpPyYzwfaulo6B1CiiigArmV/wCSqt/2Bv8A2tXTVzK/8lVb/sDf+1qAOmr5DubXwnc6d4lk+KkeqQ/EOaeY28McEoDttAj8sKNhXI6seR0PevryigDlfhlJrkvwz0NvFcZj1X7NiZWTawG4hNw7Ns25HrmpvGX/ADAf+w1b/wDs1dJXN+Mv+YD/ANhq3/8AZqAOkooooA4v4neIvDejeHFs/FXiTUPDseoPthvNN8xZwUIYhWRG29gcjkE14csPwUTTbrTk+Kfi9bG8kMtzah5hFO5xlnT7Nhido5PPA9K+paKAPJvhzf8AgHXtA1TwR4d8Xaz4jiubSTzl1JpTJDblViKxs0aBVG4YA6E15/8A2DdRa3qHhj4aXXxD1mLQpBb3PleJ4bC3gbn5E3R4OCCMYHQ19M1wWtfCHRdU1+61rTtW17w9f3rBrqXRdQNv55A6sMEflj9TQByHwoKP8XNa/tdNUsPEVvo9vbz2GpSpcu6JsHnfaFI8wnCZ+UctnJzgGp+L/g3bfFC78Q694gnutatGFulvdWtxLDZPH8p8pRFgHIznJ5yRjNeg+D/h1ovgu6u72xlvr7Ur1VW51DUbkzzygdAW4H5D09BXV0AeG+M/iB8E/HMds2q+I57e9tHD2uo2VpcxXMBBz8r+UePYg+o55r2TRdVsdc0S01PSZzc2V1EJIJirKXXscMAfzFXqKACs3xJ/yKurf9eU3/oBrSrN8Sf8irq3/XlN/wCgGgA8N/8AIq6T/wBeUP8A6AK0qzfDf/Iq6T/15Q/+gCtKgDG8YI0ngbXUjUszadcBVUZJPltxXlfgXQLvxD+yHHo9pH/pd1ZXfkI3G9vtEjKPxwOfevbaKAPnS/8AiNY6p8C7fwBp9nqEni82EGltpJspBIjJtRmJI2gYXPXuMgV7t4W0p9D8H6NpMzBpLCwgtmYHqUjVT/KtWigArm9E/wCR78Uf9un/AKKNdJXN6J/yPfij/t0/9FGgDpKKKKAPIPAcUi/tI/ER2jYKYbbDFeOUXFct8T/ijpniLxtP4G1LWZfDnhyykKatdiCVpr1lPMMYRWKr7ng9eRgN9EUUAcp8Otb8I6v4Ujg+H86y6Tpx+yqFhkj2MAGI+dQSTuyT3JPOa6uiigDm9b/5Hvwv/wBvf/ooV0lc3rf/ACPfhf8A7e//AEUK6SgAryD4mxSP8d/hmyRsyia5yQuRwFJ/SvX6KACvH/2bIZYfAuurNG8Z/wCEhueHUjpHED+oI/CvYKKACub+IX/Iiah/2y/9GrXSVzfxC/5ETUP+2X/o1aAOkqK5n+zWk0/lSS+UjP5cS7nfAzhR3J7CpaKAPmbxzrfw48UxXeseHNP1q2+I07xvBbxw3K3Mcy7VGV5jwAB05/GvUPFvibTNJ8CaNpfxU06+nt9WskTVbm2hdoYJVRC/mNGQy5fONvoe1ek0UAeEfCddPT4sXn/Cr475fAr6fuuWnSXyGuw3HlmX5s4x/wCPdsV7vRRQBzfjL/mA/wDYat//AGaukrm/GX/MB/7DVv8A+zV0lABRRRQAUUUUAFFFFABRRRQAUUUUAFFFFABRRRQAUUUUAFFFFABRRRQAUUUUAFFFFABRRRQAUUUUAFFFFABRRRQAUUUUAFFFFABXMr/yVVv+wN/7Wrpqx9W8KaPrd9HeahBM1xHH5SyQ3UsJ2Zzg7GGefWgDYorm/wDhAPD/APzyv/8Awa3X/wAco/4QDw//AM8r/wD8Gt1/8coA6Sub8Zf8wH/sNW//ALNR/wAIB4f/AOeV/wD+DW6/+OVHL8OPDU+zzra9k8tw6btTujtYdCP3nWgDqKK5v/hAPD//ADyv/wDwa3X/AMco/wCEA8P/APPK/wD/AAa3X/xygDpKK5v/AIQDw/8A88r/AP8ABrdf/HKP+EA8P/8APK//APBrdf8AxygDpKK5v/hAPD//ADyv/wDwa3X/AMco/wCEA8P/APPK/wD/AAa3X/xygDpKK5v/AIQDw/8A88r/AP8ABrdf/HKP+EA8P/8APK//APBrdf8AxygDpKK5v/hAPD//ADyv/wDwa3X/AMco/wCEA8P/APPK/wD/AAa3X/xygDpKzfEn/Iq6t/15Tf8AoBrN/wCEA8P/APPK/wD/AAa3X/xymyfDzw7LG0csF86OCrK2qXRBB6j/AFlAGp4b/wCRV0n/AK8of/QBWlXMx/Dzw7FGscUF8iIAqquqXQAA6D/WU7/hAPD/APzyv/8Awa3X/wAcoA6Siub/AOEA8P8A/PK//wDBrdf/AByj/hAPD/8Azyv/APwa3X/xygDpKK5v/hAPD/8Azyv/APwa3X/xyj/hAPD/APzyv/8Awa3X/wAcoA6Sub0T/ke/FH/bp/6KNH/CAeH/APnlf/8Ag1uv/jlRp8OPDUc0kyW16skuPMcandZbAwMnzOcUAdRRXN/8IB4f/wCeV/8A+DW6/wDjlH/CAeH/APnlf/8Ag1uv/jlAHSUVzf8AwgHh/wD55X//AINbr/45R/wgHh//AJ5X/wD4Nbr/AOOUAdJRXN/8IB4f/wCeV/8A+DW6/wDjlH/CAeH/APnlf/8Ag1uv/jlABrf/ACPfhf8A7e//AEUK6SuXf4ceGpJo5ntr1pIs+W51O6yuRg4PmcZqT/hAPD//ADyv/wDwa3X/AMcoA6Siub/4QDw//wA8r/8A8Gt1/wDHKP8AhAPD/wDzyv8A/wAGt1/8coA6Siub/wCEA8P/APPK/wD/AAa3X/xyj/hAPD//ADyv/wDwa3X/AMcoA6Sub+IX/Iiah/2y/wDRq0f8IB4f/wCeV/8A+DW6/wDjlRz/AA48NXULQ3Fteyxt95H1O6IPOenmUAdRRXN/8IB4f/55X/8A4Nbr/wCOUf8ACAeH/wDnlf8A/g1uv/jlAHSUVzf/AAgHh/8A55X/AP4Nbr/45R/wgHh//nlf/wDg1uv/AI5QB0lFc3/wgHh//nlf/wDg1uv/AI5R/wAIB4f/AOeV/wD+DW6/+OUAHjL/AJgP/Yat/wD2aukrnoPAmgW97b3SW908ttIJYjLqFxIquOh2s5B69xXQ0AFFFFABRRRQAUUUUAFFFFABRRRQAUUUUAFFFFABRRRQAUUUUAFFFFABRRRQAUUUUAFFFFABRRRQAUUUUAFFFFABRRRQAUUUUAFFFFABRRRQAUUUUAFFFFABRRRQAUUUUAFFFFABRRRQAUUUUAFFFFABRRRQAUUUUAFFFFABRRRQAUUUUAFFFFABRRRQAUUUUAFFFFABRRRQAUUUUAFFFFABRRRQAUUUUAf/2Q==)"
      ]
    },
    {
      "cell_type": "markdown",
      "metadata": {
        "id": "XEF7EOlBLJUl"
      },
      "source": [
        "\n",
        "\n",
        "```\n",
        "data =[\n",
        "       [1,'미국',39,41,33,113],\n",
        "       [2,'중국',38,32,18,88],\n",
        "       [3,'일본',27,14,17,58],\n",
        "       [4,'영국',22,21,22,65],\n",
        "       [5,'러시아',20,28,23,71],\n",
        "       [6,'호주',17,7,22,46],\n",
        "       [7,'네덜란드',10,12,14,36],\n",
        "       [8,'프랑스',10,12,11,33] \n",
        "       ]\n",
        "```\n",
        "\n"
      ]
    },
    {
      "cell_type": "code",
      "metadata": {
        "id": "0VrPyd2vMfqZ"
      },
      "source": [],
      "execution_count": null,
      "outputs": []
    },
    {
      "cell_type": "code",
      "metadata": {
        "id": "G7IrajJ1Mfqa"
      },
      "source": [
        "# 순위권에 든 모든 국가를 출력하시오\n"
      ],
      "execution_count": null,
      "outputs": []
    },
    {
      "cell_type": "code",
      "metadata": {
        "id": "68PFEdkqwJ7E"
      },
      "source": [
        "# 금메달보다 은메달 개수가 많은 나라를 출력하시오\n"
      ],
      "execution_count": null,
      "outputs": []
    },
    {
      "cell_type": "code",
      "metadata": {
        "id": "8OxHRNZdwJ7E"
      },
      "source": [
        "# 금메달보다 동메달 개수가 많은 나라를 출력하시오\n"
      ],
      "execution_count": null,
      "outputs": []
    },
    {
      "cell_type": "code",
      "metadata": {
        "id": "UrNdK5VZwJ7E"
      },
      "source": [
        "# 모든 나라의 금메달 합을 구하시오\n"
      ],
      "execution_count": null,
      "outputs": []
    },
    {
      "cell_type": "code",
      "metadata": {
        "id": "heDpBO2F-GTQ"
      },
      "source": [],
      "execution_count": null,
      "outputs": []
    }
  ]
}