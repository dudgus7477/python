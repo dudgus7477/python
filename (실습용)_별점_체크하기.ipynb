{
  "nbformat": 4,
  "nbformat_minor": 0,
  "metadata": {
    "colab": {
      "provenance": [],
      "include_colab_link": true
    },
    "kernelspec": {
      "name": "python3",
      "display_name": "Python 3"
    }
  },
  "cells": [
    {
      "cell_type": "markdown",
      "metadata": {
        "id": "view-in-github",
        "colab_type": "text"
      },
      "source": [
        "<a href=\"https://colab.research.google.com/github/dudgus7477/python/blob/main/(%EC%8B%A4%EC%8A%B5%EC%9A%A9)_%EB%B3%84%EC%A0%90_%EC%B2%B4%ED%81%AC%ED%95%98%EA%B8%B0.ipynb\" target=\"_parent\"><img src=\"https://colab.research.google.com/assets/colab-badge.svg\" alt=\"Open In Colab\"/></a>"
      ]
    },
    {
      "cell_type": "markdown",
      "source": [
        "# star_data.xlsx 데이터 파일 불러오기 위해 필요한 모듈 포함시키기"
      ],
      "metadata": {
        "id": "RxbaKuCzEyo8"
      }
    },
    {
      "cell_type": "code",
      "source": [],
      "metadata": {
        "id": "BgwTu-7vE3OU"
      },
      "execution_count": null,
      "outputs": []
    },
    {
      "cell_type": "markdown",
      "source": [
        "# 불러온 데이터 파일을 df라는 변수에 저장하기"
      ],
      "metadata": {
        "id": "j1y4Du7ZE3tS"
      }
    },
    {
      "cell_type": "code",
      "source": [],
      "metadata": {
        "id": "k_HeCxbiE6of"
      },
      "execution_count": null,
      "outputs": []
    },
    {
      "cell_type": "markdown",
      "source": [
        "# 기계학습을 위해 필요한 모듈 importing하기\n",
        "# 훈련데이터와 테스트 데이터로 나누기 위한 메소드\n",
        "# 서포트벡터머신 (Support vector machine) 포함시키기"
      ],
      "metadata": {
        "id": "XF3epetoE7aE"
      }
    },
    {
      "cell_type": "code",
      "source": [],
      "metadata": {
        "id": "mhjvHKLAFE5i"
      },
      "execution_count": null,
      "outputs": []
    },
    {
      "cell_type": "markdown",
      "source": [
        "# 기계학습을 위한 데이터 준비하기 (X: 특징 데이터, y:레이블 데이터)"
      ],
      "metadata": {
        "id": "Psn67gEdFFkD"
      }
    },
    {
      "cell_type": "code",
      "source": [],
      "metadata": {
        "id": "xWXy5A7jFNRo"
      },
      "execution_count": null,
      "outputs": []
    },
    {
      "cell_type": "markdown",
      "source": [
        "# 훈련데이터와 테스트 데이터를 8:2 비율로 나누어 각각 X_train, X_test, y_train, _y_test에 저장하기"
      ],
      "metadata": {
        "id": "SqnSRgtWFNoG"
      }
    },
    {
      "cell_type": "code",
      "source": [],
      "metadata": {
        "id": "8T9pV6fcFRod"
      },
      "execution_count": null,
      "outputs": []
    },
    {
      "cell_type": "markdown",
      "source": [
        "# 서포트벡터머신 클래스를 my_model에 저장하기\n"
      ],
      "metadata": {
        "id": "HbB4yY7VFSA4"
      }
    },
    {
      "cell_type": "code",
      "source": [
        "\n"
      ],
      "metadata": {
        "id": "vmcbueAIFWWP"
      },
      "execution_count": null,
      "outputs": []
    },
    {
      "cell_type": "markdown",
      "source": [
        "# 훈련하기"
      ],
      "metadata": {
        "id": "1UeBfYd3FWrK"
      }
    },
    {
      "cell_type": "code",
      "source": [],
      "metadata": {
        "id": "VW-YZEH0FY8G"
      },
      "execution_count": null,
      "outputs": []
    },
    {
      "cell_type": "markdown",
      "source": [
        "# 임의의 데이터를 입력해서 결과 값 예측하기"
      ],
      "metadata": {
        "id": "w6Q4XurTFZNL"
      }
    },
    {
      "cell_type": "code",
      "metadata": {
        "id": "7n-L87QQE6LY"
      },
      "source": [],
      "execution_count": null,
      "outputs": []
    }
  ]
}