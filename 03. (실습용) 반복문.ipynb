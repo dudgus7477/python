{
  "nbformat": 4,
  "nbformat_minor": 0,
  "metadata": {
    "colab": {
      "provenance": [],
      "include_colab_link": true
    },
    "kernelspec": {
      "name": "python3",
      "display_name": "Python 3"
    }
  },
  "cells": [
    {
      "cell_type": "markdown",
      "metadata": {
        "id": "view-in-github",
        "colab_type": "text"
      },
      "source": [
        "<a href=\"https://colab.research.google.com/github/dudgus7477/python/blob/main/03.%20(%EC%8B%A4%EC%8A%B5%EC%9A%A9)%20%EB%B0%98%EB%B3%B5%EB%AC%B8.ipynb\" target=\"_parent\"><img src=\"https://colab.research.google.com/assets/colab-badge.svg\" alt=\"Open In Colab\"/></a>"
      ]
    },
    {
      "cell_type": "markdown",
      "metadata": {
        "id": "UCdFsLZvKa_C"
      },
      "source": [
        "# 1. 반복문\n",
        "<img src = 'https://github.com/teacher-jiejie/allinone_AI/blob/images/4_%EB%B0%98%EB%B3%B5%EB%AC%B8.png?raw=true' width=500>\n",
        "\n"
      ]
    },
    {
      "cell_type": "code",
      "metadata": {
        "id": "HyLrFLZQt46j"
      },
      "source": [],
      "execution_count": null,
      "outputs": []
    },
    {
      "cell_type": "code",
      "metadata": {
        "id": "IQtiqCfit48u"
      },
      "source": [],
      "execution_count": null,
      "outputs": []
    },
    {
      "cell_type": "markdown",
      "metadata": {
        "id": "oEfcTfzDFlqS"
      },
      "source": [
        "<img src ='https://github.com/teacher-jiejie/allinone_AI/blob/images/5_%EB%B0%98%EB%B3%B5%EB%AC%B8%20%EB%8F%99%EC%9E%91%EA%B5%AC%EC%A1%B0.png?raw=true' width=500>"
      ]
    },
    {
      "cell_type": "markdown",
      "metadata": {
        "id": "wKvrSc-qou3A"
      },
      "source": [
        "# 2. range(시작숫자, 종료숫자)"
      ]
    },
    {
      "cell_type": "code",
      "metadata": {
        "id": "v5KMYQfk0ZVn"
      },
      "source": [],
      "execution_count": null,
      "outputs": []
    },
    {
      "cell_type": "markdown",
      "metadata": {
        "id": "y1BgbiiV1H11"
      },
      "source": [
        "> range()는 종료숫자-1 까지 포함한다"
      ]
    },
    {
      "cell_type": "code",
      "metadata": {
        "id": "tGmtMY-Z0k8p"
      },
      "source": [],
      "execution_count": null,
      "outputs": []
    },
    {
      "cell_type": "markdown",
      "metadata": {
        "id": "_8ebt0AF1bAw"
      },
      "source": [
        "> range()에서 시작숫자가 0일 때에는 생략 가능"
      ]
    },
    {
      "cell_type": "code",
      "metadata": {
        "id": "B1X6olKc1kuJ"
      },
      "source": [],
      "execution_count": null,
      "outputs": []
    },
    {
      "cell_type": "markdown",
      "metadata": {
        "id": "ZFSryQew5TMk"
      },
      "source": [
        "####실습1. 숫자 하나를 입력받고, 1부터 입력받은 숫자까지의 곱을 구해보세요.\n",
        "<br/>\n",
        "ex) 5를 입력받은 경우, 1x2x3x4x5 결과 출력하기\n"
      ]
    },
    {
      "cell_type": "code",
      "metadata": {
        "id": "J8hgPMKC06eR"
      },
      "source": [],
      "execution_count": null,
      "outputs": []
    },
    {
      "cell_type": "markdown",
      "metadata": {
        "id": "wHPuVO9W57ym"
      },
      "source": [
        "# 3. 구구단 출력 프로그램\n",
        "4단 출력하기 <br/>\n",
        "\n",
        "```\n",
        "4 x 1 = 4\n",
        "4 x 2 = 8\n",
        "...\n",
        "4 x 8 = 32\n",
        "4 x 9 = 36\n",
        "```\n",
        "\n",
        "\n"
      ]
    },
    {
      "cell_type": "code",
      "metadata": {
        "id": "3g1T-QQw5u2b"
      },
      "source": [],
      "execution_count": null,
      "outputs": []
    },
    {
      "cell_type": "markdown",
      "metadata": {
        "id": "v_SeRM6N7IH8"
      },
      "source": [
        "####실습2. 구구단 외울 단을 입력받아, 해당 숫자의 구구단을 외워봅시다.<br/>\n",
        "ex. 5를 입력받으면 5단 외우기"
      ]
    },
    {
      "cell_type": "code",
      "metadata": {
        "id": "wvdfZY6F7ChW"
      },
      "source": [],
      "execution_count": null,
      "outputs": []
    },
    {
      "cell_type": "markdown",
      "source": [
        "#### 물론 while도 가능!\n",
        "##### 간단하게 카운트다운을 실행해주는 코드를 작성해볼까요?"
      ],
      "metadata": {
        "id": "G75i4_mBjzDR"
      }
    },
    {
      "cell_type": "code",
      "source": [],
      "metadata": {
        "id": "A6FOEWZoj5Mf"
      },
      "execution_count": null,
      "outputs": []
    },
    {
      "cell_type": "markdown",
      "metadata": {
        "id": "yhW5H934_Lw6"
      },
      "source": [
        "# 4. 반복문 안의 조건문"
      ]
    },
    {
      "cell_type": "markdown",
      "metadata": {
        "id": "qDNUZNuU__KR"
      },
      "source": [
        "####실습3. 1부터 30까지 숫자의 홀수 짝수 판별하기"
      ]
    },
    {
      "cell_type": "code",
      "metadata": {
        "id": "D-vRuwUl_ykp"
      },
      "source": [],
      "execution_count": null,
      "outputs": []
    }
  ]
}