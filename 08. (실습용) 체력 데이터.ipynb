{
  "cells": [
    {
      "cell_type": "markdown",
      "metadata": {
        "id": "view-in-github",
        "colab_type": "text"
      },
      "source": [
        "<a href=\"https://colab.research.google.com/github/dudgus7477/python/blob/main/08.%20(%EC%8B%A4%EC%8A%B5%EC%9A%A9)%20%EC%B2%B4%EB%A0%A5%20%EB%8D%B0%EC%9D%B4%ED%84%B0.ipynb\" target=\"_parent\"><img src=\"https://colab.research.google.com/assets/colab-badge.svg\" alt=\"Open In Colab\"/></a>"
      ]
    },
    {
      "cell_type": "markdown",
      "metadata": {
        "id": "W_1NjPBt49HX"
      },
      "source": [
        "# 0. 들어가기 전에, 한글 폰트 설정해주기\n",
        "\n",
        "#### 코랩에서 한글 폰트 설정\n",
        "1) 한글 폰트 코드 실행\n",
        "\n",
        "```\n",
        "!sudo apt-get install -y fonts-nanum\n",
        "!sudo fc-cache -fv\n",
        "!rm ~/.cache/matplotlib -rf\n",
        "```\n",
        "\n",
        "2) 런타임 - 런타임 다시시작\n",
        "\n",
        "3) 글꼴 지정 명령어\n",
        "\n",
        "```\n",
        "plt.rc('font', family='NanumGothic')\n",
        "```\n",
        "\n"
      ]
    },
    {
      "cell_type": "code",
      "execution_count": null,
      "metadata": {
        "id": "zUc6MMux5Dle"
      },
      "outputs": [],
      "source": [
        "#한글폰트 설치\n"
      ]
    },
    {
      "cell_type": "markdown",
      "source": [
        "<img src='https://github.com/teacher-jiejie/allinone_AI/blob/images/87_%EB%A1%9C%EB%93%9C%EB%A7%B5.png?raw=true' width=700>"
      ],
      "metadata": {
        "id": "mKTfn7dyEBDZ"
      }
    },
    {
      "cell_type": "markdown",
      "metadata": {
        "id": "xvlpmB5a1UNg"
      },
      "source": [
        "#1. 프로젝트 목표 수립\n",
        "\n",
        ">목표 : 신장과 체력측정간의 관계 분석\n",
        "\n",
        "######하위목표1. 키가 크면 악력이 셀까?"
      ]
    },
    {
      "cell_type": "markdown",
      "source": [
        "#2. 데이터 읽어오기\n",
        "\n",
        ">출처 : 문화빅데이터플랫폼-국민체육진흥공단\n",
        "#####https://www.bigdata-culture.kr/bigdata/user/data_market/detail.do?id=b3924850-aa65-11ec-8ee4-95f65f846b27"
      ],
      "metadata": {
        "id": "41kLSN5fEaKF"
      }
    },
    {
      "cell_type": "markdown",
      "metadata": {
        "id": "DXwZEh4R7rWp"
      },
      "source": [
        "##하위목표 1 : 키가 크면 악력이 셀까?\n",
        "### 1) 알고리즘 작성\n"
      ]
    },
    {
      "cell_type": "code",
      "execution_count": null,
      "metadata": {
        "id": "WKWOwq0vA0SU"
      },
      "outputs": [],
      "source": [
        "#그래프 그리는 라이브러리 추가\n",
        "import\n",
        "import\n",
        "import\n",
        "df = pd.read_csv('체력측정종합데이터_2304.csv')\n",
        "\n",
        "df.head()"
      ]
    },
    {
      "cell_type": "code",
      "source": [
        "# 결측값 개수 확인\n"
      ],
      "metadata": {
        "id": "t34C_73VMvgl"
      },
      "execution_count": null,
      "outputs": []
    },
    {
      "cell_type": "code",
      "source": [
        "# 결측값이 있는 행 삭제하기\n"
      ],
      "metadata": {
        "id": "gSsS97i5M1rO"
      },
      "execution_count": null,
      "outputs": []
    },
    {
      "cell_type": "code",
      "source": [
        "#연령대별로 개수 비교하여 그래프로 표현하기\n",
        "plt.rc('font', family='NanumGothic')"
      ],
      "metadata": {
        "id": "FKRMlUW_DCX4"
      },
      "execution_count": null,
      "outputs": []
    },
    {
      "cell_type": "code",
      "source": [
        "#문자를 숫자로 변경\n",
        "from sklearn.preprocessing import LabelEncoder\n",
        "\n",
        "le = LabelEncoder()\n",
        "df['연령대'] = le.fit_transform(df['연령대'])\n",
        "df['성별'] = le.fit_transform(df['성별'])"
      ],
      "metadata": {
        "id": "TvvVKAVlSk4k"
      },
      "execution_count": null,
      "outputs": []
    },
    {
      "cell_type": "code",
      "source": [
        "#상대악력과 다른 속성 간 상관관계\n"
      ],
      "metadata": {
        "id": "DrPMznybSxYo"
      },
      "execution_count": null,
      "outputs": []
    },
    {
      "cell_type": "code",
      "source": [
        "# 상대악력과 신장 분포 확인하기\n"
      ],
      "metadata": {
        "id": "JsnrqsBuDK0s"
      },
      "execution_count": null,
      "outputs": []
    },
    {
      "cell_type": "code",
      "source": [
        "#상대악력과 가장 관련이 높은 것은?\n"
      ],
      "metadata": {
        "id": "1Q0-oACKXtfX"
      },
      "execution_count": null,
      "outputs": []
    },
    {
      "cell_type": "code",
      "source": [
        "#성별마다 특성이 다르지 않을까?\n"
      ],
      "metadata": {
        "id": "ni0E2VIgNwAm"
      },
      "execution_count": null,
      "outputs": []
    },
    {
      "cell_type": "markdown",
      "source": [
        "### 2) 결과 분석\n",
        "### - 체지방률이 높은 사람일수록 상대악력이 약하다\n",
        "### - 신장과는 의미있는 연관성은 없어보인다.\n",
        "### - http://mdon.co.kr/mobile/article.html?no=33076\n",
        "### - https://www.newsmp.com/news/articleView.html?idxno=238981\n",
        "### 실제 뉴스 기사를 보면 상대악력이 약할수록 당뇨병에 걸릴 확률이 높다는 것을 확인한 결과 체지방률과 관련성이 높다는 결과를 얻을 수 있다."
      ],
      "metadata": {
        "id": "5MzG0SktmDcQ"
      }
    }
  ],
  "metadata": {
    "colab": {
      "provenance": [],
      "authorship_tag": "ABX9TyPepo7homb/b9lGrbzRjtVF",
      "include_colab_link": true
    },
    "kernelspec": {
      "display_name": "Python 3",
      "name": "python3"
    },
    "language_info": {
      "name": "python"
    }
  },
  "nbformat": 4,
  "nbformat_minor": 0
}