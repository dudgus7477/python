{
  "nbformat": 4,
  "nbformat_minor": 0,
  "metadata": {
    "colab": {
      "provenance": [],
      "include_colab_link": true
    },
    "kernelspec": {
      "name": "python3",
      "display_name": "Python 3"
    }
  },
  "cells": [
    {
      "cell_type": "markdown",
      "metadata": {
        "id": "view-in-github",
        "colab_type": "text"
      },
      "source": [
        "<a href=\"https://colab.research.google.com/github/dudgus7477/python/blob/main/01.%20(%EC%8B%A4%EC%8A%B5%EC%9A%A9)%20%EC%9E%85%EC%B6%9C%EB%A0%A5%EA%B3%BC%20%EB%B3%80%EC%88%98.ipynb\" target=\"_parent\"><img src=\"https://colab.research.google.com/assets/colab-badge.svg\" alt=\"Open In Colab\"/></a>"
      ]
    },
    {
      "cell_type": "markdown",
      "metadata": {
        "id": "6VICvDDuPykk"
      },
      "source": [
        "\n",
        "# 1. 파이썬 명령어 형식\n",
        "<img src='https://github.com/teacher-jiejie/allinone_AI/blob/images/0_%EB%AA%85%EB%A0%B9%EC%96%B4.png?raw=true' width=400>"
      ]
    },
    {
      "cell_type": "markdown",
      "metadata": {
        "id": "LJAHyqRXU_tN"
      },
      "source": [
        "# 2. 출력명령어\n",
        "### 출력 명령어 형식\n",
        "\n",
        "\n",
        "> print( 출력할 내용 )\n",
        "\n",
        "\n"
      ]
    },
    {
      "cell_type": "code",
      "metadata": {
        "id": "fHog4iYYL-q4"
      },
      "source": [
        "# 숫자 출력 818\n"
      ],
      "execution_count": null,
      "outputs": []
    },
    {
      "cell_type": "code",
      "metadata": {
        "id": "-Mn2gKC1y2XL"
      },
      "source": [
        "# 문자 출력 8월 18일\n"
      ],
      "execution_count": null,
      "outputs": []
    },
    {
      "cell_type": "markdown",
      "metadata": {
        "id": "KqFYkVtu_foZ"
      },
      "source": [
        "### 문자는 따옴표로 감싸주어야 함\n",
        "> print('문자')\n",
        "\n",
        "> print(\"문자\")\n"
      ]
    },
    {
      "cell_type": "code",
      "metadata": {
        "id": "HndD3I4ybonQ"
      },
      "source": [
        "# 문자는 따옴표로 감싸주어야 함\n"
      ],
      "execution_count": null,
      "outputs": []
    },
    {
      "cell_type": "code",
      "metadata": {
        "id": "_eXE0Zei_TnT"
      },
      "source": [],
      "execution_count": null,
      "outputs": []
    },
    {
      "cell_type": "code",
      "source": [],
      "metadata": {
        "id": "Lt3LZ9YviSbM"
      },
      "execution_count": null,
      "outputs": []
    },
    {
      "cell_type": "code",
      "source": [],
      "metadata": {
        "id": "Is3kYE-0ihP-"
      },
      "execution_count": null,
      "outputs": []
    },
    {
      "cell_type": "code",
      "metadata": {
        "id": "RqdNnVh2bopV"
      },
      "source": [
        "# 연산하여 출력하기\n"
      ],
      "execution_count": null,
      "outputs": []
    },
    {
      "cell_type": "code",
      "metadata": {
        "id": "h2t7k_yh-IMC"
      },
      "source": [
        "# 숫자라 하더라도 따옴표로 감싸면 문자로 인식\n"
      ],
      "execution_count": null,
      "outputs": []
    },
    {
      "cell_type": "code",
      "metadata": {
        "id": "osxJgfZU_b3y"
      },
      "source": [
        "# ** 제곱\n",
        "\n",
        "\n",
        "# 몫\n",
        "\n",
        "\n",
        "# 나머지\n"
      ],
      "execution_count": null,
      "outputs": []
    },
    {
      "cell_type": "markdown",
      "metadata": {
        "id": "OEQFUbNCA9fm"
      },
      "source": [
        "### 연결하여 출력하기\n",
        "> print(  ,  )\n",
        "<br/>\n",
        "> print(  +  )"
      ]
    },
    {
      "cell_type": "code",
      "metadata": {
        "id": "O0URZFHFAFfE"
      },
      "source": [
        "# 콤마, 로 연결하여 출력하기\n"
      ],
      "execution_count": null,
      "outputs": []
    },
    {
      "cell_type": "code",
      "metadata": {
        "id": "QEjssp5gAU2N"
      },
      "source": [
        "# 더하기 +로 연결하여 출력하기\n"
      ],
      "execution_count": null,
      "outputs": []
    },
    {
      "cell_type": "code",
      "metadata": {
        "id": "BXvFmqhtAzy1"
      },
      "source": [],
      "execution_count": null,
      "outputs": []
    },
    {
      "cell_type": "code",
      "metadata": {
        "id": "Pme3T740B8JM"
      },
      "source": [
        "# +는 문자열 붙이기만 가능\n"
      ],
      "execution_count": null,
      "outputs": []
    },
    {
      "cell_type": "markdown",
      "metadata": {
        "id": "zNlNwOErClxr"
      },
      "source": [
        "# 3. 입력명령어\n",
        "### 입력명령어 형식\n",
        "> input('입력안내문')\n",
        "######입력한 단어가 결과창에 뜸"
      ]
    },
    {
      "cell_type": "code",
      "metadata": {
        "id": "P35K2YD_B_fJ"
      },
      "source": [],
      "execution_count": null,
      "outputs": []
    },
    {
      "cell_type": "code",
      "metadata": {
        "id": "g-WfHArdGA8b"
      },
      "source": [
        "#생일 입력받고 출력하기"
      ],
      "execution_count": null,
      "outputs": []
    },
    {
      "cell_type": "markdown",
      "source": [
        "######입력받은 결과는 항상 문자열로 나타남."
      ],
      "metadata": {
        "id": "QV6NmyzdqKRD"
      }
    },
    {
      "cell_type": "markdown",
      "metadata": {
        "id": "5TblMxseGyGG"
      },
      "source": [
        "### 순차구조\n",
        "\n",
        "<img src='https://github.com/teacher-jiejie/allinone_AI/blob/images/66_%E1%84%89%E1%85%AE%E1%86%AB%E1%84%8E%E1%85%A1%E1%84%80%E1%85%AE%E1%84%8C%E1%85%A9.png?raw=true' width=600>"
      ]
    },
    {
      "cell_type": "code",
      "metadata": {
        "id": "WmWrf3RZGMq1"
      },
      "source": [],
      "execution_count": null,
      "outputs": []
    },
    {
      "cell_type": "code",
      "metadata": {
        "id": "dlc34WbEGQLy"
      },
      "source": [],
      "execution_count": null,
      "outputs": []
    },
    {
      "cell_type": "code",
      "metadata": {
        "id": "CfX6PoPdGX4T"
      },
      "source": [
        "print('---000 웹사이트 회원가입 ---')\n",
        "\n",
        "print('000 웹사이트 가입을 환영합니다!')"
      ],
      "execution_count": null,
      "outputs": []
    },
    {
      "cell_type": "markdown",
      "source": [
        "####실습1. 환영 문구만들기"
      ],
      "metadata": {
        "id": "U2ekDul_n-mr"
      }
    },
    {
      "cell_type": "code",
      "metadata": {
        "id": "3bE5MP4lIutc"
      },
      "source": [
        "#위에꺼에서 코드를 추가해서 아래처럼 출력되도록 만들어봅시다!\n",
        "#~(내가 입력한 아이디)님 가입을 환영합니다."
      ],
      "execution_count": null,
      "outputs": []
    },
    {
      "cell_type": "markdown",
      "metadata": {
        "id": "V1qdZa0ljBQz"
      },
      "source": [
        "# 4. 변수\n",
        "\n",
        "\n",
        "> 변수이름 = 저장할 데이터\n",
        "\n",
        "\n",
        "<img src = 'https://github.com/teacher-jiejie/allinone_AI/blob/images/%E1%84%87%E1%85%A7%E1%86%AB%E1%84%89%E1%85%AE%E1%84%8B%E1%85%B5%E1%84%86%E1%85%B5%E1%84%8C%E1%85%B5.png?raw=true' width =500>\n",
        "\n",
        "\n"
      ]
    },
    {
      "cell_type": "code",
      "metadata": {
        "id": "qGjujI1abo3T"
      },
      "source": [],
      "execution_count": null,
      "outputs": []
    },
    {
      "cell_type": "code",
      "metadata": {
        "id": "9d4QKvR6bo5d"
      },
      "source": [
        "# 변수를 활용하여 고등학생을 출력해봅시다.\n",
        "b = '학생'\n",
        "c = '고등'\n",
        "d = '대'\n"
      ],
      "execution_count": null,
      "outputs": []
    },
    {
      "cell_type": "markdown",
      "metadata": {
        "id": "YrIAYo4nP3wW"
      },
      "source": [
        "### 변수를 활용하여 연산하기\n",
        "1) 커피 가격 계산하기"
      ]
    },
    {
      "cell_type": "code",
      "source": [
        "#파이썬에서는 변수이름 꼭 영어로 할 필요 없음!\n"
      ],
      "metadata": {
        "id": "j9DqUk3_myyl"
      },
      "execution_count": null,
      "outputs": []
    },
    {
      "cell_type": "code",
      "source": [
        "#아메리카노 가격 출력\n"
      ],
      "metadata": {
        "id": "kh-v20vXnEfS"
      },
      "execution_count": null,
      "outputs": []
    },
    {
      "cell_type": "code",
      "source": [
        "# 아메리카노 3개, 카페라떼 1개, 카푸치노 2개 구매한 가격은?\n"
      ],
      "metadata": {
        "id": "omRqay8SnCUh"
      },
      "execution_count": null,
      "outputs": []
    },
    {
      "cell_type": "markdown",
      "source": [
        "\n",
        "\n",
        "> 코랩에서는 print안써도 결과 출력됨(but, 여러가지 한번에 출력할 때는 print 사용하기)\n",
        "\n"
      ],
      "metadata": {
        "id": "a4AUHovbnd7i"
      }
    },
    {
      "cell_type": "code",
      "source": [],
      "metadata": {
        "id": "bNTkXx28nwZg"
      },
      "execution_count": null,
      "outputs": []
    },
    {
      "cell_type": "markdown",
      "source": [
        "####실습2. vip는 10% 할인되는 카페\n",
        "\n",
        "\n",
        "*   3가지 메뉴에 대한 개수를 입력받고\n",
        "*   출력결과가 아래와 같이 나오도록 만들어봅시다.\n",
        "*   vip가 되시면 (원래가격)원을 (vip가격)원에 구매 가능합니다!\n",
        "\n"
      ],
      "metadata": {
        "id": "xgU6-gx4n8PU"
      }
    },
    {
      "cell_type": "code",
      "source": [],
      "metadata": {
        "id": "W4bDtrI0nsB4"
      },
      "execution_count": null,
      "outputs": []
    },
    {
      "cell_type": "markdown",
      "metadata": {
        "id": "BZHvWTLfU4kx"
      },
      "source": [
        "# 5. 데이터타입\n",
        "\n",
        "> 정수 int\n",
        "\n",
        "> 실수 float\n",
        "\n",
        "> 문자 str"
      ]
    },
    {
      "cell_type": "code",
      "source": [],
      "metadata": {
        "id": "84mA0dS9q35b"
      },
      "execution_count": null,
      "outputs": []
    },
    {
      "cell_type": "code",
      "source": [],
      "metadata": {
        "id": "hb9r51VCq-Km"
      },
      "execution_count": null,
      "outputs": []
    },
    {
      "cell_type": "code",
      "source": [],
      "metadata": {
        "id": "zPFZrhFcrD_Y"
      },
      "execution_count": null,
      "outputs": []
    },
    {
      "cell_type": "markdown",
      "metadata": {
        "id": "iE7vQvAqSLQJ"
      },
      "source": [
        "# 5-1. 데이터타입 변경하기\n",
        "변경하려는 데이터타입으로 감싸주기\n",
        "\n",
        "> 정수로 변경하기\n",
        "<br/> int(변수)\n",
        "\n",
        "> 실수로 변경하기\n",
        "<br/> float(변수)\n",
        "\n",
        "> 문자로 변경하기\n",
        "<br/> str(변수)\n",
        "\n"
      ]
    },
    {
      "cell_type": "code",
      "source": [
        "# 변수v를 정수로 만들어보기\n"
      ],
      "metadata": {
        "id": "xPdKdzmwrMPi"
      },
      "execution_count": null,
      "outputs": []
    },
    {
      "cell_type": "markdown",
      "source": [
        "####실습3. 섭씨온도 화씨온도로 변환하기\n",
        "\n",
        "\n",
        "*   섭씨온도 정수로 입력받고\n",
        "*   화씨온도로 변환한 결과를 출력\n",
        "\n",
        "\n",
        "> 화씨온도로 변환하는 식 =  9 / 5 * 섭씨온도 + 32 (9/5는 나눗셈한 결과)\n",
        "\n",
        "*   입력예시 : 30\n",
        "*   출력예시 : 86.000\n",
        "\n",
        "\n",
        "\n",
        "\n",
        "\n"
      ],
      "metadata": {
        "id": "-AkRzeWlrouh"
      }
    },
    {
      "cell_type": "code",
      "source": [],
      "metadata": {
        "id": "ifA-Q8fusGx6"
      },
      "execution_count": null,
      "outputs": []
    }
  ]
}