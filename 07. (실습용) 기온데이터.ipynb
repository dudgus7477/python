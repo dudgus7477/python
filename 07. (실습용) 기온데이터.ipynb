{
  "cells": [
    {
      "cell_type": "markdown",
      "metadata": {
        "id": "view-in-github",
        "colab_type": "text"
      },
      "source": [
        "<a href=\"https://colab.research.google.com/github/dudgus7477/python/blob/main/07.%20(%EC%8B%A4%EC%8A%B5%EC%9A%A9)%20%EA%B8%B0%EC%98%A8%EB%8D%B0%EC%9D%B4%ED%84%B0.ipynb\" target=\"_parent\"><img src=\"https://colab.research.google.com/assets/colab-badge.svg\" alt=\"Open In Colab\"/></a>"
      ]
    },
    {
      "cell_type": "markdown",
      "metadata": {
        "id": "W_1NjPBt49HX"
      },
      "source": [
        "# 0. 들어가기 전에, 한글 폰트 설정해주기\n",
        "\n",
        "#### 코랩에서 한글 폰트 설정\n",
        "1) 한글 폰트 코드 실행\n",
        "\n",
        "```\n",
        "!sudo apt-get install -y fonts-nanum\n",
        "!sudo fc-cache -fv\n",
        "!rm ~/.cache/matplotlib -rf\n",
        "```\n",
        "\n",
        "2) 런타임 - 런타임 다시시작\n",
        "\n",
        "3) 글꼴 지정 명령어\n",
        "\n",
        "```\n",
        "plt.rc('font', family='NanumGothic')\n",
        "```\n",
        "\n"
      ]
    },
    {
      "cell_type": "code",
      "source": [],
      "metadata": {
        "id": "_cCr4jj2fwqF"
      },
      "execution_count": 11,
      "outputs": []
    },
    {
      "cell_type": "markdown",
      "metadata": {
        "id": "xvlpmB5a1UNg"
      },
      "source": [
        "#1. 프로젝트 목표 수립\n",
        "\n",
        ">목표 : 기온 데이터 분석\n",
        "\n",
        "######하위목표1. 최근 1년간 청주에서 가장 더웠던 날은?\n",
        "\n",
        "######하위목표2. 기온데이터를 시각화하기기"
      ]
    },
    {
      "cell_type": "markdown",
      "metadata": {
        "id": "Or6lYeeM2Yji"
      },
      "source": [
        "#####기상청은 기상자료개방포털 홈페이지를 통해 기상 관련 데이터를 무료로 개방한다.\n",
        "\n",
        "> https://data.kma.go.kr\n",
        "\n",
        "#####'기후통계분석-> 기온분석'\n"
      ]
    },
    {
      "cell_type": "code",
      "source": [],
      "metadata": {
        "id": "wjVhnbRlihyQ"
      },
      "execution_count": 11,
      "outputs": []
    },
    {
      "cell_type": "markdown",
      "metadata": {
        "id": "6lF1_gt77C4a"
      },
      "source": [
        "#2. 데이터 다뤄보기\n"
      ]
    },
    {
      "cell_type": "markdown",
      "metadata": {
        "id": "DXwZEh4R7rWp"
      },
      "source": [
        "##하위목표 1\n",
        "###청주의 최고기온이 가장 높았던 날은 언제였고, 몇 도였을까?\n",
        "######(기간은 자신이 설정한 만큼으로)\n"
      ]
    },
    {
      "cell_type": "code",
      "source": [
        "#최고기온만 뽑아서 출력하기\n"
      ],
      "metadata": {
        "id": "mK832w8Kj9gM"
      },
      "execution_count": 11,
      "outputs": []
    },
    {
      "cell_type": "code",
      "source": [
        "#정렬하기\n"
      ],
      "metadata": {
        "id": "zwqJDuOLOWPc"
      },
      "execution_count": 6,
      "outputs": []
    },
    {
      "cell_type": "code",
      "source": [],
      "metadata": {
        "id": "8uaUzc13OaoE"
      },
      "execution_count": 10,
      "outputs": []
    },
    {
      "cell_type": "code",
      "source": [
        "#내림차순으로\n"
      ],
      "metadata": {
        "id": "xXzhk47NiUrg"
      },
      "execution_count": 10,
      "outputs": []
    },
    {
      "cell_type": "code",
      "source": [],
      "metadata": {
        "id": "1oX_rYGsmkzJ"
      },
      "execution_count": 9,
      "outputs": []
    },
    {
      "cell_type": "markdown",
      "source": [
        "##결론 : 최근 1년간 가장 기온이 높았던 날은 ?입니다."
      ],
      "metadata": {
        "id": "e0tijcQ1oBpX"
      }
    },
    {
      "cell_type": "markdown",
      "metadata": {
        "id": "Zl57Z3acCbK3"
      },
      "source": [
        "##하위목표2\n",
        "###30도가 넘는 날 빈도수 체크해서 기온 차이 시각화하기\n"
      ]
    },
    {
      "cell_type": "code",
      "source": [],
      "metadata": {
        "id": "yPcBT8NgGWme"
      },
      "execution_count": null,
      "outputs": []
    },
    {
      "cell_type": "code",
      "source": [
        "#리스트로 변환 후 반복문 이용해서 빈도수 구하기"
      ],
      "metadata": {
        "id": "amFNxbZtklsf"
      },
      "execution_count": null,
      "outputs": []
    },
    {
      "cell_type": "code",
      "source": [
        "#그래프로 시각화하기"
      ],
      "metadata": {
        "id": "5tXsUlqxG77l"
      },
      "execution_count": null,
      "outputs": []
    },
    {
      "cell_type": "markdown",
      "source": [
        "###결론\n",
        "\n",
        "\n",
        "\n",
        "\n",
        "\n"
      ],
      "metadata": {
        "id": "8D_M3RC_Hy14"
      }
    }
  ],
  "metadata": {
    "colab": {
      "provenance": [],
      "authorship_tag": "ABX9TyMZx0sOTdsSKoRpeBS/haEG",
      "include_colab_link": true
    },
    "kernelspec": {
      "display_name": "Python 3",
      "name": "python3"
    },
    "language_info": {
      "name": "python"
    }
  },
  "nbformat": 4,
  "nbformat_minor": 0
}